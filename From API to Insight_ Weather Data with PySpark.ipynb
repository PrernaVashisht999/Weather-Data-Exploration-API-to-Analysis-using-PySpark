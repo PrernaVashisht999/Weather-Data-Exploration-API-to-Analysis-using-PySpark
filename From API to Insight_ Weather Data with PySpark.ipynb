{
 "cells": [
  {
   "cell_type": "markdown",
   "metadata": {
    "application/vnd.databricks.v1+cell": {
     "cellMetadata": {
      "byteLimit": 2048000,
      "rowLimit": 10000
     },
     "inputWidgets": {},
     "nuid": "5a8099fb-a1c0-4584-814b-429f2f829724",
     "showTitle": false,
     "tableResultSettingsMap": {},
     "title": ""
    }
   },
   "source": [
    "# **Weather Data Flow: API to Analysis using PySpark**"
   ]
  },
  {
   "cell_type": "markdown",
   "metadata": {
    "application/vnd.databricks.v1+cell": {
     "cellMetadata": {
      "byteLimit": 2048000,
      "rowLimit": 10000
     },
     "inputWidgets": {},
     "nuid": "38f8aeaa-d01d-4eca-bb02-a63ec9e49086",
     "showTitle": false,
     "tableResultSettingsMap": {},
     "title": ""
    }
   },
   "source": [
    "**FETCHING DATA FROM WEATHER API**"
   ]
  },
  {
   "cell_type": "code",
   "execution_count": 0,
   "metadata": {
    "application/vnd.databricks.v1+cell": {
     "cellMetadata": {
      "byteLimit": 2048000,
      "rowLimit": 10000
     },
     "inputWidgets": {},
     "nuid": "66756de4-24db-4aa1-ac52-2ea6b9c81095",
     "showTitle": false,
     "tableResultSettingsMap": {},
     "title": ""
    }
   },
   "outputs": [
    {
     "output_type": "stream",
     "name": "stdout",
     "output_type": "stream",
     "text": [
      "{'state_code': 'NC', 'lon': -78.5, 'lat': 35.5, 'country_code': 'US', 'data': [{'timestamp_utc': '2025-04-04T12:00:00', 'timestamp_local': '2025-04-04T08:00:00', 'wind_cdir': 'SW', 'rh': 92, 'pod': 'd', 'pres': 1017, 'clouds': 88, 'vis': 9.8, 'wind_spd': 7.2, 'wind_cdir_full': 'southwest', 'clouds_hi': 100, 'datetime': '2025-04-04:12', 'clouds_low': 22, 'snow': 0, 'dni': 535, 'dewpt': 68.5, 'uv': 1, 'wind_dir': 220, 'ghi': 166, 'dhi': 60, 'precip': 0, 'weather': {'icon': 'c04d', 'description': 'Overcast clouds', 'code': 804}, 'temp': 71.1, 'app_temp': 72.1, 'pop': 0, 'ts': 1743768000, 'snow_depth': 0, 'slp': 1024, 'solar_rad': 59.68488, 'clouds_mid': 0, 'ozone': 287, 'wind_gust_spd': 14.5}, {'timestamp_utc': '2025-04-04T15:00:00', 'timestamp_local': '2025-04-04T11:00:00', 'wind_cdir': 'SW', 'rh': 76, 'pod': 'd', 'pres': 1018, 'clouds': 78, 'vis': 14.4, 'wind_spd': 8.9, 'wind_cdir_full': 'southwest', 'clouds_hi': 95, 'datetime': '2025-04-04:15', 'clouds_low': 37, 'snow': 0, 'dni': 884, 'dewpt': 69.6, 'uv': 3, 'wind_dir': 230, 'ghi': 752, 'dhi': 113, 'precip': 0, 'weather': {'icon': 'c04d', 'description': 'Overcast clouds', 'code': 804}, 'temp': 77.7, 'app_temp': 78.8, 'pop': 0, 'ts': 1743778800, 'snow_depth': 0, 'slp': 1025, 'solar_rad': 417.26978, 'clouds_mid': 0, 'ozone': 285, 'wind_gust_spd': 15.4}, {'timestamp_utc': '2025-04-04T18:00:00', 'timestamp_local': '2025-04-04T14:00:00', 'wind_cdir': 'WSW', 'rh': 57, 'pod': 'd', 'pres': 1016, 'clouds': 45, 'vis': 14.9, 'wind_spd': 8.9, 'wind_cdir_full': 'west-southwest', 'clouds_hi': 7, 'datetime': '2025-04-04:18', 'clouds_low': 14, 'snow': 0, 'dni': 925, 'dewpt': 68, 'uv': 6, 'wind_dir': 240, 'ghi': 905, 'dhi': 121, 'precip': 0, 'weather': {'icon': 'c03d', 'description': 'Broken clouds', 'code': 803}, 'temp': 84.9, 'app_temp': 88.2, 'pop': 0, 'ts': 1743789600, 'snow_depth': 0, 'slp': 1023, 'solar_rad': 801.3242, 'clouds_mid': 0, 'ozone': 287, 'wind_gust_spd': 15.4}, {'timestamp_utc': '2025-04-04T21:00:00', 'timestamp_local': '2025-04-04T17:00:00', 'wind_cdir': 'SW', 'rh': 48, 'pod': 'd', 'pres': 1014, 'clouds': 43, 'vis': 14.9, 'wind_spd': 8.1, 'wind_cdir_full': 'southwest', 'clouds_hi': 100, 'datetime': '2025-04-04:21', 'clouds_low': 100, 'snow': 0, 'dni': 789, 'dewpt': 65.8, 'uv': 2, 'wind_dir': 230, 'ghi': 495, 'dhi': 95, 'precip': 0, 'weather': {'icon': 'c03d', 'description': 'Broken clouds', 'code': 803}, 'temp': 88, 'app_temp': 90.3, 'pop': 0, 'ts': 1743800400, 'snow_depth': 0, 'slp': 1022, 'solar_rad': 444.80432, 'clouds_mid': 0, 'ozone': 287, 'wind_gust_spd': 13.6}, {'timestamp_utc': '2025-04-05T00:00:00', 'timestamp_local': '2025-04-04T20:00:00', 'wind_cdir': 'SSW', 'rh': 62, 'pod': 'n', 'pres': 1015, 'clouds': 48, 'vis': 14.9, 'wind_spd': 3.6, 'wind_cdir_full': 'south-southwest', 'clouds_hi': 100, 'datetime': '2025-04-05:00', 'clouds_low': 83, 'snow': 0, 'dni': 0, 'dewpt': 66.2, 'uv': 0, 'wind_dir': 200, 'ghi': 0, 'dhi': 0, 'precip': 0, 'weather': {'icon': 'c03n', 'description': 'Broken clouds', 'code': 803}, 'temp': 80.4, 'app_temp': 82.6, 'pop': 0, 'ts': 1743811200, 'snow_depth': 0, 'slp': 1022, 'solar_rad': 0, 'clouds_mid': 0, 'ozone': 288, 'wind_gust_spd': 8.1}, {'timestamp_utc': '2025-04-05T03:00:00', 'timestamp_local': '2025-04-04T23:00:00', 'wind_cdir': 'SSW', 'rh': 81, 'pod': 'n', 'pres': 1015, 'clouds': 38, 'vis': 12.8, 'wind_spd': 4.5, 'wind_cdir_full': 'south-southwest', 'clouds_hi': 0, 'datetime': '2025-04-05:03', 'clouds_low': 0, 'snow': 0, 'dni': 0, 'dewpt': 68.7, 'uv': 0, 'wind_dir': 200, 'ghi': 0, 'dhi': 0, 'precip': 0, 'weather': {'icon': 'c02n', 'description': 'Scattered clouds', 'code': 802}, 'temp': 74.8, 'app_temp': 75.9, 'pop': 0, 'ts': 1743822000, 'snow_depth': 0, 'slp': 1023, 'solar_rad': 0, 'clouds_mid': 0, 'ozone': 289, 'wind_gust_spd': 9.6}, {'timestamp_utc': '2025-04-05T06:00:00', 'timestamp_local': '2025-04-05T02:00:00', 'wind_cdir': 'SSW', 'rh': 88, 'pod': 'n', 'pres': 1014, 'clouds': 26, 'vis': 11.5, 'wind_spd': 4.5, 'wind_cdir_full': 'south-southwest', 'clouds_hi': 4, 'datetime': '2025-04-05:06', 'clouds_low': 0, 'snow': 0, 'dni': 0, 'dewpt': 67.8, 'uv': 0, 'wind_dir': 210, 'ghi': 0, 'dhi': 0, 'precip': 0, 'weather': {'icon': 'c02n', 'description': 'Scattered clouds', 'code': 802}, 'temp': 71.6, 'app_temp': 72.5, 'pop': 0, 'ts': 1743832800, 'snow_depth': 0, 'slp': 1022, 'solar_rad': 0, 'clouds_mid': 0, 'ozone': 289, 'wind_gust_spd': 10.5}, {'timestamp_utc': '2025-04-05T09:00:00', 'timestamp_local': '2025-04-05T05:00:00', 'wind_cdir': 'SSW', 'rh': 95, 'pod': 'n', 'pres': 1015, 'clouds': 63, 'vis': 10.4, 'wind_spd': 5.4, 'wind_cdir_full': 'south-southwest', 'clouds_hi': 100, 'datetime': '2025-04-05:09', 'clouds_low': 2, 'snow': 0, 'dni': 0, 'dewpt': 66.7, 'uv': 0, 'wind_dir': 210, 'ghi': 0, 'dhi': 0, 'precip': 0, 'weather': {'icon': 'c03n', 'description': 'Broken clouds', 'code': 803}, 'temp': 68.2, 'app_temp': 69.3, 'pop': 0, 'ts': 1743843600, 'snow_depth': 0, 'slp': 1022, 'solar_rad': 0, 'clouds_mid': 0, 'ozone': 289, 'wind_gust_spd': 11}, {'timestamp_utc': '2025-04-05T12:00:00', 'timestamp_local': '2025-04-05T08:00:00', 'wind_cdir': 'SSW', 'rh': 95, 'pod': 'd', 'pres': 1016, 'clouds': 81, 'vis': 9.6, 'wind_spd': 6.3, 'wind_cdir_full': 'south-southwest', 'clouds_hi': 100, 'datetime': '2025-04-05:12', 'clouds_low': 8, 'snow': 0, 'dni': 541, 'dewpt': 66.2, 'uv': 1, 'wind_dir': 210, 'ghi': 170, 'dhi': 60, 'precip': 0, 'weather': {'icon': 'c04d', 'description': 'Overcast clouds', 'code': 804}, 'temp': 67.8, 'app_temp': 68.7, 'pop': 0, 'ts': 1743854400, 'snow_depth': 0, 'slp': 1023, 'solar_rad': 86.403694, 'clouds_mid': 72, 'ozone': 290, 'wind_gust_spd': 12.1}, {'timestamp_utc': '2025-04-05T15:00:00', 'timestamp_local': '2025-04-05T11:00:00', 'wind_cdir': 'SW', 'rh': 70, 'pod': 'd', 'pres': 1015, 'clouds': 60, 'vis': 14.8, 'wind_spd': 8.1, 'wind_cdir_full': 'southwest', 'clouds_hi': 100, 'datetime': '2025-04-05:15', 'clouds_low': 9, 'snow': 0, 'dni': 885, 'dewpt': 66, 'uv': 3, 'wind_dir': 220, 'ghi': 756, 'dhi': 113, 'precip': 0, 'weather': {'icon': 'c03d', 'description': 'Broken clouds', 'code': 803}, 'temp': 76.6, 'app_temp': 77.2, 'pop': 0, 'ts': 1743865200, 'snow_depth': 0, 'slp': 1022, 'solar_rad': 597.21625, 'clouds_mid': 0, 'ozone': 288, 'wind_gust_spd': 14.8}, {'timestamp_utc': '2025-04-05T18:00:00', 'timestamp_local': '2025-04-05T14:00:00', 'wind_cdir': 'SSW', 'rh': 52, 'pod': 'd', 'pres': 1012, 'clouds': 39, 'vis': 14.9, 'wind_spd': 9.8, 'wind_cdir_full': 'south-southwest', 'clouds_hi': 100, 'datetime': '2025-04-05:18', 'clouds_low': 16, 'snow': 0, 'dni': 926, 'dewpt': 64.6, 'uv': 6, 'wind_dir': 210, 'ghi': 908, 'dhi': 121, 'precip': 0, 'weather': {'icon': 'c02d', 'description': 'Scattered clouds', 'code': 802}, 'temp': 84, 'app_temp': 85.6, 'pop': 0, 'ts': 1743876000, 'snow_depth': 0, 'slp': 1019, 'solar_rad': 830.5982, 'clouds_mid': 0, 'ozone': 289, 'wind_gust_spd': 16.8}, {'timestamp_utc': '2025-04-05T21:00:00', 'timestamp_local': '2025-04-05T17:00:00', 'wind_cdir': 'SSW', 'rh': 45, 'pod': 'd', 'pres': 1010, 'clouds': 38, 'vis': 14.9, 'wind_spd': 10.7, 'wind_cdir_full': 'south-southwest', 'clouds_hi': 100, 'datetime': '2025-04-05:21', 'clouds_low': 14, 'snow': 0, 'dni': 790, 'dewpt': 62.2, 'uv': 2, 'wind_dir': 210, 'ghi': 498, 'dhi': 95, 'precip': 0, 'weather': {'icon': 'c02d', 'description': 'Scattered clouds', 'code': 802}, 'temp': 86, 'app_temp': 86.5, 'pop': 0, 'ts': 1743886800, 'snow_depth': 0, 'slp': 1017, 'solar_rad': 459.08566, 'clouds_mid': 0, 'ozone': 290, 'wind_gust_spd': 17.7}, {'timestamp_utc': '2025-04-06T00:00:00', 'timestamp_local': '2025-04-05T20:00:00', 'wind_cdir': 'S', 'rh': 58, 'pod': 'n', 'pres': 1009, 'clouds': 47, 'vis': 14.9, 'wind_spd': 8.1, 'wind_cdir_full': 'south', 'clouds_hi': 100, 'datetime': '2025-04-06:00', 'clouds_low': 0, 'snow': 0, 'dni': 0, 'dewpt': 63.1, 'uv': 0, 'wind_dir': 190, 'ghi': 0, 'dhi': 0, 'precip': 0, 'weather': {'icon': 'c03n', 'description': 'Broken clouds', 'code': 803}, 'temp': 79.2, 'app_temp': 79.5, 'pop': 0, 'ts': 1743897600, 'snow_depth': 0, 'slp': 1016, 'solar_rad': 0, 'clouds_mid': 0, 'ozone': 290, 'wind_gust_spd': 15.2}, {'timestamp_utc': '2025-04-06T03:00:00', 'timestamp_local': '2025-04-05T23:00:00', 'wind_cdir': 'SSW', 'rh': 72, 'pod': 'n', 'pres': 1009, 'clouds': 45, 'vis': 14.9, 'wind_spd': 9.8, 'wind_cdir_full': 'south-southwest', 'clouds_hi': 100, 'datetime': '2025-04-06:03', 'clouds_low': 0, 'snow': 0, 'dni': 0, 'dewpt': 63.5, 'uv': 0, 'wind_dir': 200, 'ghi': 0, 'dhi': 0, 'precip': 0, 'weather': {'icon': 'c03n', 'description': 'Broken clouds', 'code': 803}, 'temp': 73, 'app_temp': 73.6, 'pop': 0, 'ts': 1743908400, 'snow_depth': 0, 'slp': 1017, 'solar_rad': 0, 'clouds_mid': 10, 'ozone': 292, 'wind_gust_spd': 18.3}, {'timestamp_utc': '2025-04-06T06:00:00', 'timestamp_local': '2025-04-06T02:00:00', 'wind_cdir': 'SSW', 'rh': 81, 'pod': 'n', 'pres': 1008, 'clouds': 56, 'vis': 14.9, 'wind_spd': 10.7, 'wind_cdir_full': 'south-southwest', 'clouds_hi': 100, 'datetime': '2025-04-06:06', 'clouds_low': 0, 'snow': 0, 'dni': 0, 'dewpt': 63.1, 'uv': 0, 'wind_dir': 200, 'ghi': 0, 'dhi': 0, 'precip': 0, 'weather': {'icon': 'c03n', 'description': 'Broken clouds', 'code': 803}, 'temp': 69.3, 'app_temp': 69.8, 'pop': 0, 'ts': 1743919200, 'snow_depth': 0, 'slp': 1016, 'solar_rad': 0, 'clouds_mid': 0, 'ozone': 291, 'wind_gust_spd': 19.5}, {'timestamp_utc': '2025-04-06T09:00:00', 'timestamp_local': '2025-04-06T05:00:00', 'wind_cdir': 'SSW', 'rh': 89, 'pod': 'n', 'pres': 1009, 'clouds': 57, 'vis': 14.9, 'wind_spd': 11.6, 'wind_cdir_full': 'south-southwest', 'clouds_hi': 100, 'datetime': '2025-04-06:09', 'clouds_low': 4, 'snow': 0, 'dni': 0, 'dewpt': 63.9, 'uv': 0, 'wind_dir': 210, 'ghi': 0, 'dhi': 0, 'precip': 0, 'weather': {'icon': 'c03n', 'description': 'Broken clouds', 'code': 803}, 'temp': 67.3, 'app_temp': 67.8, 'pop': 0, 'ts': 1743930000, 'snow_depth': 0, 'slp': 1016, 'solar_rad': 0, 'clouds_mid': 4, 'ozone': 293, 'wind_gust_spd': 20.8}, {'timestamp_utc': '2025-04-06T12:00:00', 'timestamp_local': '2025-04-06T08:00:00', 'wind_cdir': 'SSW', 'rh': 89, 'pod': 'd', 'pres': 1009, 'clouds': 60, 'vis': 14.9, 'wind_spd': 11.6, 'wind_cdir_full': 'south-southwest', 'clouds_hi': 87, 'datetime': '2025-04-06:12', 'clouds_low': 16, 'snow': 0, 'dni': 546, 'dewpt': 64.6, 'uv': 1, 'wind_dir': 210, 'ghi': 175, 'dhi': 61, 'precip': 0, 'weather': {'icon': 'c03d', 'description': 'Broken clouds', 'code': 803}, 'temp': 68, 'app_temp': 68.7, 'pop': 0, 'ts': 1743940800, 'snow_depth': 0, 'slp': 1016, 'solar_rad': 138.39096, 'clouds_mid': 5, 'ozone': 295, 'wind_gust_spd': 20.8}, {'timestamp_utc': '2025-04-06T15:00:00', 'timestamp_local': '2025-04-06T11:00:00', 'wind_cdir': 'SSW', 'rh': 66, 'pod': 'd', 'pres': 1008, 'clouds': 49, 'vis': 14.9, 'wind_spd': 14.3, 'wind_cdir_full': 'south-southwest', 'clouds_hi': 10, 'datetime': '2025-04-06:15', 'clouds_low': 0, 'snow': 0, 'dni': 886, 'dewpt': 65.3, 'uv': 4, 'wind_dir': 210, 'ghi': 761, 'dhi': 113, 'precip': 0, 'weather': {'icon': 'c03d', 'description': 'Broken clouds', 'code': 803}, 'temp': 77.5, 'app_temp': 78.1, 'pop': 0, 'ts': 1743951600, 'snow_depth': 0, 'slp': 1016, 'solar_rad': 661.57294, 'clouds_mid': 0, 'ozone': 296, 'wind_gust_spd': 24.6}, {'timestamp_utc': '2025-04-06T18:00:00', 'timestamp_local': '2025-04-06T14:00:00', 'wind_cdir': 'SW', 'rh': 49, 'pod': 'd', 'pres': 1006, 'clouds': 55, 'vis': 14.9, 'wind_spd': 14.3, 'wind_cdir_full': 'southwest', 'clouds_hi': 100, 'datetime': '2025-04-06:18', 'clouds_low': 1, 'snow': 0, 'dni': 926, 'dewpt': 63.5, 'uv': 5, 'wind_dir': 220, 'ghi': 911, 'dhi': 121, 'precip': 0, 'weather': {'icon': 'c03d', 'description': 'Broken clouds', 'code': 803}, 'temp': 84.9, 'app_temp': 86, 'pop': 0, 'ts': 1743962400, 'snow_depth': 0, 'slp': 1014, 'solar_rad': 760.8983, 'clouds_mid': 0, 'ozone': 298, 'wind_gust_spd': 25.9}, {'timestamp_utc': '2025-04-06T21:00:00', 'timestamp_local': '2025-04-06T17:00:00', 'wind_cdir': 'SW', 'rh': 45, 'pod': 'd', 'pres': 1004, 'clouds': 66, 'vis': 14.9, 'wind_spd': 14.5, 'wind_cdir_full': 'southwest', 'clouds_hi': 100, 'datetime': '2025-04-06:21', 'clouds_low': 34, 'snow': 0, 'dni': 791, 'dewpt': 62.4, 'uv': 2, 'wind_dir': 220, 'ghi': 501, 'dhi': 96, 'precip': 0, 'weather': {'icon': 'c03d', 'description': 'Broken clouds', 'code': 803}, 'temp': 86.2, 'app_temp': 86.9, 'pop': 0, 'ts': 1743973200, 'snow_depth': 0, 'slp': 1011, 'solar_rad': 368.5212, 'clouds_mid': 0, 'ozone': 297, 'wind_gust_spd': 24.6}, {'timestamp_utc': '2025-04-07T00:00:00', 'timestamp_local': '2025-04-06T20:00:00', 'wind_cdir': 'S', 'rh': 60, 'pod': 'n', 'pres': 1003, 'clouds': 81, 'vis': 14.9, 'wind_spd': 9.2, 'wind_cdir_full': 'south', 'clouds_hi': 97, 'datetime': '2025-04-07:00', 'clouds_low': 0, 'snow': 0, 'dni': 0, 'dewpt': 62.2, 'uv': 0, 'wind_dir': 190, 'ghi': 0, 'dhi': 0, 'precip': 0.01, 'weather': {'icon': 'c04n', 'description': 'Overcast clouds', 'code': 804}, 'temp': 77.4, 'app_temp': 77.5, 'pop': 20, 'ts': 1743984000, 'snow_depth': 0, 'slp': 1011, 'solar_rad': 0, 'clouds_mid': 56, 'ozone': 298, 'wind_gust_spd': 17.7}, {'timestamp_utc': '2025-04-07T03:00:00', 'timestamp_local': '2025-04-06T23:00:00', 'wind_cdir': 'SSW', 'rh': 74, 'pod': 'n', 'pres': 1004, 'clouds': 83, 'vis': 9.9, 'wind_spd': 10.7, 'wind_cdir_full': 'south-southwest', 'clouds_hi': 100, 'datetime': '2025-04-07:03', 'clouds_low': 100, 'snow': 0, 'dni': 0, 'dewpt': 62.8, 'uv': 0, 'wind_dir': 210, 'ghi': 0, 'dhi': 0, 'precip': 0.02, 'weather': {'icon': 'c04n', 'description': 'Overcast clouds', 'code': 804}, 'temp': 71.4, 'app_temp': 71.8, 'pop': 35, 'ts': 1743994800, 'snow_depth': 0, 'slp': 1011, 'solar_rad': 0, 'clouds_mid': 89, 'ozone': 297, 'wind_gust_spd': 19.5}, {'timestamp_utc': '2025-04-07T06:00:00', 'timestamp_local': '2025-04-07T02:00:00', 'wind_cdir': 'SSW', 'rh': 86, 'pod': 'n', 'pres': 1003, 'clouds': 90, 'vis': 14.9, 'wind_spd': 9.8, 'wind_cdir_full': 'south-southwest', 'clouds_hi': 100, 'datetime': '2025-04-07:06', 'clouds_low': 92, 'snow': 0, 'dni': 0, 'dewpt': 63.9, 'uv': 0, 'wind_dir': 210, 'ghi': 0, 'dhi': 0, 'precip': 0.02, 'weather': {'icon': 'c04n', 'description': 'Overcast clouds', 'code': 804}, 'temp': 68.4, 'app_temp': 68.9, 'pop': 35, 'ts': 1744005600, 'snow_depth': 0, 'slp': 1011, 'solar_rad': 0, 'clouds_mid': 26, 'ozone': 295, 'wind_gust_spd': 19}, {'timestamp_utc': '2025-04-07T09:00:00', 'timestamp_local': '2025-04-07T05:00:00', 'wind_cdir': 'SSW', 'rh': 91, 'pod': 'n', 'pres': 1001, 'clouds': 94, 'vis': 12.5, 'wind_spd': 8.9, 'wind_cdir_full': 'south-southwest', 'clouds_hi': 100, 'datetime': '2025-04-07:09', 'clouds_low': 26, 'snow': 0, 'dni': 0, 'dewpt': 63.9, 'uv': 0, 'wind_dir': 210, 'ghi': 0, 'dhi': 0, 'precip': 0.04, 'weather': {'icon': 'r04n', 'description': 'Light shower rain', 'code': 520}, 'temp': 66.6, 'app_temp': 67.3, 'pop': 55, 'ts': 1744016400, 'snow_depth': 0, 'slp': 1009, 'solar_rad': 0, 'clouds_mid': 36, 'ozone': 296, 'wind_gust_spd': 18.1}, {'timestamp_utc': '2025-04-07T12:00:00', 'timestamp_local': '2025-04-07T08:00:00', 'wind_cdir': 'SW', 'rh': 95, 'pod': 'd', 'pres': 1000, 'clouds': 91, 'vis': 4, 'wind_spd': 8.9, 'wind_cdir_full': 'southwest', 'clouds_hi': 100, 'datetime': '2025-04-07:12', 'clouds_low': 88, 'snow': 0, 'dni': 552, 'dewpt': 63.7, 'uv': 1, 'wind_dir': 220, 'ghi': 179, 'dhi': 62, 'precip': 0.03, 'weather': {'icon': 'd02d', 'description': 'Drizzle', 'code': 301}, 'temp': 65.3, 'app_temp': 65.8, 'pop': 50, 'ts': 1744027200, 'snow_depth': 0, 'slp': 1008, 'solar_rad': 114.14881, 'clouds_mid': 86, 'ozone': 298, 'wind_gust_spd': 16.1}, {'timestamp_utc': '2025-04-07T15:00:00', 'timestamp_local': '2025-04-07T11:00:00', 'wind_cdir': 'SW', 'rh': 86, 'pod': 'd', 'pres': 999, 'clouds': 91, 'vis': 1.6, 'wind_spd': 8.9, 'wind_cdir_full': 'southwest', 'clouds_hi': 100, 'datetime': '2025-04-07:15', 'clouds_low': 100, 'snow': 0, 'dni': 887, 'dewpt': 63.3, 'uv': 2, 'wind_dir': 220, 'ghi': 765, 'dhi': 113, 'precip': 0.05, 'weather': {'icon': 'r04d', 'description': 'Light shower rain', 'code': 520}, 'temp': 67.6, 'app_temp': 68.2, 'pop': 65, 'ts': 1744038000, 'snow_depth': 0, 'slp': 1006, 'solar_rad': 221.62468, 'clouds_mid': 100, 'ozone': 297, 'wind_gust_spd': 16.1}, {'timestamp_utc': '2025-04-07T18:00:00', 'timestamp_local': '2025-04-07T14:00:00', 'wind_cdir': 'WSW', 'rh': 80, 'pod': 'd', 'pres': 999, 'clouds': 90, 'vis': 14.3, 'wind_spd': 8.7, 'wind_cdir_full': 'west-southwest', 'clouds_hi': 100, 'datetime': '2025-04-07:18', 'clouds_low': 100, 'snow': 0, 'dni': 926, 'dewpt': 60.1, 'uv': 3, 'wind_dir': 240, 'ghi': 915, 'dhi': 121, 'precip': 0.08, 'weather': {'icon': 'r04d', 'description': 'Light shower rain', 'code': 520}, 'temp': 66.4, 'app_temp': 66.6, 'pop': 75, 'ts': 1744048800, 'snow_depth': 0, 'slp': 1007, 'solar_rad': 288.02353, 'clouds_mid': 100, 'ozone': 300, 'wind_gust_spd': 15.4}, {'timestamp_utc': '2025-04-07T21:00:00', 'timestamp_local': '2025-04-07T17:00:00', 'wind_cdir': 'WNW', 'rh': 80, 'pod': 'd', 'pres': 998, 'clouds': 86, 'vis': 14.8, 'wind_spd': 6.7, 'wind_cdir_full': 'west-northwest', 'clouds_hi': 100, 'datetime': '2025-04-07:21', 'clouds_low': 100, 'snow': 0, 'dni': 792, 'dewpt': 57, 'uv': 1, 'wind_dir': 290, 'ghi': 504, 'dhi': 96, 'precip': 0.08, 'weather': {'icon': 'r04d', 'description': 'Light shower rain', 'code': 520}, 'temp': 63.1, 'app_temp': 63.1, 'pop': 75, 'ts': 1744059600, 'snow_depth': 0, 'slp': 1006, 'solar_rad': 197.87834, 'clouds_mid': 100, 'ozone': 307, 'wind_gust_spd': 12.1}, {'timestamp_utc': '2025-04-08T00:00:00', 'timestamp_local': '2025-04-07T20:00:00', 'wind_cdir': 'NNW', 'rh': 80, 'pod': 'n', 'pres': 1002, 'clouds': 83, 'vis': 14.9, 'wind_spd': 4.7, 'wind_cdir_full': 'north-northwest', 'clouds_hi': 97, 'datetime': '2025-04-08:00', 'clouds_low': 100, 'snow': 0, 'dni': 0, 'dewpt': 53.8, 'uv': 0, 'wind_dir': 340, 'ghi': 0, 'dhi': 0, 'precip': 0.08, 'weather': {'icon': 'r04n', 'description': 'Light shower rain', 'code': 520}, 'temp': 60.1, 'app_temp': 60.1, 'pop': 75, 'ts': 1744070400, 'snow_depth': 0, 'slp': 1009, 'solar_rad': 0, 'clouds_mid': 0, 'ozone': 314, 'wind_gust_spd': 8.7}, {'timestamp_utc': '2025-04-08T03:00:00', 'timestamp_local': '2025-04-07T23:00:00', 'wind_cdir': 'NNW', 'rh': 78, 'pod': 'n', 'pres': 1005, 'clouds': 78, 'vis': 14.9, 'wind_spd': 4.6, 'wind_cdir_full': 'north-northwest', 'clouds_hi': 0, 'datetime': '2025-04-08:03', 'clouds_low': 100, 'snow': 0, 'dni': 0, 'dewpt': 49.3, 'uv': 0, 'wind_dir': 335, 'ghi': 0, 'dhi': 0, 'precip': 0.05, 'weather': {'icon': 'r04n', 'description': 'Light shower rain', 'code': 520}, 'temp': 56.1, 'app_temp': 56.1, 'pop': 65, 'ts': 1744081200, 'snow_depth': 0, 'slp': 1012, 'solar_rad': 0, 'clouds_mid': 0, 'ozone': 317, 'wind_gust_spd': 9.4}, {'timestamp_utc': '2025-04-08T06:00:00', 'timestamp_local': '2025-04-08T02:00:00', 'wind_cdir': 'NNW', 'rh': 77, 'pod': 'n', 'pres': 1007, 'clouds': 74, 'vis': 14.9, 'wind_spd': 4.5, 'wind_cdir_full': 'north-northwest', 'clouds_hi': 0, 'datetime': '2025-04-08:06', 'clouds_low': 0, 'snow': 0, 'dni': 0, 'dewpt': 45.1, 'uv': 0, 'wind_dir': 330, 'ghi': 0, 'dhi': 0, 'precip': 0.02, 'weather': {'icon': 'c04n', 'description': 'Overcast clouds', 'code': 804}, 'temp': 52.2, 'app_temp': 52.2, 'pop': 40, 'ts': 1744092000, 'snow_depth': 0, 'slp': 1015, 'solar_rad': 0, 'clouds_mid': 0, 'ozone': 327, 'wind_gust_spd': 10.1}, {'timestamp_utc': '2025-04-08T09:00:00', 'timestamp_local': '2025-04-08T05:00:00', 'wind_cdir': 'NNW', 'rh': 74, 'pod': 'n', 'pres': 1009, 'clouds': 43, 'vis': 14.9, 'wind_spd': 5.8, 'wind_cdir_full': 'north-northwest', 'clouds_hi': 0, 'datetime': '2025-04-08:09', 'clouds_low': 0, 'snow': 0, 'dni': 0, 'dewpt': 41.9, 'uv': 0, 'wind_dir': 335, 'ghi': 0, 'dhi': 0, 'precip': 0.015, 'weather': {'icon': 'c03n', 'description': 'Broken clouds', 'code': 803}, 'temp': 49.8, 'app_temp': 49.8, 'pop': 35, 'ts': 1744102800, 'snow_depth': 0, 'slp': 1017, 'solar_rad': 0, 'clouds_mid': 0, 'ozone': 331, 'wind_gust_spd': 12.3}, {'timestamp_utc': '2025-04-08T12:00:00', 'timestamp_local': '2025-04-08T08:00:00', 'wind_cdir': 'NNW', 'rh': 71, 'pod': 'd', 'pres': 1012, 'clouds': 12, 'vis': 14.9, 'wind_spd': 7.2, 'wind_cdir_full': 'north-northwest', 'clouds_hi': 0, 'datetime': '2025-04-08:12', 'clouds_low': 0, 'snow': 0, 'dni': 558, 'dewpt': 38.7, 'uv': 1, 'wind_dir': 340, 'ghi': 184, 'dhi': 62, 'precip': 0.01, 'weather': {'icon': 'c02d', 'description': 'Few clouds', 'code': 801}, 'temp': 47.7, 'app_temp': 47.7, 'pop': 25, 'ts': 1744113600, 'snow_depth': 0, 'slp': 1020, 'solar_rad': 183.72757, 'clouds_mid': 0, 'ozone': 338, 'wind_gust_spd': 14.5}, {'timestamp_utc': '2025-04-08T15:00:00', 'timestamp_local': '2025-04-08T11:00:00', 'wind_cdir': 'NNW', 'rh': 54, 'pod': 'd', 'pres': 1015, 'clouds': 8, 'vis': 14.9, 'wind_spd': 8.4, 'wind_cdir_full': 'north-northwest', 'clouds_hi': 0, 'datetime': '2025-04-08:15', 'clouds_low': 4, 'snow': 0, 'dni': 888, 'dewpt': 36.1, 'uv': 6, 'wind_dir': 335, 'ghi': 769, 'dhi': 113, 'precip': 0.005, 'weather': {'icon': 'c02d', 'description': 'Few clouds', 'code': 801}, 'temp': 52.3, 'app_temp': 52.3, 'pop': 15, 'ts': 1744124400, 'snow_depth': 0, 'slp': 1023, 'solar_rad': 768.681, 'clouds_mid': 0, 'ozone': 341, 'wind_gust_spd': 15.8}, {'timestamp_utc': '2025-04-08T18:00:00', 'timestamp_local': '2025-04-08T14:00:00', 'wind_cdir': 'NNW', 'rh': 36, 'pod': 'd', 'pres': 1014, 'clouds': 4, 'vis': 14.9, 'wind_spd': 9.6, 'wind_cdir_full': 'north-northwest', 'clouds_hi': 0, 'datetime': '2025-04-08:18', 'clouds_low': 5, 'snow': 0, 'dni': 927, 'dewpt': 30.4, 'uv': 8, 'wind_dir': 330, 'ghi': 918, 'dhi': 122, 'precip': 0, 'weather': {'icon': 'c02d', 'description': 'Few clouds', 'code': 801}, 'temp': 57, 'app_temp': 57, 'pop': 0, 'ts': 1744135200, 'snow_depth': 0, 'slp': 1022, 'solar_rad': 917.5954, 'clouds_mid': 0, 'ozone': 342, 'wind_gust_spd': 17}, {'timestamp_utc': '2025-04-08T21:00:00', 'timestamp_local': '2025-04-08T17:00:00', 'wind_cdir': 'NNW', 'rh': 40, 'pod': 'd', 'pres': 1014, 'clouds': 3, 'vis': 14.9, 'wind_spd': 6.7, 'wind_cdir_full': 'north-northwest', 'clouds_hi': 0, 'datetime': '2025-04-08:21', 'clouds_low': 3, 'snow': 0, 'dni': 793, 'dewpt': 30.7, 'uv': 3, 'wind_dir': 340, 'ghi': 506, 'dhi': 96, 'precip': 0, 'weather': {'icon': 'c02d', 'description': 'Few clouds', 'code': 801}, 'temp': 54.5, 'app_temp': 54.5, 'pop': 0, 'ts': 1744146000, 'snow_depth': 0, 'slp': 1022, 'solar_rad': 506.40698, 'clouds_mid': 0, 'ozone': 348, 'wind_gust_spd': 12.3}, {'timestamp_utc': '2025-04-09T00:00:00', 'timestamp_local': '2025-04-08T20:00:00', 'wind_cdir': 'NNW', 'rh': 44, 'pod': 'n', 'pres': 1016, 'clouds': 2, 'vis': 14.9, 'wind_spd': 3.8, 'wind_cdir_full': 'north-northwest', 'clouds_hi': 0, 'datetime': '2025-04-09:00', 'clouds_low': 0, 'snow': 0, 'dni': 0, 'dewpt': 30.7, 'uv': 0, 'wind_dir': 350, 'ghi': 0, 'dhi': 0, 'precip': 0, 'weather': {'icon': 'c02n', 'description': 'Few clouds', 'code': 801}, 'temp': 52, 'app_temp': 52, 'pop': 0, 'ts': 1744156800, 'snow_depth': 0, 'slp': 1024, 'solar_rad': 0, 'clouds_mid': 0, 'ozone': 349, 'wind_gust_spd': 7.6}, {'timestamp_utc': '2025-04-09T03:00:00', 'timestamp_local': '2025-04-08T23:00:00', 'wind_cdir': 'S', 'rh': 53, 'pod': 'n', 'pres': 1018, 'clouds': 2, 'vis': 14.9, 'wind_spd': 3.7, 'wind_cdir_full': 'south', 'clouds_hi': 0, 'datetime': '2025-04-09:03', 'clouds_low': 0, 'snow': 0, 'dni': 0, 'dewpt': 30.6, 'uv': 0, 'wind_dir': 185, 'ghi': 0, 'dhi': 0, 'precip': 0, 'weather': {'icon': 'c02n', 'description': 'Few clouds', 'code': 801}, 'temp': 46.8, 'app_temp': 46.8, 'pop': 0, 'ts': 1744167600, 'snow_depth': 0, 'slp': 1026, 'solar_rad': 0, 'clouds_mid': 0, 'ozone': 345, 'wind_gust_spd': 7.9}, {'timestamp_utc': '2025-04-09T06:00:00', 'timestamp_local': '2025-04-09T02:00:00', 'wind_cdir': 'NNE', 'rh': 62, 'pod': 'n', 'pres': 1019, 'clouds': 1, 'vis': 14.9, 'wind_spd': 3.6, 'wind_cdir_full': 'north-northeast', 'clouds_hi': 0, 'datetime': '2025-04-09:06', 'clouds_low': 0, 'snow': 0, 'dni': 0, 'dewpt': 29.5, 'uv': 0, 'wind_dir': 20, 'ghi': 0, 'dhi': 0, 'precip': 0, 'weather': {'icon': 'c01n', 'description': 'Clear Sky', 'code': 800}, 'temp': 41.5, 'app_temp': 39.6, 'pop': 0, 'ts': 1744178400, 'snow_depth': 0, 'slp': 1027, 'solar_rad': 0, 'clouds_mid': 0, 'ozone': 340, 'wind_gust_spd': 8.3}, {'timestamp_utc': '2025-04-09T09:00:00', 'timestamp_local': '2025-04-09T05:00:00', 'wind_cdir': 'NNE', 'rh': 66, 'pod': 'n', 'pres': 1021, 'clouds': 2, 'vis': 14.9, 'wind_spd': 3.6, 'wind_cdir_full': 'north-northeast', 'clouds_hi': 0, 'datetime': '2025-04-09:09', 'clouds_low': 0, 'snow': 0, 'dni': 0, 'dewpt': 29.5, 'uv': 0, 'wind_dir': 25, 'ghi': 0, 'dhi': 0, 'precip': 0, 'weather': {'icon': 'c02n', 'description': 'Few clouds', 'code': 801}, 'temp': 39.9, 'app_temp': 37.8, 'pop': 0, 'ts': 1744189200, 'snow_depth': 0, 'slp': 1029, 'solar_rad': 0, 'clouds_mid': 0, 'ozone': 339, 'wind_gust_spd': 8.5}], 'timezone': 'America/New_York', 'city_name': 'Four Oaks'}\n"
     ]
    }
   ],
   "source": [
    "import requests\n",
    "\n",
    "url = \"https://weatherbit-v1-mashape.p.rapidapi.com/forecast/3hourly\"\n",
    "\n",
    "querystring = {\"lat\":\"35.5\",\"lon\":\"-78.5\",\"units\":\"imperial\",\"lang\":\"en\"}\n",
    "\n",
    "headers = {\n",
    "\t\"x-rapidapi-key\": \"7f05cd5de7msh89468ceeabc4d2fp141e1bjsn9743e345d68c\",\n",
    "\t\"x-rapidapi-host\": \"weatherbit-v1-mashape.p.rapidapi.com\"\n",
    "}\n",
    "\n",
    "response = requests.get(url, headers=headers, params=querystring)\n",
    "\n",
    "print(response.json())\n"
   ]
  },
  {
   "cell_type": "markdown",
   "metadata": {
    "application/vnd.databricks.v1+cell": {
     "cellMetadata": {
      "byteLimit": 2048000,
      "rowLimit": 10000
     },
     "inputWidgets": {},
     "nuid": "b26c0f0c-e4cc-436f-a77a-0822216e46a5",
     "showTitle": false,
     "tableResultSettingsMap": {},
     "title": ""
    }
   },
   "source": [
    "**SETTING UP API TO FETCH WEATHER DATA**"
   ]
  },
  {
   "cell_type": "code",
   "execution_count": 0,
   "metadata": {
    "application/vnd.databricks.v1+cell": {
     "cellMetadata": {
      "byteLimit": 2048000,
      "rowLimit": 10000
     },
     "inputWidgets": {},
     "nuid": "4c151f4e-983f-4b25-a6af-3005ef0ca538",
     "showTitle": false,
     "tableResultSettingsMap": {},
     "title": ""
    }
   },
   "outputs": [
    {
     "output_type": "display_data",
     "data": {
      "application/vnd.databricks.v1+bamboolib_hint": "{\"pd.DataFrames\": [], \"version\": \"0.0.1\"}",
      "text/plain": []
     },
     "metadata": {},
     "output_type": "display_data"
    }
   ],
   "source": [
    "import requests\n",
    "import pandas as pd\n",
    "\n",
    "#CITY NAME AND LOCATION DETAILS\n",
    "city_name = \"Four Oaks\"\n",
    "country_code = \"US\"\n",
    "state_code = \"NC\"\n",
    "lat = 35.5  \n",
    "lon = -78.5  \n",
    "\n",
    "#RAPIDAPI\n",
    "headers = {\n",
    "\t\"x-rapidapi-key\": \"7f05cd5de7msh89468ceeabc4d2fp141e1bjsn9743e345d68c\",\n",
    "\t\"x-rapidapi-host\": \"weatherbit-v1-mashape.p.rapidapi.com\"\n",
    "}"
   ]
  },
  {
   "cell_type": "markdown",
   "metadata": {
    "application/vnd.databricks.v1+cell": {
     "cellMetadata": {
      "byteLimit": 2048000,
      "rowLimit": 10000
     },
     "inputWidgets": {},
     "nuid": "4c5dc997-b938-4ef5-b8f9-6351384e103a",
     "showTitle": false,
     "tableResultSettingsMap": {},
     "title": ""
    }
   },
   "source": [
    "**NORMALIZING THE JSON**"
   ]
  },
  {
   "cell_type": "code",
   "execution_count": 0,
   "metadata": {
    "application/vnd.databricks.v1+cell": {
     "cellMetadata": {
      "byteLimit": 2048000,
      "rowLimit": 10000
     },
     "inputWidgets": {},
     "nuid": "9a5d1146-48ab-47b6-ade2-6d18d7516197",
     "showTitle": false,
     "tableResultSettingsMap": {},
     "title": ""
    }
   },
   "outputs": [],
   "source": [
    " forecast_info = []\n",
    "\n",
    "# Define URL and query parameters\n",
    "url = \"https://weatherbit-v1-mashape.p.rapidapi.com/forecast/3hourly\"\n",
    "querystring = {\"lat\":\"35.5\", \"lon\":\"-78.5\", \"units\":\"imperial\", \"lang\":\"en\"}\n",
    "\n",
    "# Make the API request to fetch weather data\n",
    "response = requests.get(url, headers=headers, params=querystring)\n",
    "data = response.json()\n",
    "\n",
    "# Loop through the forecast data and append it to forecast_info\n",
    "for forecast in data['data']:\n",
    "    forecast_info.append({\n",
    "        'Datetime': forecast['timestamp_utc'],\n",
    "        'Temperature': forecast['temp'],  \n",
    "        'Wind Speed': forecast['wind_spd'],  \n",
    "        'Cloud Cover': forecast['clouds'],   \n",
    "        'Humidity': forecast['rh'],   \n",
    "        'Weather Description': forecast['weather']['description'],  \n",
    "    })\n",
    "\n",
    "\n"
   ]
  },
  {
   "cell_type": "code",
   "execution_count": 0,
   "metadata": {
    "application/vnd.databricks.v1+cell": {
     "cellMetadata": {
      "byteLimit": 2048000,
      "rowLimit": 10000
     },
     "inputWidgets": {},
     "nuid": "f2a694b7-b68e-4334-a9e5-0b176252af6e",
     "showTitle": false,
     "tableResultSettingsMap": {},
     "title": ""
    }
   },
   "outputs": [
    {
     "output_type": "stream",
     "name": "stdout",
     "output_type": "stream",
     "text": [
      "Out[4]: [{'Datetime': '2025-04-04T12:00:00',\n  'Temperature': 71.1,\n  'Wind Speed': 7.2,\n  'Cloud Cover': 88,\n  'Humidity': 92,\n  'Weather Description': 'Overcast clouds'},\n {'Datetime': '2025-04-04T15:00:00',\n  'Temperature': 77.7,\n  'Wind Speed': 8.9,\n  'Cloud Cover': 78,\n  'Humidity': 76,\n  'Weather Description': 'Overcast clouds'},\n {'Datetime': '2025-04-04T18:00:00',\n  'Temperature': 84.9,\n  'Wind Speed': 8.9,\n  'Cloud Cover': 45,\n  'Humidity': 57,\n  'Weather Description': 'Broken clouds'},\n {'Datetime': '2025-04-04T21:00:00',\n  'Temperature': 88,\n  'Wind Speed': 8.1,\n  'Cloud Cover': 43,\n  'Humidity': 48,\n  'Weather Description': 'Broken clouds'},\n {'Datetime': '2025-04-05T00:00:00',\n  'Temperature': 80.4,\n  'Wind Speed': 3.6,\n  'Cloud Cover': 48,\n  'Humidity': 62,\n  'Weather Description': 'Broken clouds'},\n {'Datetime': '2025-04-05T03:00:00',\n  'Temperature': 74.8,\n  'Wind Speed': 4.5,\n  'Cloud Cover': 38,\n  'Humidity': 81,\n  'Weather Description': 'Scattered clouds'},\n {'Datetime': '2025-04-05T06:00:00',\n  'Temperature': 71.6,\n  'Wind Speed': 4.5,\n  'Cloud Cover': 26,\n  'Humidity': 88,\n  'Weather Description': 'Scattered clouds'},\n {'Datetime': '2025-04-05T09:00:00',\n  'Temperature': 68.2,\n  'Wind Speed': 5.4,\n  'Cloud Cover': 63,\n  'Humidity': 95,\n  'Weather Description': 'Broken clouds'},\n {'Datetime': '2025-04-05T12:00:00',\n  'Temperature': 67.8,\n  'Wind Speed': 6.3,\n  'Cloud Cover': 81,\n  'Humidity': 95,\n  'Weather Description': 'Overcast clouds'},\n {'Datetime': '2025-04-05T15:00:00',\n  'Temperature': 76.6,\n  'Wind Speed': 8.1,\n  'Cloud Cover': 60,\n  'Humidity': 70,\n  'Weather Description': 'Broken clouds'},\n {'Datetime': '2025-04-05T18:00:00',\n  'Temperature': 84,\n  'Wind Speed': 9.8,\n  'Cloud Cover': 39,\n  'Humidity': 52,\n  'Weather Description': 'Scattered clouds'},\n {'Datetime': '2025-04-05T21:00:00',\n  'Temperature': 86,\n  'Wind Speed': 10.7,\n  'Cloud Cover': 38,\n  'Humidity': 45,\n  'Weather Description': 'Scattered clouds'},\n {'Datetime': '2025-04-06T00:00:00',\n  'Temperature': 79.2,\n  'Wind Speed': 8.1,\n  'Cloud Cover': 47,\n  'Humidity': 58,\n  'Weather Description': 'Broken clouds'},\n {'Datetime': '2025-04-06T03:00:00',\n  'Temperature': 73,\n  'Wind Speed': 9.8,\n  'Cloud Cover': 45,\n  'Humidity': 72,\n  'Weather Description': 'Broken clouds'},\n {'Datetime': '2025-04-06T06:00:00',\n  'Temperature': 69.3,\n  'Wind Speed': 10.7,\n  'Cloud Cover': 56,\n  'Humidity': 81,\n  'Weather Description': 'Broken clouds'},\n {'Datetime': '2025-04-06T09:00:00',\n  'Temperature': 67.3,\n  'Wind Speed': 11.6,\n  'Cloud Cover': 57,\n  'Humidity': 89,\n  'Weather Description': 'Broken clouds'},\n {'Datetime': '2025-04-06T12:00:00',\n  'Temperature': 68,\n  'Wind Speed': 11.6,\n  'Cloud Cover': 60,\n  'Humidity': 89,\n  'Weather Description': 'Broken clouds'},\n {'Datetime': '2025-04-06T15:00:00',\n  'Temperature': 77.5,\n  'Wind Speed': 14.3,\n  'Cloud Cover': 49,\n  'Humidity': 66,\n  'Weather Description': 'Broken clouds'},\n {'Datetime': '2025-04-06T18:00:00',\n  'Temperature': 84.9,\n  'Wind Speed': 14.3,\n  'Cloud Cover': 55,\n  'Humidity': 49,\n  'Weather Description': 'Broken clouds'},\n {'Datetime': '2025-04-06T21:00:00',\n  'Temperature': 86.2,\n  'Wind Speed': 14.5,\n  'Cloud Cover': 66,\n  'Humidity': 45,\n  'Weather Description': 'Broken clouds'},\n {'Datetime': '2025-04-07T00:00:00',\n  'Temperature': 77.4,\n  'Wind Speed': 9.2,\n  'Cloud Cover': 81,\n  'Humidity': 60,\n  'Weather Description': 'Overcast clouds'},\n {'Datetime': '2025-04-07T03:00:00',\n  'Temperature': 71.4,\n  'Wind Speed': 10.7,\n  'Cloud Cover': 83,\n  'Humidity': 74,\n  'Weather Description': 'Overcast clouds'},\n {'Datetime': '2025-04-07T06:00:00',\n  'Temperature': 68.4,\n  'Wind Speed': 9.8,\n  'Cloud Cover': 90,\n  'Humidity': 86,\n  'Weather Description': 'Overcast clouds'},\n {'Datetime': '2025-04-07T09:00:00',\n  'Temperature': 66.6,\n  'Wind Speed': 8.9,\n  'Cloud Cover': 94,\n  'Humidity': 91,\n  'Weather Description': 'Light shower rain'},\n {'Datetime': '2025-04-07T12:00:00',\n  'Temperature': 65.3,\n  'Wind Speed': 8.9,\n  'Cloud Cover': 91,\n  'Humidity': 95,\n  'Weather Description': 'Drizzle'},\n {'Datetime': '2025-04-07T15:00:00',\n  'Temperature': 67.6,\n  'Wind Speed': 8.9,\n  'Cloud Cover': 91,\n  'Humidity': 86,\n  'Weather Description': 'Light shower rain'},\n {'Datetime': '2025-04-07T18:00:00',\n  'Temperature': 66.4,\n  'Wind Speed': 8.7,\n  'Cloud Cover': 90,\n  'Humidity': 80,\n  'Weather Description': 'Light shower rain'},\n {'Datetime': '2025-04-07T21:00:00',\n  'Temperature': 63.1,\n  'Wind Speed': 6.7,\n  'Cloud Cover': 86,\n  'Humidity': 80,\n  'Weather Description': 'Light shower rain'},\n {'Datetime': '2025-04-08T00:00:00',\n  'Temperature': 60.1,\n  'Wind Speed': 4.7,\n  'Cloud Cover': 83,\n  'Humidity': 80,\n  'Weather Description': 'Light shower rain'},\n {'Datetime': '2025-04-08T03:00:00',\n  'Temperature': 56.1,\n  'Wind Speed': 4.6,\n  'Cloud Cover': 78,\n  'Humidity': 78,\n  'Weather Description': 'Light shower rain'},\n {'Datetime': '2025-04-08T06:00:00',\n  'Temperature': 52.2,\n  'Wind Speed': 4.5,\n  'Cloud Cover': 74,\n  'Humidity': 77,\n  'Weather Description': 'Overcast clouds'},\n {'Datetime': '2025-04-08T09:00:00',\n  'Temperature': 49.8,\n  'Wind Speed': 5.8,\n  'Cloud Cover': 43,\n  'Humidity': 74,\n  'Weather Description': 'Broken clouds'},\n {'Datetime': '2025-04-08T12:00:00',\n  'Temperature': 47.7,\n  'Wind Speed': 7.2,\n  'Cloud Cover': 12,\n  'Humidity': 71,\n  'Weather Description': 'Few clouds'},\n {'Datetime': '2025-04-08T15:00:00',\n  'Temperature': 52.3,\n  'Wind Speed': 8.4,\n  'Cloud Cover': 8,\n  'Humidity': 54,\n  'Weather Description': 'Few clouds'},\n {'Datetime': '2025-04-08T18:00:00',\n  'Temperature': 57,\n  'Wind Speed': 9.6,\n  'Cloud Cover': 4,\n  'Humidity': 36,\n  'Weather Description': 'Few clouds'},\n {'Datetime': '2025-04-08T21:00:00',\n  'Temperature': 54.5,\n  'Wind Speed': 6.7,\n  'Cloud Cover': 3,\n  'Humidity': 40,\n  'Weather Description': 'Few clouds'},\n {'Datetime': '2025-04-09T00:00:00',\n  'Temperature': 52,\n  'Wind Speed': 3.8,\n  'Cloud Cover': 2,\n  'Humidity': 44,\n  'Weather Description': 'Few clouds'},\n {'Datetime': '2025-04-09T03:00:00',\n  'Temperature': 46.8,\n  'Wind Speed': 3.7,\n  'Cloud Cover': 2,\n  'Humidity': 53,\n  'Weather Description': 'Few clouds'},\n {'Datetime': '2025-04-09T06:00:00',\n  'Temperature': 41.5,\n  'Wind Speed': 3.6,\n  'Cloud Cover': 1,\n  'Humidity': 62,\n  'Weather Description': 'Clear Sky'},\n {'Datetime': '2025-04-09T09:00:00',\n  'Temperature': 39.9,\n  'Wind Speed': 3.6,\n  'Cloud Cover': 2,\n  'Humidity': 66,\n  'Weather Description': 'Few clouds'}]"
     ]
    }
   ],
   "source": [
    "forecast_info"
   ]
  },
  {
   "cell_type": "markdown",
   "metadata": {
    "application/vnd.databricks.v1+cell": {
     "cellMetadata": {
      "byteLimit": 2048000,
      "rowLimit": 10000
     },
     "inputWidgets": {},
     "nuid": "3cef1cc0-5856-437d-bfab-28b3b02b5d29",
     "showTitle": false,
     "tableResultSettingsMap": {},
     "title": ""
    }
   },
   "source": [
    "**CONVERTING TO PANDAS DATAFRAME** "
   ]
  },
  {
   "cell_type": "code",
   "execution_count": 0,
   "metadata": {
    "application/vnd.databricks.v1+cell": {
     "cellMetadata": {
      "byteLimit": 2048000,
      "rowLimit": 10000
     },
     "inputWidgets": {},
     "nuid": "d483e181-f9c9-4b2f-a197-637d5a7f9750",
     "showTitle": false,
     "tableResultSettingsMap": {},
     "title": ""
    }
   },
   "outputs": [
    {
     "output_type": "display_data",
     "data": {
      "text/html": [
       "<style scoped>\n",
       "  .table-result-container {\n",
       "    max-height: 300px;\n",
       "    overflow: auto;\n",
       "  }\n",
       "  table, th, td {\n",
       "    border: 1px solid black;\n",
       "    border-collapse: collapse;\n",
       "  }\n",
       "  th, td {\n",
       "    padding: 5px;\n",
       "  }\n",
       "  th {\n",
       "    text-align: left;\n",
       "  }\n",
       "</style><div class='table-result-container'><table class='table-result'><thead style='background-color: white'><tr><th>Datetime</th><th>Temperature</th><th>Wind Speed</th><th>Cloud Cover</th><th>Humidity</th><th>Weather Description</th></tr></thead><tbody><tr><td>2025-04-04T12:00:00</td><td>71.1</td><td>7.2</td><td>88</td><td>92</td><td>Overcast clouds</td></tr><tr><td>2025-04-04T15:00:00</td><td>77.7</td><td>8.9</td><td>78</td><td>76</td><td>Overcast clouds</td></tr><tr><td>2025-04-04T18:00:00</td><td>84.9</td><td>8.9</td><td>45</td><td>57</td><td>Broken clouds</td></tr><tr><td>2025-04-04T21:00:00</td><td>88.0</td><td>8.1</td><td>43</td><td>48</td><td>Broken clouds</td></tr><tr><td>2025-04-05T00:00:00</td><td>80.4</td><td>3.6</td><td>48</td><td>62</td><td>Broken clouds</td></tr><tr><td>2025-04-05T03:00:00</td><td>74.8</td><td>4.5</td><td>38</td><td>81</td><td>Scattered clouds</td></tr><tr><td>2025-04-05T06:00:00</td><td>71.6</td><td>4.5</td><td>26</td><td>88</td><td>Scattered clouds</td></tr><tr><td>2025-04-05T09:00:00</td><td>68.2</td><td>5.4</td><td>63</td><td>95</td><td>Broken clouds</td></tr><tr><td>2025-04-05T12:00:00</td><td>67.8</td><td>6.3</td><td>81</td><td>95</td><td>Overcast clouds</td></tr><tr><td>2025-04-05T15:00:00</td><td>76.6</td><td>8.1</td><td>60</td><td>70</td><td>Broken clouds</td></tr><tr><td>2025-04-05T18:00:00</td><td>84.0</td><td>9.8</td><td>39</td><td>52</td><td>Scattered clouds</td></tr><tr><td>2025-04-05T21:00:00</td><td>86.0</td><td>10.7</td><td>38</td><td>45</td><td>Scattered clouds</td></tr><tr><td>2025-04-06T00:00:00</td><td>79.2</td><td>8.1</td><td>47</td><td>58</td><td>Broken clouds</td></tr><tr><td>2025-04-06T03:00:00</td><td>73.0</td><td>9.8</td><td>45</td><td>72</td><td>Broken clouds</td></tr><tr><td>2025-04-06T06:00:00</td><td>69.3</td><td>10.7</td><td>56</td><td>81</td><td>Broken clouds</td></tr><tr><td>2025-04-06T09:00:00</td><td>67.3</td><td>11.6</td><td>57</td><td>89</td><td>Broken clouds</td></tr><tr><td>2025-04-06T12:00:00</td><td>68.0</td><td>11.6</td><td>60</td><td>89</td><td>Broken clouds</td></tr><tr><td>2025-04-06T15:00:00</td><td>77.5</td><td>14.3</td><td>49</td><td>66</td><td>Broken clouds</td></tr><tr><td>2025-04-06T18:00:00</td><td>84.9</td><td>14.3</td><td>55</td><td>49</td><td>Broken clouds</td></tr><tr><td>2025-04-06T21:00:00</td><td>86.2</td><td>14.5</td><td>66</td><td>45</td><td>Broken clouds</td></tr><tr><td>2025-04-07T00:00:00</td><td>77.4</td><td>9.2</td><td>81</td><td>60</td><td>Overcast clouds</td></tr><tr><td>2025-04-07T03:00:00</td><td>71.4</td><td>10.7</td><td>83</td><td>74</td><td>Overcast clouds</td></tr><tr><td>2025-04-07T06:00:00</td><td>68.4</td><td>9.8</td><td>90</td><td>86</td><td>Overcast clouds</td></tr><tr><td>2025-04-07T09:00:00</td><td>66.6</td><td>8.9</td><td>94</td><td>91</td><td>Light shower rain</td></tr><tr><td>2025-04-07T12:00:00</td><td>65.3</td><td>8.9</td><td>91</td><td>95</td><td>Drizzle</td></tr><tr><td>2025-04-07T15:00:00</td><td>67.6</td><td>8.9</td><td>91</td><td>86</td><td>Light shower rain</td></tr><tr><td>2025-04-07T18:00:00</td><td>66.4</td><td>8.7</td><td>90</td><td>80</td><td>Light shower rain</td></tr><tr><td>2025-04-07T21:00:00</td><td>63.1</td><td>6.7</td><td>86</td><td>80</td><td>Light shower rain</td></tr><tr><td>2025-04-08T00:00:00</td><td>60.1</td><td>4.7</td><td>83</td><td>80</td><td>Light shower rain</td></tr><tr><td>2025-04-08T03:00:00</td><td>56.1</td><td>4.6</td><td>78</td><td>78</td><td>Light shower rain</td></tr><tr><td>2025-04-08T06:00:00</td><td>52.2</td><td>4.5</td><td>74</td><td>77</td><td>Overcast clouds</td></tr><tr><td>2025-04-08T09:00:00</td><td>49.8</td><td>5.8</td><td>43</td><td>74</td><td>Broken clouds</td></tr><tr><td>2025-04-08T12:00:00</td><td>47.7</td><td>7.2</td><td>12</td><td>71</td><td>Few clouds</td></tr><tr><td>2025-04-08T15:00:00</td><td>52.3</td><td>8.4</td><td>8</td><td>54</td><td>Few clouds</td></tr><tr><td>2025-04-08T18:00:00</td><td>57.0</td><td>9.6</td><td>4</td><td>36</td><td>Few clouds</td></tr><tr><td>2025-04-08T21:00:00</td><td>54.5</td><td>6.7</td><td>3</td><td>40</td><td>Few clouds</td></tr><tr><td>2025-04-09T00:00:00</td><td>52.0</td><td>3.8</td><td>2</td><td>44</td><td>Few clouds</td></tr><tr><td>2025-04-09T03:00:00</td><td>46.8</td><td>3.7</td><td>2</td><td>53</td><td>Few clouds</td></tr><tr><td>2025-04-09T06:00:00</td><td>41.5</td><td>3.6</td><td>1</td><td>62</td><td>Clear Sky</td></tr><tr><td>2025-04-09T09:00:00</td><td>39.9</td><td>3.6</td><td>2</td><td>66</td><td>Few clouds</td></tr></tbody></table></div>"
      ]
     },
     "metadata": {
      "application/vnd.databricks.v1+output": {
       "addedWidgets": {},
       "aggData": [],
       "aggError": "",
       "aggOverflow": false,
       "aggSchema": [],
       "aggSeriesLimitReached": false,
       "aggType": "",
       "arguments": {},
       "columnCustomDisplayInfos": {},
       "data": [
        [
         "2025-04-04T12:00:00",
         71.1,
         7.2,
         88,
         92,
         "Overcast clouds"
        ],
        [
         "2025-04-04T15:00:00",
         77.7,
         8.9,
         78,
         76,
         "Overcast clouds"
        ],
        [
         "2025-04-04T18:00:00",
         84.9,
         8.9,
         45,
         57,
         "Broken clouds"
        ],
        [
         "2025-04-04T21:00:00",
         88.0,
         8.1,
         43,
         48,
         "Broken clouds"
        ],
        [
         "2025-04-05T00:00:00",
         80.4,
         3.6,
         48,
         62,
         "Broken clouds"
        ],
        [
         "2025-04-05T03:00:00",
         74.8,
         4.5,
         38,
         81,
         "Scattered clouds"
        ],
        [
         "2025-04-05T06:00:00",
         71.6,
         4.5,
         26,
         88,
         "Scattered clouds"
        ],
        [
         "2025-04-05T09:00:00",
         68.2,
         5.4,
         63,
         95,
         "Broken clouds"
        ],
        [
         "2025-04-05T12:00:00",
         67.8,
         6.3,
         81,
         95,
         "Overcast clouds"
        ],
        [
         "2025-04-05T15:00:00",
         76.6,
         8.1,
         60,
         70,
         "Broken clouds"
        ],
        [
         "2025-04-05T18:00:00",
         84.0,
         9.8,
         39,
         52,
         "Scattered clouds"
        ],
        [
         "2025-04-05T21:00:00",
         86.0,
         10.7,
         38,
         45,
         "Scattered clouds"
        ],
        [
         "2025-04-06T00:00:00",
         79.2,
         8.1,
         47,
         58,
         "Broken clouds"
        ],
        [
         "2025-04-06T03:00:00",
         73.0,
         9.8,
         45,
         72,
         "Broken clouds"
        ],
        [
         "2025-04-06T06:00:00",
         69.3,
         10.7,
         56,
         81,
         "Broken clouds"
        ],
        [
         "2025-04-06T09:00:00",
         67.3,
         11.6,
         57,
         89,
         "Broken clouds"
        ],
        [
         "2025-04-06T12:00:00",
         68.0,
         11.6,
         60,
         89,
         "Broken clouds"
        ],
        [
         "2025-04-06T15:00:00",
         77.5,
         14.3,
         49,
         66,
         "Broken clouds"
        ],
        [
         "2025-04-06T18:00:00",
         84.9,
         14.3,
         55,
         49,
         "Broken clouds"
        ],
        [
         "2025-04-06T21:00:00",
         86.2,
         14.5,
         66,
         45,
         "Broken clouds"
        ],
        [
         "2025-04-07T00:00:00",
         77.4,
         9.2,
         81,
         60,
         "Overcast clouds"
        ],
        [
         "2025-04-07T03:00:00",
         71.4,
         10.7,
         83,
         74,
         "Overcast clouds"
        ],
        [
         "2025-04-07T06:00:00",
         68.4,
         9.8,
         90,
         86,
         "Overcast clouds"
        ],
        [
         "2025-04-07T09:00:00",
         66.6,
         8.9,
         94,
         91,
         "Light shower rain"
        ],
        [
         "2025-04-07T12:00:00",
         65.3,
         8.9,
         91,
         95,
         "Drizzle"
        ],
        [
         "2025-04-07T15:00:00",
         67.6,
         8.9,
         91,
         86,
         "Light shower rain"
        ],
        [
         "2025-04-07T18:00:00",
         66.4,
         8.7,
         90,
         80,
         "Light shower rain"
        ],
        [
         "2025-04-07T21:00:00",
         63.1,
         6.7,
         86,
         80,
         "Light shower rain"
        ],
        [
         "2025-04-08T00:00:00",
         60.1,
         4.7,
         83,
         80,
         "Light shower rain"
        ],
        [
         "2025-04-08T03:00:00",
         56.1,
         4.6,
         78,
         78,
         "Light shower rain"
        ],
        [
         "2025-04-08T06:00:00",
         52.2,
         4.5,
         74,
         77,
         "Overcast clouds"
        ],
        [
         "2025-04-08T09:00:00",
         49.8,
         5.8,
         43,
         74,
         "Broken clouds"
        ],
        [
         "2025-04-08T12:00:00",
         47.7,
         7.2,
         12,
         71,
         "Few clouds"
        ],
        [
         "2025-04-08T15:00:00",
         52.3,
         8.4,
         8,
         54,
         "Few clouds"
        ],
        [
         "2025-04-08T18:00:00",
         57.0,
         9.6,
         4,
         36,
         "Few clouds"
        ],
        [
         "2025-04-08T21:00:00",
         54.5,
         6.7,
         3,
         40,
         "Few clouds"
        ],
        [
         "2025-04-09T00:00:00",
         52.0,
         3.8,
         2,
         44,
         "Few clouds"
        ],
        [
         "2025-04-09T03:00:00",
         46.8,
         3.7,
         2,
         53,
         "Few clouds"
        ],
        [
         "2025-04-09T06:00:00",
         41.5,
         3.6,
         1,
         62,
         "Clear Sky"
        ],
        [
         "2025-04-09T09:00:00",
         39.9,
         3.6,
         2,
         66,
         "Few clouds"
        ]
       ],
       "datasetInfos": [],
       "dbfsResultPath": null,
       "isJsonSchema": true,
       "metadata": {},
       "overflow": false,
       "plotOptions": {
        "customPlotOptions": {},
        "displayType": "table",
        "pivotAggregation": null,
        "pivotColumns": null,
        "xColumns": null,
        "yColumns": null
       },
       "removedWidgets": [],
       "schema": [
        {
         "metadata": "{}",
         "name": "Datetime",
         "type": "\"string\""
        },
        {
         "metadata": "{}",
         "name": "Temperature",
         "type": "\"double\""
        },
        {
         "metadata": "{}",
         "name": "Wind Speed",
         "type": "\"double\""
        },
        {
         "metadata": "{}",
         "name": "Cloud Cover",
         "type": "\"long\""
        },
        {
         "metadata": "{}",
         "name": "Humidity",
         "type": "\"long\""
        },
        {
         "metadata": "{}",
         "name": "Weather Description",
         "type": "\"string\""
        }
       ],
       "type": "table"
      }
     },
     "output_type": "display_data"
    }
   ],
   "source": [
    "import pandas as pd\n",
    "\n",
    "# Convert the forecast_info list into a DataFrame\n",
    "df = pd.DataFrame(forecast_info)\n",
    "\n",
    "# Display the DataFrame\n",
    "display(df)\n"
   ]
  },
  {
   "cell_type": "markdown",
   "metadata": {
    "application/vnd.databricks.v1+cell": {
     "cellMetadata": {
      "byteLimit": 2048000,
      "rowLimit": 10000
     },
     "inputWidgets": {},
     "nuid": "08d9f574-913c-4723-8d8f-4868809e7195",
     "showTitle": false,
     "tableResultSettingsMap": {},
     "title": ""
    }
   },
   "source": [
    "**DEFINING A PYSPARK SCHEMA AND CREATING THE DATAFRAME**"
   ]
  },
  {
   "cell_type": "code",
   "execution_count": 0,
   "metadata": {
    "application/vnd.databricks.v1+cell": {
     "cellMetadata": {
      "byteLimit": 2048000,
      "rowLimit": 10000
     },
     "inputWidgets": {},
     "nuid": "c5bedd5d-4eba-48e2-8bba-1a1a7fdd086b",
     "showTitle": false,
     "tableResultSettingsMap": {},
     "title": ""
    }
   },
   "outputs": [
    {
     "output_type": "display_data",
     "data": {
      "text/html": [
       "<style scoped>\n",
       "  .table-result-container {\n",
       "    max-height: 300px;\n",
       "    overflow: auto;\n",
       "  }\n",
       "  table, th, td {\n",
       "    border: 1px solid black;\n",
       "    border-collapse: collapse;\n",
       "  }\n",
       "  th, td {\n",
       "    padding: 5px;\n",
       "  }\n",
       "  th {\n",
       "    text-align: left;\n",
       "  }\n",
       "</style><div class='table-result-container'><table class='table-result'><thead style='background-color: white'><tr><th>Datetime</th><th>Temperature</th><th>Wind Speed</th><th>Cloud Cover</th><th>Humidity</th><th>Weather Description</th></tr></thead><tbody><tr><td>2025-04-04T12:00:00</td><td>71.1</td><td>7.2</td><td>88</td><td>92</td><td>Overcast clouds</td></tr><tr><td>2025-04-04T15:00:00</td><td>77.7</td><td>8.9</td><td>78</td><td>76</td><td>Overcast clouds</td></tr><tr><td>2025-04-04T18:00:00</td><td>84.9</td><td>8.9</td><td>45</td><td>57</td><td>Broken clouds</td></tr><tr><td>2025-04-04T21:00:00</td><td>88.0</td><td>8.1</td><td>43</td><td>48</td><td>Broken clouds</td></tr><tr><td>2025-04-05T00:00:00</td><td>80.4</td><td>3.6</td><td>48</td><td>62</td><td>Broken clouds</td></tr><tr><td>2025-04-05T03:00:00</td><td>74.8</td><td>4.5</td><td>38</td><td>81</td><td>Scattered clouds</td></tr><tr><td>2025-04-05T06:00:00</td><td>71.6</td><td>4.5</td><td>26</td><td>88</td><td>Scattered clouds</td></tr><tr><td>2025-04-05T09:00:00</td><td>68.2</td><td>5.4</td><td>63</td><td>95</td><td>Broken clouds</td></tr><tr><td>2025-04-05T12:00:00</td><td>67.8</td><td>6.3</td><td>81</td><td>95</td><td>Overcast clouds</td></tr><tr><td>2025-04-05T15:00:00</td><td>76.6</td><td>8.1</td><td>60</td><td>70</td><td>Broken clouds</td></tr><tr><td>2025-04-05T18:00:00</td><td>84.0</td><td>9.8</td><td>39</td><td>52</td><td>Scattered clouds</td></tr><tr><td>2025-04-05T21:00:00</td><td>86.0</td><td>10.7</td><td>38</td><td>45</td><td>Scattered clouds</td></tr><tr><td>2025-04-06T00:00:00</td><td>79.2</td><td>8.1</td><td>47</td><td>58</td><td>Broken clouds</td></tr><tr><td>2025-04-06T03:00:00</td><td>73.0</td><td>9.8</td><td>45</td><td>72</td><td>Broken clouds</td></tr><tr><td>2025-04-06T06:00:00</td><td>69.3</td><td>10.7</td><td>56</td><td>81</td><td>Broken clouds</td></tr><tr><td>2025-04-06T09:00:00</td><td>67.3</td><td>11.6</td><td>57</td><td>89</td><td>Broken clouds</td></tr><tr><td>2025-04-06T12:00:00</td><td>68.0</td><td>11.6</td><td>60</td><td>89</td><td>Broken clouds</td></tr><tr><td>2025-04-06T15:00:00</td><td>77.5</td><td>14.3</td><td>49</td><td>66</td><td>Broken clouds</td></tr><tr><td>2025-04-06T18:00:00</td><td>84.9</td><td>14.3</td><td>55</td><td>49</td><td>Broken clouds</td></tr><tr><td>2025-04-06T21:00:00</td><td>86.2</td><td>14.5</td><td>66</td><td>45</td><td>Broken clouds</td></tr><tr><td>2025-04-07T00:00:00</td><td>77.4</td><td>9.2</td><td>81</td><td>60</td><td>Overcast clouds</td></tr><tr><td>2025-04-07T03:00:00</td><td>71.4</td><td>10.7</td><td>83</td><td>74</td><td>Overcast clouds</td></tr><tr><td>2025-04-07T06:00:00</td><td>68.4</td><td>9.8</td><td>90</td><td>86</td><td>Overcast clouds</td></tr><tr><td>2025-04-07T09:00:00</td><td>66.6</td><td>8.9</td><td>94</td><td>91</td><td>Light shower rain</td></tr><tr><td>2025-04-07T12:00:00</td><td>65.3</td><td>8.9</td><td>91</td><td>95</td><td>Drizzle</td></tr><tr><td>2025-04-07T15:00:00</td><td>67.6</td><td>8.9</td><td>91</td><td>86</td><td>Light shower rain</td></tr><tr><td>2025-04-07T18:00:00</td><td>66.4</td><td>8.7</td><td>90</td><td>80</td><td>Light shower rain</td></tr><tr><td>2025-04-07T21:00:00</td><td>63.1</td><td>6.7</td><td>86</td><td>80</td><td>Light shower rain</td></tr><tr><td>2025-04-08T00:00:00</td><td>60.1</td><td>4.7</td><td>83</td><td>80</td><td>Light shower rain</td></tr><tr><td>2025-04-08T03:00:00</td><td>56.1</td><td>4.6</td><td>78</td><td>78</td><td>Light shower rain</td></tr><tr><td>2025-04-08T06:00:00</td><td>52.2</td><td>4.5</td><td>74</td><td>77</td><td>Overcast clouds</td></tr><tr><td>2025-04-08T09:00:00</td><td>49.8</td><td>5.8</td><td>43</td><td>74</td><td>Broken clouds</td></tr><tr><td>2025-04-08T12:00:00</td><td>47.7</td><td>7.2</td><td>12</td><td>71</td><td>Few clouds</td></tr><tr><td>2025-04-08T15:00:00</td><td>52.3</td><td>8.4</td><td>8</td><td>54</td><td>Few clouds</td></tr><tr><td>2025-04-08T18:00:00</td><td>57.0</td><td>9.6</td><td>4</td><td>36</td><td>Few clouds</td></tr><tr><td>2025-04-08T21:00:00</td><td>54.5</td><td>6.7</td><td>3</td><td>40</td><td>Few clouds</td></tr><tr><td>2025-04-09T00:00:00</td><td>52.0</td><td>3.8</td><td>2</td><td>44</td><td>Few clouds</td></tr><tr><td>2025-04-09T03:00:00</td><td>46.8</td><td>3.7</td><td>2</td><td>53</td><td>Few clouds</td></tr><tr><td>2025-04-09T06:00:00</td><td>41.5</td><td>3.6</td><td>1</td><td>62</td><td>Clear Sky</td></tr><tr><td>2025-04-09T09:00:00</td><td>39.9</td><td>3.6</td><td>2</td><td>66</td><td>Few clouds</td></tr></tbody></table></div>"
      ]
     },
     "metadata": {
      "application/vnd.databricks.v1+output": {
       "addedWidgets": {},
       "aggData": [],
       "aggError": "",
       "aggOverflow": false,
       "aggSchema": [],
       "aggSeriesLimitReached": false,
       "aggType": "",
       "arguments": {},
       "columnCustomDisplayInfos": {},
       "data": [
        [
         "2025-04-04T12:00:00",
         71.1,
         7.2,
         88,
         92,
         "Overcast clouds"
        ],
        [
         "2025-04-04T15:00:00",
         77.7,
         8.9,
         78,
         76,
         "Overcast clouds"
        ],
        [
         "2025-04-04T18:00:00",
         84.9,
         8.9,
         45,
         57,
         "Broken clouds"
        ],
        [
         "2025-04-04T21:00:00",
         88.0,
         8.1,
         43,
         48,
         "Broken clouds"
        ],
        [
         "2025-04-05T00:00:00",
         80.4,
         3.6,
         48,
         62,
         "Broken clouds"
        ],
        [
         "2025-04-05T03:00:00",
         74.8,
         4.5,
         38,
         81,
         "Scattered clouds"
        ],
        [
         "2025-04-05T06:00:00",
         71.6,
         4.5,
         26,
         88,
         "Scattered clouds"
        ],
        [
         "2025-04-05T09:00:00",
         68.2,
         5.4,
         63,
         95,
         "Broken clouds"
        ],
        [
         "2025-04-05T12:00:00",
         67.8,
         6.3,
         81,
         95,
         "Overcast clouds"
        ],
        [
         "2025-04-05T15:00:00",
         76.6,
         8.1,
         60,
         70,
         "Broken clouds"
        ],
        [
         "2025-04-05T18:00:00",
         84.0,
         9.8,
         39,
         52,
         "Scattered clouds"
        ],
        [
         "2025-04-05T21:00:00",
         86.0,
         10.7,
         38,
         45,
         "Scattered clouds"
        ],
        [
         "2025-04-06T00:00:00",
         79.2,
         8.1,
         47,
         58,
         "Broken clouds"
        ],
        [
         "2025-04-06T03:00:00",
         73.0,
         9.8,
         45,
         72,
         "Broken clouds"
        ],
        [
         "2025-04-06T06:00:00",
         69.3,
         10.7,
         56,
         81,
         "Broken clouds"
        ],
        [
         "2025-04-06T09:00:00",
         67.3,
         11.6,
         57,
         89,
         "Broken clouds"
        ],
        [
         "2025-04-06T12:00:00",
         68.0,
         11.6,
         60,
         89,
         "Broken clouds"
        ],
        [
         "2025-04-06T15:00:00",
         77.5,
         14.3,
         49,
         66,
         "Broken clouds"
        ],
        [
         "2025-04-06T18:00:00",
         84.9,
         14.3,
         55,
         49,
         "Broken clouds"
        ],
        [
         "2025-04-06T21:00:00",
         86.2,
         14.5,
         66,
         45,
         "Broken clouds"
        ],
        [
         "2025-04-07T00:00:00",
         77.4,
         9.2,
         81,
         60,
         "Overcast clouds"
        ],
        [
         "2025-04-07T03:00:00",
         71.4,
         10.7,
         83,
         74,
         "Overcast clouds"
        ],
        [
         "2025-04-07T06:00:00",
         68.4,
         9.8,
         90,
         86,
         "Overcast clouds"
        ],
        [
         "2025-04-07T09:00:00",
         66.6,
         8.9,
         94,
         91,
         "Light shower rain"
        ],
        [
         "2025-04-07T12:00:00",
         65.3,
         8.9,
         91,
         95,
         "Drizzle"
        ],
        [
         "2025-04-07T15:00:00",
         67.6,
         8.9,
         91,
         86,
         "Light shower rain"
        ],
        [
         "2025-04-07T18:00:00",
         66.4,
         8.7,
         90,
         80,
         "Light shower rain"
        ],
        [
         "2025-04-07T21:00:00",
         63.1,
         6.7,
         86,
         80,
         "Light shower rain"
        ],
        [
         "2025-04-08T00:00:00",
         60.1,
         4.7,
         83,
         80,
         "Light shower rain"
        ],
        [
         "2025-04-08T03:00:00",
         56.1,
         4.6,
         78,
         78,
         "Light shower rain"
        ],
        [
         "2025-04-08T06:00:00",
         52.2,
         4.5,
         74,
         77,
         "Overcast clouds"
        ],
        [
         "2025-04-08T09:00:00",
         49.8,
         5.8,
         43,
         74,
         "Broken clouds"
        ],
        [
         "2025-04-08T12:00:00",
         47.7,
         7.2,
         12,
         71,
         "Few clouds"
        ],
        [
         "2025-04-08T15:00:00",
         52.3,
         8.4,
         8,
         54,
         "Few clouds"
        ],
        [
         "2025-04-08T18:00:00",
         57.0,
         9.6,
         4,
         36,
         "Few clouds"
        ],
        [
         "2025-04-08T21:00:00",
         54.5,
         6.7,
         3,
         40,
         "Few clouds"
        ],
        [
         "2025-04-09T00:00:00",
         52.0,
         3.8,
         2,
         44,
         "Few clouds"
        ],
        [
         "2025-04-09T03:00:00",
         46.8,
         3.7,
         2,
         53,
         "Few clouds"
        ],
        [
         "2025-04-09T06:00:00",
         41.5,
         3.6,
         1,
         62,
         "Clear Sky"
        ],
        [
         "2025-04-09T09:00:00",
         39.9,
         3.6,
         2,
         66,
         "Few clouds"
        ]
       ],
       "datasetInfos": [],
       "dbfsResultPath": null,
       "isJsonSchema": true,
       "metadata": {},
       "overflow": false,
       "plotOptions": {
        "customPlotOptions": {},
        "displayType": "table",
        "pivotAggregation": null,
        "pivotColumns": null,
        "xColumns": null,
        "yColumns": null
       },
       "removedWidgets": [],
       "schema": [
        {
         "metadata": "{}",
         "name": "Datetime",
         "type": "\"string\""
        },
        {
         "metadata": "{}",
         "name": "Temperature",
         "type": "\"float\""
        },
        {
         "metadata": "{}",
         "name": "Wind Speed",
         "type": "\"float\""
        },
        {
         "metadata": "{}",
         "name": "Cloud Cover",
         "type": "\"integer\""
        },
        {
         "metadata": "{}",
         "name": "Humidity",
         "type": "\"integer\""
        },
        {
         "metadata": "{}",
         "name": "Weather Description",
         "type": "\"string\""
        }
       ],
       "type": "table"
      }
     },
     "output_type": "display_data"
    }
   ],
   "source": [
    "#Defining the Schema and Creating a PySpark DataFrame\n",
    "from pyspark.sql.types import *\n",
    "import pandas as pd\n",
    "Schema= StructType([\n",
    "     StructField(\"Datetime\", StringType(), True),  \n",
    "    StructField(\"Temperature\", FloatType(), True),  \n",
    "    StructField(\"Wind Speed\", FloatType(), True),  \n",
    "    StructField(\"Cloud Cover\", IntegerType(), True),  \n",
    "    StructField(\"Humidity\", IntegerType(), True),  \n",
    "    StructField(\"Weather Description\", StringType(), True)\n",
    "])\n",
    "df_spark=spark.createDataFrame(df,Schema)\n",
    "display(df_spark)"
   ]
  },
  {
   "cell_type": "markdown",
   "metadata": {
    "application/vnd.databricks.v1+cell": {
     "cellMetadata": {
      "byteLimit": 2048000,
      "rowLimit": 10000
     },
     "inputWidgets": {},
     "nuid": "d8d72a7d-0bb3-41c9-a328-65ad14c43064",
     "showTitle": false,
     "tableResultSettingsMap": {},
     "title": ""
    }
   },
   "source": [
    "**DATA CLEANING AND PREPARATION**"
   ]
  },
  {
   "cell_type": "code",
   "execution_count": 0,
   "metadata": {
    "application/vnd.databricks.v1+cell": {
     "cellMetadata": {
      "byteLimit": 2048000,
      "rowLimit": 10000
     },
     "inputWidgets": {},
     "nuid": "bb44022d-db7f-44fd-bc28-71e55527dad1",
     "showTitle": false,
     "tableResultSettingsMap": {},
     "title": ""
    }
   },
   "outputs": [
    {
     "output_type": "display_data",
     "data": {
      "text/html": [
       "<style scoped>\n",
       "  .table-result-container {\n",
       "    max-height: 300px;\n",
       "    overflow: auto;\n",
       "  }\n",
       "  table, th, td {\n",
       "    border: 1px solid black;\n",
       "    border-collapse: collapse;\n",
       "  }\n",
       "  th, td {\n",
       "    padding: 5px;\n",
       "  }\n",
       "  th {\n",
       "    text-align: left;\n",
       "  }\n",
       "</style><div class='table-result-container'><table class='table-result'><thead style='background-color: white'><tr><th>summary</th><th>Datetime</th><th>Temperature</th><th>Wind Speed</th><th>Cloud Cover</th><th>Humidity</th><th>Weather Description</th></tr></thead><tbody><tr><td>count</td><td>40</td><td>40</td><td>40</td><td>40</td><td>40</td><td>40</td></tr><tr><td>mean</td><td>null</td><td>67.31500005722046</td><td>7.972499978542328</td><td>52.5</td><td>69.925</td><td>null</td></tr><tr><td>stddev</td><td>null</td><td>12.986532417047552</td><td>3.03990452044283</td><td>30.36529733184383</td><td>17.123065116221426</td><td>null</td></tr><tr><td>min</td><td>2025-04-04T12:00:00</td><td>39.9</td><td>3.6</td><td>1</td><td>36</td><td>Broken clouds</td></tr><tr><td>max</td><td>2025-04-09T09:00:00</td><td>88.0</td><td>14.5</td><td>94</td><td>95</td><td>Scattered clouds</td></tr></tbody></table></div>"
      ]
     },
     "metadata": {
      "application/vnd.databricks.v1+output": {
       "addedWidgets": {},
       "aggData": [],
       "aggError": "",
       "aggOverflow": false,
       "aggSchema": [],
       "aggSeriesLimitReached": false,
       "aggType": "",
       "arguments": {},
       "columnCustomDisplayInfos": {},
       "data": [
        [
         "count",
         "40",
         "40",
         "40",
         "40",
         "40",
         "40"
        ],
        [
         "mean",
         null,
         "67.31500005722046",
         "7.972499978542328",
         "52.5",
         "69.925",
         null
        ],
        [
         "stddev",
         null,
         "12.986532417047552",
         "3.03990452044283",
         "30.36529733184383",
         "17.123065116221426",
         null
        ],
        [
         "min",
         "2025-04-04T12:00:00",
         "39.9",
         "3.6",
         "1",
         "36",
         "Broken clouds"
        ],
        [
         "max",
         "2025-04-09T09:00:00",
         "88.0",
         "14.5",
         "94",
         "95",
         "Scattered clouds"
        ]
       ],
       "datasetInfos": [],
       "dbfsResultPath": null,
       "isJsonSchema": true,
       "metadata": {},
       "overflow": false,
       "plotOptions": {
        "customPlotOptions": {},
        "displayType": "table",
        "pivotAggregation": null,
        "pivotColumns": null,
        "xColumns": null,
        "yColumns": null
       },
       "removedWidgets": [],
       "schema": [
        {
         "metadata": "{}",
         "name": "summary",
         "type": "\"string\""
        },
        {
         "metadata": "{}",
         "name": "Datetime",
         "type": "\"string\""
        },
        {
         "metadata": "{}",
         "name": "Temperature",
         "type": "\"string\""
        },
        {
         "metadata": "{}",
         "name": "Wind Speed",
         "type": "\"string\""
        },
        {
         "metadata": "{}",
         "name": "Cloud Cover",
         "type": "\"string\""
        },
        {
         "metadata": "{}",
         "name": "Humidity",
         "type": "\"string\""
        },
        {
         "metadata": "{}",
         "name": "Weather Description",
         "type": "\"string\""
        }
       ],
       "type": "table"
      }
     },
     "output_type": "display_data"
    }
   ],
   "source": [
    "#Displaying Summary statistics of the DataFrame\n",
    "display(df_spark.describe())"
   ]
  },
  {
   "cell_type": "code",
   "execution_count": 0,
   "metadata": {
    "application/vnd.databricks.v1+cell": {
     "cellMetadata": {
      "byteLimit": 2048000,
      "rowLimit": 10000
     },
     "inputWidgets": {},
     "nuid": "6196cc9d-d493-408f-99f5-b8b4cf5c9877",
     "showTitle": false,
     "tableResultSettingsMap": {},
     "title": ""
    }
   },
   "outputs": [
    {
     "output_type": "stream",
     "name": "stdout",
     "output_type": "stream",
     "text": [
      "root\n |-- Datetime: string (nullable = true)\n |-- Temperature: float (nullable = true)\n |-- Wind Speed: float (nullable = true)\n |-- Cloud Cover: integer (nullable = true)\n |-- Humidity: integer (nullable = true)\n |-- Weather Description: string (nullable = true)\n\n"
     ]
    }
   ],
   "source": [
    "#Checking the Schema of the DataFrame\n",
    "df_spark.printSchema()"
   ]
  },
  {
   "cell_type": "code",
   "execution_count": 0,
   "metadata": {
    "application/vnd.databricks.v1+cell": {
     "cellMetadata": {
      "byteLimit": 2048000,
      "rowLimit": 10000
     },
     "inputWidgets": {},
     "nuid": "e2b3fffc-daac-4caf-a309-06812cebe205",
     "showTitle": false,
     "tableResultSettingsMap": {},
     "title": ""
    }
   },
   "outputs": [
    {
     "output_type": "display_data",
     "data": {
      "text/html": [
       "<style scoped>\n",
       "  .table-result-container {\n",
       "    max-height: 300px;\n",
       "    overflow: auto;\n",
       "  }\n",
       "  table, th, td {\n",
       "    border: 1px solid black;\n",
       "    border-collapse: collapse;\n",
       "  }\n",
       "  th, td {\n",
       "    padding: 5px;\n",
       "  }\n",
       "  th {\n",
       "    text-align: left;\n",
       "  }\n",
       "</style><div class='table-result-container'><table class='table-result'><thead style='background-color: white'><tr><th>Datetime</th><th>Temperature</th><th>Wind Speed</th><th>Cloud Cover</th><th>Humidity</th><th>Weather Description</th></tr></thead><tbody><tr><td>2025-04-04T12:00:00</td><td>71.1</td><td>7.2</td><td>88</td><td>92</td><td>Overcast clouds</td></tr><tr><td>2025-04-04T15:00:00</td><td>77.7</td><td>8.9</td><td>78</td><td>76</td><td>Overcast clouds</td></tr><tr><td>2025-04-04T18:00:00</td><td>84.9</td><td>8.9</td><td>45</td><td>57</td><td>Broken clouds</td></tr><tr><td>2025-04-04T21:00:00</td><td>88.0</td><td>8.1</td><td>43</td><td>48</td><td>Broken clouds</td></tr><tr><td>2025-04-05T00:00:00</td><td>80.4</td><td>3.6</td><td>48</td><td>62</td><td>Broken clouds</td></tr><tr><td>2025-04-05T03:00:00</td><td>74.8</td><td>4.5</td><td>38</td><td>81</td><td>Scattered clouds</td></tr><tr><td>2025-04-05T06:00:00</td><td>71.6</td><td>4.5</td><td>26</td><td>88</td><td>Scattered clouds</td></tr><tr><td>2025-04-05T09:00:00</td><td>68.2</td><td>5.4</td><td>63</td><td>95</td><td>Broken clouds</td></tr><tr><td>2025-04-05T12:00:00</td><td>67.8</td><td>6.3</td><td>81</td><td>95</td><td>Overcast clouds</td></tr><tr><td>2025-04-05T15:00:00</td><td>76.6</td><td>8.1</td><td>60</td><td>70</td><td>Broken clouds</td></tr><tr><td>2025-04-05T18:00:00</td><td>84.0</td><td>9.8</td><td>39</td><td>52</td><td>Scattered clouds</td></tr><tr><td>2025-04-05T21:00:00</td><td>86.0</td><td>10.7</td><td>38</td><td>45</td><td>Scattered clouds</td></tr><tr><td>2025-04-06T00:00:00</td><td>79.2</td><td>8.1</td><td>47</td><td>58</td><td>Broken clouds</td></tr><tr><td>2025-04-06T03:00:00</td><td>73.0</td><td>9.8</td><td>45</td><td>72</td><td>Broken clouds</td></tr><tr><td>2025-04-06T06:00:00</td><td>69.3</td><td>10.7</td><td>56</td><td>81</td><td>Broken clouds</td></tr><tr><td>2025-04-06T09:00:00</td><td>67.3</td><td>11.6</td><td>57</td><td>89</td><td>Broken clouds</td></tr><tr><td>2025-04-06T12:00:00</td><td>68.0</td><td>11.6</td><td>60</td><td>89</td><td>Broken clouds</td></tr><tr><td>2025-04-06T15:00:00</td><td>77.5</td><td>14.3</td><td>49</td><td>66</td><td>Broken clouds</td></tr><tr><td>2025-04-06T18:00:00</td><td>84.9</td><td>14.3</td><td>55</td><td>49</td><td>Broken clouds</td></tr><tr><td>2025-04-06T21:00:00</td><td>86.2</td><td>14.5</td><td>66</td><td>45</td><td>Broken clouds</td></tr><tr><td>2025-04-07T00:00:00</td><td>77.4</td><td>9.2</td><td>81</td><td>60</td><td>Overcast clouds</td></tr><tr><td>2025-04-07T03:00:00</td><td>71.4</td><td>10.7</td><td>83</td><td>74</td><td>Overcast clouds</td></tr><tr><td>2025-04-07T06:00:00</td><td>68.4</td><td>9.8</td><td>90</td><td>86</td><td>Overcast clouds</td></tr><tr><td>2025-04-07T09:00:00</td><td>66.6</td><td>8.9</td><td>94</td><td>91</td><td>Light shower rain</td></tr><tr><td>2025-04-07T12:00:00</td><td>65.3</td><td>8.9</td><td>91</td><td>95</td><td>Drizzle</td></tr><tr><td>2025-04-07T15:00:00</td><td>67.6</td><td>8.9</td><td>91</td><td>86</td><td>Light shower rain</td></tr><tr><td>2025-04-07T18:00:00</td><td>66.4</td><td>8.7</td><td>90</td><td>80</td><td>Light shower rain</td></tr><tr><td>2025-04-07T21:00:00</td><td>63.1</td><td>6.7</td><td>86</td><td>80</td><td>Light shower rain</td></tr><tr><td>2025-04-08T00:00:00</td><td>60.1</td><td>4.7</td><td>83</td><td>80</td><td>Light shower rain</td></tr><tr><td>2025-04-08T03:00:00</td><td>56.1</td><td>4.6</td><td>78</td><td>78</td><td>Light shower rain</td></tr><tr><td>2025-04-08T06:00:00</td><td>52.2</td><td>4.5</td><td>74</td><td>77</td><td>Overcast clouds</td></tr><tr><td>2025-04-08T09:00:00</td><td>49.8</td><td>5.8</td><td>43</td><td>74</td><td>Broken clouds</td></tr><tr><td>2025-04-08T12:00:00</td><td>47.7</td><td>7.2</td><td>12</td><td>71</td><td>Few clouds</td></tr><tr><td>2025-04-08T15:00:00</td><td>52.3</td><td>8.4</td><td>8</td><td>54</td><td>Few clouds</td></tr><tr><td>2025-04-08T18:00:00</td><td>57.0</td><td>9.6</td><td>4</td><td>36</td><td>Few clouds</td></tr><tr><td>2025-04-08T21:00:00</td><td>54.5</td><td>6.7</td><td>3</td><td>40</td><td>Few clouds</td></tr><tr><td>2025-04-09T00:00:00</td><td>52.0</td><td>3.8</td><td>2</td><td>44</td><td>Few clouds</td></tr><tr><td>2025-04-09T03:00:00</td><td>46.8</td><td>3.7</td><td>2</td><td>53</td><td>Few clouds</td></tr><tr><td>2025-04-09T06:00:00</td><td>41.5</td><td>3.6</td><td>1</td><td>62</td><td>Clear Sky</td></tr><tr><td>2025-04-09T09:00:00</td><td>39.9</td><td>3.6</td><td>2</td><td>66</td><td>Few clouds</td></tr></tbody></table></div>"
      ]
     },
     "metadata": {
      "application/vnd.databricks.v1+output": {
       "addedWidgets": {},
       "aggData": [],
       "aggError": "",
       "aggOverflow": false,
       "aggSchema": [],
       "aggSeriesLimitReached": false,
       "aggType": "",
       "arguments": {},
       "columnCustomDisplayInfos": {},
       "data": [
        [
         "2025-04-04T12:00:00",
         71.1,
         7.2,
         88,
         92,
         "Overcast clouds"
        ],
        [
         "2025-04-04T15:00:00",
         77.7,
         8.9,
         78,
         76,
         "Overcast clouds"
        ],
        [
         "2025-04-04T18:00:00",
         84.9,
         8.9,
         45,
         57,
         "Broken clouds"
        ],
        [
         "2025-04-04T21:00:00",
         88.0,
         8.1,
         43,
         48,
         "Broken clouds"
        ],
        [
         "2025-04-05T00:00:00",
         80.4,
         3.6,
         48,
         62,
         "Broken clouds"
        ],
        [
         "2025-04-05T03:00:00",
         74.8,
         4.5,
         38,
         81,
         "Scattered clouds"
        ],
        [
         "2025-04-05T06:00:00",
         71.6,
         4.5,
         26,
         88,
         "Scattered clouds"
        ],
        [
         "2025-04-05T09:00:00",
         68.2,
         5.4,
         63,
         95,
         "Broken clouds"
        ],
        [
         "2025-04-05T12:00:00",
         67.8,
         6.3,
         81,
         95,
         "Overcast clouds"
        ],
        [
         "2025-04-05T15:00:00",
         76.6,
         8.1,
         60,
         70,
         "Broken clouds"
        ],
        [
         "2025-04-05T18:00:00",
         84.0,
         9.8,
         39,
         52,
         "Scattered clouds"
        ],
        [
         "2025-04-05T21:00:00",
         86.0,
         10.7,
         38,
         45,
         "Scattered clouds"
        ],
        [
         "2025-04-06T00:00:00",
         79.2,
         8.1,
         47,
         58,
         "Broken clouds"
        ],
        [
         "2025-04-06T03:00:00",
         73.0,
         9.8,
         45,
         72,
         "Broken clouds"
        ],
        [
         "2025-04-06T06:00:00",
         69.3,
         10.7,
         56,
         81,
         "Broken clouds"
        ],
        [
         "2025-04-06T09:00:00",
         67.3,
         11.6,
         57,
         89,
         "Broken clouds"
        ],
        [
         "2025-04-06T12:00:00",
         68.0,
         11.6,
         60,
         89,
         "Broken clouds"
        ],
        [
         "2025-04-06T15:00:00",
         77.5,
         14.3,
         49,
         66,
         "Broken clouds"
        ],
        [
         "2025-04-06T18:00:00",
         84.9,
         14.3,
         55,
         49,
         "Broken clouds"
        ],
        [
         "2025-04-06T21:00:00",
         86.2,
         14.5,
         66,
         45,
         "Broken clouds"
        ],
        [
         "2025-04-07T00:00:00",
         77.4,
         9.2,
         81,
         60,
         "Overcast clouds"
        ],
        [
         "2025-04-07T03:00:00",
         71.4,
         10.7,
         83,
         74,
         "Overcast clouds"
        ],
        [
         "2025-04-07T06:00:00",
         68.4,
         9.8,
         90,
         86,
         "Overcast clouds"
        ],
        [
         "2025-04-07T09:00:00",
         66.6,
         8.9,
         94,
         91,
         "Light shower rain"
        ],
        [
         "2025-04-07T12:00:00",
         65.3,
         8.9,
         91,
         95,
         "Drizzle"
        ],
        [
         "2025-04-07T15:00:00",
         67.6,
         8.9,
         91,
         86,
         "Light shower rain"
        ],
        [
         "2025-04-07T18:00:00",
         66.4,
         8.7,
         90,
         80,
         "Light shower rain"
        ],
        [
         "2025-04-07T21:00:00",
         63.1,
         6.7,
         86,
         80,
         "Light shower rain"
        ],
        [
         "2025-04-08T00:00:00",
         60.1,
         4.7,
         83,
         80,
         "Light shower rain"
        ],
        [
         "2025-04-08T03:00:00",
         56.1,
         4.6,
         78,
         78,
         "Light shower rain"
        ],
        [
         "2025-04-08T06:00:00",
         52.2,
         4.5,
         74,
         77,
         "Overcast clouds"
        ],
        [
         "2025-04-08T09:00:00",
         49.8,
         5.8,
         43,
         74,
         "Broken clouds"
        ],
        [
         "2025-04-08T12:00:00",
         47.7,
         7.2,
         12,
         71,
         "Few clouds"
        ],
        [
         "2025-04-08T15:00:00",
         52.3,
         8.4,
         8,
         54,
         "Few clouds"
        ],
        [
         "2025-04-08T18:00:00",
         57.0,
         9.6,
         4,
         36,
         "Few clouds"
        ],
        [
         "2025-04-08T21:00:00",
         54.5,
         6.7,
         3,
         40,
         "Few clouds"
        ],
        [
         "2025-04-09T00:00:00",
         52.0,
         3.8,
         2,
         44,
         "Few clouds"
        ],
        [
         "2025-04-09T03:00:00",
         46.8,
         3.7,
         2,
         53,
         "Few clouds"
        ],
        [
         "2025-04-09T06:00:00",
         41.5,
         3.6,
         1,
         62,
         "Clear Sky"
        ],
        [
         "2025-04-09T09:00:00",
         39.9,
         3.6,
         2,
         66,
         "Few clouds"
        ]
       ],
       "datasetInfos": [],
       "dbfsResultPath": null,
       "isJsonSchema": true,
       "metadata": {},
       "overflow": false,
       "plotOptions": {
        "customPlotOptions": {},
        "displayType": "table",
        "pivotAggregation": null,
        "pivotColumns": null,
        "xColumns": null,
        "yColumns": null
       },
       "removedWidgets": [],
       "schema": [
        {
         "metadata": "{}",
         "name": "Datetime",
         "type": "\"string\""
        },
        {
         "metadata": "{}",
         "name": "Temperature",
         "type": "\"float\""
        },
        {
         "metadata": "{}",
         "name": "Wind Speed",
         "type": "\"float\""
        },
        {
         "metadata": "{}",
         "name": "Cloud Cover",
         "type": "\"integer\""
        },
        {
         "metadata": "{}",
         "name": "Humidity",
         "type": "\"integer\""
        },
        {
         "metadata": "{}",
         "name": "Weather Description",
         "type": "\"string\""
        }
       ],
       "type": "table"
      }
     },
     "output_type": "display_data"
    }
   ],
   "source": [
    "#Filling missing values for numeric columns\n",
    "from pyspark.sql.functions import mean\n",
    "df_spark = df_spark.fillna({\n",
    "    \"Temperature\": df_spark.select(mean(\"Temperature\")).first()[0],\n",
    "    \"Wind Speed\": df_spark.select(mean(\"Wind Speed\")).first()[0],\n",
    "    \"Cloud Cover\": df_spark.select(mean(\"Cloud Cover\")).first()[0],\n",
    "    \"Humidity\": df_spark.select(mean(\"Humidity\")).first()[0]\n",
    "})\n",
    "display(df_spark)\n",
    "\n"
   ]
  },
  {
   "cell_type": "code",
   "execution_count": 0,
   "metadata": {
    "application/vnd.databricks.v1+cell": {
     "cellMetadata": {
      "byteLimit": 2048000,
      "rowLimit": 10000
     },
     "inputWidgets": {},
     "nuid": "4f1dd9d5-c745-4a12-8bcc-ea79603bbb6f",
     "showTitle": false,
     "tableResultSettingsMap": {},
     "title": ""
    }
   },
   "outputs": [
    {
     "output_type": "display_data",
     "data": {
      "text/html": [
       "<style scoped>\n",
       "  .table-result-container {\n",
       "    max-height: 300px;\n",
       "    overflow: auto;\n",
       "  }\n",
       "  table, th, td {\n",
       "    border: 1px solid black;\n",
       "    border-collapse: collapse;\n",
       "  }\n",
       "  th, td {\n",
       "    padding: 5px;\n",
       "  }\n",
       "  th {\n",
       "    text-align: left;\n",
       "  }\n",
       "</style><div class='table-result-container'><table class='table-result'><thead style='background-color: white'><tr><th>Datetime</th><th>Temperature</th><th>Wind Speed</th><th>Cloud Cover</th><th>Humidity</th><th>Weather Description</th></tr></thead><tbody><tr><td>2025-04-04T12:00:00</td><td>71.1</td><td>7.2</td><td>88</td><td>92</td><td>Overcast clouds</td></tr><tr><td>2025-04-04T15:00:00</td><td>77.7</td><td>8.9</td><td>78</td><td>76</td><td>Overcast clouds</td></tr><tr><td>2025-04-04T18:00:00</td><td>84.9</td><td>8.9</td><td>45</td><td>57</td><td>Broken clouds</td></tr><tr><td>2025-04-04T21:00:00</td><td>88.0</td><td>8.1</td><td>43</td><td>48</td><td>Broken clouds</td></tr><tr><td>2025-04-05T00:00:00</td><td>80.4</td><td>3.6</td><td>48</td><td>62</td><td>Broken clouds</td></tr><tr><td>2025-04-05T03:00:00</td><td>74.8</td><td>4.5</td><td>38</td><td>81</td><td>Scattered clouds</td></tr><tr><td>2025-04-05T06:00:00</td><td>71.6</td><td>4.5</td><td>26</td><td>88</td><td>Scattered clouds</td></tr><tr><td>2025-04-05T09:00:00</td><td>68.2</td><td>5.4</td><td>63</td><td>95</td><td>Broken clouds</td></tr><tr><td>2025-04-05T12:00:00</td><td>67.8</td><td>6.3</td><td>81</td><td>95</td><td>Overcast clouds</td></tr><tr><td>2025-04-05T15:00:00</td><td>76.6</td><td>8.1</td><td>60</td><td>70</td><td>Broken clouds</td></tr><tr><td>2025-04-05T18:00:00</td><td>84.0</td><td>9.8</td><td>39</td><td>52</td><td>Scattered clouds</td></tr><tr><td>2025-04-05T21:00:00</td><td>86.0</td><td>10.7</td><td>38</td><td>45</td><td>Scattered clouds</td></tr><tr><td>2025-04-06T00:00:00</td><td>79.2</td><td>8.1</td><td>47</td><td>58</td><td>Broken clouds</td></tr><tr><td>2025-04-06T03:00:00</td><td>73.0</td><td>9.8</td><td>45</td><td>72</td><td>Broken clouds</td></tr><tr><td>2025-04-06T06:00:00</td><td>69.3</td><td>10.7</td><td>56</td><td>81</td><td>Broken clouds</td></tr><tr><td>2025-04-06T09:00:00</td><td>67.3</td><td>11.6</td><td>57</td><td>89</td><td>Broken clouds</td></tr><tr><td>2025-04-06T12:00:00</td><td>68.0</td><td>11.6</td><td>60</td><td>89</td><td>Broken clouds</td></tr><tr><td>2025-04-06T15:00:00</td><td>77.5</td><td>14.3</td><td>49</td><td>66</td><td>Broken clouds</td></tr><tr><td>2025-04-06T18:00:00</td><td>84.9</td><td>14.3</td><td>55</td><td>49</td><td>Broken clouds</td></tr><tr><td>2025-04-06T21:00:00</td><td>86.2</td><td>14.5</td><td>66</td><td>45</td><td>Broken clouds</td></tr><tr><td>2025-04-07T00:00:00</td><td>77.4</td><td>9.2</td><td>81</td><td>60</td><td>Overcast clouds</td></tr><tr><td>2025-04-07T03:00:00</td><td>71.4</td><td>10.7</td><td>83</td><td>74</td><td>Overcast clouds</td></tr><tr><td>2025-04-07T06:00:00</td><td>68.4</td><td>9.8</td><td>90</td><td>86</td><td>Overcast clouds</td></tr><tr><td>2025-04-07T09:00:00</td><td>66.6</td><td>8.9</td><td>94</td><td>91</td><td>Light shower rain</td></tr><tr><td>2025-04-07T12:00:00</td><td>65.3</td><td>8.9</td><td>91</td><td>95</td><td>Drizzle</td></tr><tr><td>2025-04-07T15:00:00</td><td>67.6</td><td>8.9</td><td>91</td><td>86</td><td>Light shower rain</td></tr><tr><td>2025-04-07T18:00:00</td><td>66.4</td><td>8.7</td><td>90</td><td>80</td><td>Light shower rain</td></tr><tr><td>2025-04-07T21:00:00</td><td>63.1</td><td>6.7</td><td>86</td><td>80</td><td>Light shower rain</td></tr><tr><td>2025-04-08T00:00:00</td><td>60.1</td><td>4.7</td><td>83</td><td>80</td><td>Light shower rain</td></tr><tr><td>2025-04-08T03:00:00</td><td>56.1</td><td>4.6</td><td>78</td><td>78</td><td>Light shower rain</td></tr><tr><td>2025-04-08T06:00:00</td><td>52.2</td><td>4.5</td><td>74</td><td>77</td><td>Overcast clouds</td></tr><tr><td>2025-04-08T09:00:00</td><td>49.8</td><td>5.8</td><td>43</td><td>74</td><td>Broken clouds</td></tr><tr><td>2025-04-08T12:00:00</td><td>47.7</td><td>7.2</td><td>12</td><td>71</td><td>Few clouds</td></tr><tr><td>2025-04-08T15:00:00</td><td>52.3</td><td>8.4</td><td>8</td><td>54</td><td>Few clouds</td></tr><tr><td>2025-04-08T18:00:00</td><td>57.0</td><td>9.6</td><td>4</td><td>36</td><td>Few clouds</td></tr><tr><td>2025-04-08T21:00:00</td><td>54.5</td><td>6.7</td><td>3</td><td>40</td><td>Few clouds</td></tr><tr><td>2025-04-09T00:00:00</td><td>52.0</td><td>3.8</td><td>2</td><td>44</td><td>Few clouds</td></tr><tr><td>2025-04-09T03:00:00</td><td>46.8</td><td>3.7</td><td>2</td><td>53</td><td>Few clouds</td></tr><tr><td>2025-04-09T06:00:00</td><td>41.5</td><td>3.6</td><td>1</td><td>62</td><td>Clear Sky</td></tr><tr><td>2025-04-09T09:00:00</td><td>39.9</td><td>3.6</td><td>2</td><td>66</td><td>Few clouds</td></tr></tbody></table></div>"
      ]
     },
     "metadata": {
      "application/vnd.databricks.v1+output": {
       "addedWidgets": {},
       "aggData": [],
       "aggError": "",
       "aggOverflow": false,
       "aggSchema": [],
       "aggSeriesLimitReached": false,
       "aggType": "",
       "arguments": {},
       "columnCustomDisplayInfos": {},
       "data": [
        [
         "2025-04-04T12:00:00",
         71.1,
         7.2,
         88,
         92,
         "Overcast clouds"
        ],
        [
         "2025-04-04T15:00:00",
         77.7,
         8.9,
         78,
         76,
         "Overcast clouds"
        ],
        [
         "2025-04-04T18:00:00",
         84.9,
         8.9,
         45,
         57,
         "Broken clouds"
        ],
        [
         "2025-04-04T21:00:00",
         88.0,
         8.1,
         43,
         48,
         "Broken clouds"
        ],
        [
         "2025-04-05T00:00:00",
         80.4,
         3.6,
         48,
         62,
         "Broken clouds"
        ],
        [
         "2025-04-05T03:00:00",
         74.8,
         4.5,
         38,
         81,
         "Scattered clouds"
        ],
        [
         "2025-04-05T06:00:00",
         71.6,
         4.5,
         26,
         88,
         "Scattered clouds"
        ],
        [
         "2025-04-05T09:00:00",
         68.2,
         5.4,
         63,
         95,
         "Broken clouds"
        ],
        [
         "2025-04-05T12:00:00",
         67.8,
         6.3,
         81,
         95,
         "Overcast clouds"
        ],
        [
         "2025-04-05T15:00:00",
         76.6,
         8.1,
         60,
         70,
         "Broken clouds"
        ],
        [
         "2025-04-05T18:00:00",
         84.0,
         9.8,
         39,
         52,
         "Scattered clouds"
        ],
        [
         "2025-04-05T21:00:00",
         86.0,
         10.7,
         38,
         45,
         "Scattered clouds"
        ],
        [
         "2025-04-06T00:00:00",
         79.2,
         8.1,
         47,
         58,
         "Broken clouds"
        ],
        [
         "2025-04-06T03:00:00",
         73.0,
         9.8,
         45,
         72,
         "Broken clouds"
        ],
        [
         "2025-04-06T06:00:00",
         69.3,
         10.7,
         56,
         81,
         "Broken clouds"
        ],
        [
         "2025-04-06T09:00:00",
         67.3,
         11.6,
         57,
         89,
         "Broken clouds"
        ],
        [
         "2025-04-06T12:00:00",
         68.0,
         11.6,
         60,
         89,
         "Broken clouds"
        ],
        [
         "2025-04-06T15:00:00",
         77.5,
         14.3,
         49,
         66,
         "Broken clouds"
        ],
        [
         "2025-04-06T18:00:00",
         84.9,
         14.3,
         55,
         49,
         "Broken clouds"
        ],
        [
         "2025-04-06T21:00:00",
         86.2,
         14.5,
         66,
         45,
         "Broken clouds"
        ],
        [
         "2025-04-07T00:00:00",
         77.4,
         9.2,
         81,
         60,
         "Overcast clouds"
        ],
        [
         "2025-04-07T03:00:00",
         71.4,
         10.7,
         83,
         74,
         "Overcast clouds"
        ],
        [
         "2025-04-07T06:00:00",
         68.4,
         9.8,
         90,
         86,
         "Overcast clouds"
        ],
        [
         "2025-04-07T09:00:00",
         66.6,
         8.9,
         94,
         91,
         "Light shower rain"
        ],
        [
         "2025-04-07T12:00:00",
         65.3,
         8.9,
         91,
         95,
         "Drizzle"
        ],
        [
         "2025-04-07T15:00:00",
         67.6,
         8.9,
         91,
         86,
         "Light shower rain"
        ],
        [
         "2025-04-07T18:00:00",
         66.4,
         8.7,
         90,
         80,
         "Light shower rain"
        ],
        [
         "2025-04-07T21:00:00",
         63.1,
         6.7,
         86,
         80,
         "Light shower rain"
        ],
        [
         "2025-04-08T00:00:00",
         60.1,
         4.7,
         83,
         80,
         "Light shower rain"
        ],
        [
         "2025-04-08T03:00:00",
         56.1,
         4.6,
         78,
         78,
         "Light shower rain"
        ],
        [
         "2025-04-08T06:00:00",
         52.2,
         4.5,
         74,
         77,
         "Overcast clouds"
        ],
        [
         "2025-04-08T09:00:00",
         49.8,
         5.8,
         43,
         74,
         "Broken clouds"
        ],
        [
         "2025-04-08T12:00:00",
         47.7,
         7.2,
         12,
         71,
         "Few clouds"
        ],
        [
         "2025-04-08T15:00:00",
         52.3,
         8.4,
         8,
         54,
         "Few clouds"
        ],
        [
         "2025-04-08T18:00:00",
         57.0,
         9.6,
         4,
         36,
         "Few clouds"
        ],
        [
         "2025-04-08T21:00:00",
         54.5,
         6.7,
         3,
         40,
         "Few clouds"
        ],
        [
         "2025-04-09T00:00:00",
         52.0,
         3.8,
         2,
         44,
         "Few clouds"
        ],
        [
         "2025-04-09T03:00:00",
         46.8,
         3.7,
         2,
         53,
         "Few clouds"
        ],
        [
         "2025-04-09T06:00:00",
         41.5,
         3.6,
         1,
         62,
         "Clear Sky"
        ],
        [
         "2025-04-09T09:00:00",
         39.9,
         3.6,
         2,
         66,
         "Few clouds"
        ]
       ],
       "datasetInfos": [],
       "dbfsResultPath": null,
       "isJsonSchema": true,
       "metadata": {},
       "overflow": false,
       "plotOptions": {
        "customPlotOptions": {},
        "displayType": "table",
        "pivotAggregation": null,
        "pivotColumns": null,
        "xColumns": null,
        "yColumns": null
       },
       "removedWidgets": [],
       "schema": [
        {
         "metadata": "{}",
         "name": "Datetime",
         "type": "\"string\""
        },
        {
         "metadata": "{}",
         "name": "Temperature",
         "type": "\"float\""
        },
        {
         "metadata": "{}",
         "name": "Wind Speed",
         "type": "\"float\""
        },
        {
         "metadata": "{}",
         "name": "Cloud Cover",
         "type": "\"integer\""
        },
        {
         "metadata": "{}",
         "name": "Humidity",
         "type": "\"integer\""
        },
        {
         "metadata": "{}",
         "name": "Weather Description",
         "type": "\"string\""
        }
       ],
       "type": "table"
      }
     },
     "output_type": "display_data"
    }
   ],
   "source": [
    "#Filling missing values for categorical columns\n",
    "from pyspark.sql.functions import count\n",
    "weather_update = df_spark.groupBy(\"Weather Description\").count().orderBy(count(\"*\"), ascending=False).first()[0]\n",
    "df_spark = df_spark.fillna({\"Weather Description\": weather_update})\n",
    "display(df_spark)\n"
   ]
  },
  {
   "cell_type": "code",
   "execution_count": 0,
   "metadata": {
    "application/vnd.databricks.v1+cell": {
     "cellMetadata": {
      "byteLimit": 2048000,
      "rowLimit": 10000
     },
     "inputWidgets": {},
     "nuid": "5c4b7f33-4324-4001-9419-ca9876ef6864",
     "showTitle": false,
     "tableResultSettingsMap": {},
     "title": ""
    }
   },
   "outputs": [
    {
     "output_type": "display_data",
     "data": {
      "text/html": [
       "<style scoped>\n",
       "  .table-result-container {\n",
       "    max-height: 300px;\n",
       "    overflow: auto;\n",
       "  }\n",
       "  table, th, td {\n",
       "    border: 1px solid black;\n",
       "    border-collapse: collapse;\n",
       "  }\n",
       "  th, td {\n",
       "    padding: 5px;\n",
       "  }\n",
       "  th {\n",
       "    text-align: left;\n",
       "  }\n",
       "</style><div class='table-result-container'><table class='table-result'><thead style='background-color: white'><tr><th>Datetime</th><th>Temperature</th><th>Wind Speed</th><th>Cloud Cover</th><th>Humidity</th><th>Weather Description</th></tr></thead><tbody><tr><td>2025-04-04T12:00:00</td><td>71.1</td><td>7.2</td><td>88</td><td>92</td><td>Overcast clouds</td></tr><tr><td>2025-04-04T15:00:00</td><td>77.7</td><td>8.9</td><td>78</td><td>76</td><td>Overcast clouds</td></tr><tr><td>2025-04-04T18:00:00</td><td>84.9</td><td>8.9</td><td>45</td><td>57</td><td>Broken clouds</td></tr><tr><td>2025-04-04T21:00:00</td><td>88.0</td><td>8.1</td><td>43</td><td>48</td><td>Broken clouds</td></tr><tr><td>2025-04-05T00:00:00</td><td>80.4</td><td>3.6</td><td>48</td><td>62</td><td>Broken clouds</td></tr><tr><td>2025-04-05T03:00:00</td><td>74.8</td><td>4.5</td><td>38</td><td>81</td><td>Scattered clouds</td></tr><tr><td>2025-04-05T06:00:00</td><td>71.6</td><td>4.5</td><td>26</td><td>88</td><td>Scattered clouds</td></tr><tr><td>2025-04-05T09:00:00</td><td>68.2</td><td>5.4</td><td>63</td><td>95</td><td>Broken clouds</td></tr><tr><td>2025-04-05T12:00:00</td><td>67.8</td><td>6.3</td><td>81</td><td>95</td><td>Overcast clouds</td></tr><tr><td>2025-04-05T15:00:00</td><td>76.6</td><td>8.1</td><td>60</td><td>70</td><td>Broken clouds</td></tr><tr><td>2025-04-05T18:00:00</td><td>84.0</td><td>9.8</td><td>39</td><td>52</td><td>Scattered clouds</td></tr><tr><td>2025-04-05T21:00:00</td><td>86.0</td><td>10.7</td><td>38</td><td>45</td><td>Scattered clouds</td></tr><tr><td>2025-04-06T00:00:00</td><td>79.2</td><td>8.1</td><td>47</td><td>58</td><td>Broken clouds</td></tr><tr><td>2025-04-06T03:00:00</td><td>73.0</td><td>9.8</td><td>45</td><td>72</td><td>Broken clouds</td></tr><tr><td>2025-04-06T06:00:00</td><td>69.3</td><td>10.7</td><td>56</td><td>81</td><td>Broken clouds</td></tr><tr><td>2025-04-06T09:00:00</td><td>67.3</td><td>11.6</td><td>57</td><td>89</td><td>Broken clouds</td></tr><tr><td>2025-04-06T12:00:00</td><td>68.0</td><td>11.6</td><td>60</td><td>89</td><td>Broken clouds</td></tr><tr><td>2025-04-06T15:00:00</td><td>77.5</td><td>14.3</td><td>49</td><td>66</td><td>Broken clouds</td></tr><tr><td>2025-04-06T18:00:00</td><td>84.9</td><td>14.3</td><td>55</td><td>49</td><td>Broken clouds</td></tr><tr><td>2025-04-06T21:00:00</td><td>86.2</td><td>14.5</td><td>66</td><td>45</td><td>Broken clouds</td></tr><tr><td>2025-04-07T00:00:00</td><td>77.4</td><td>9.2</td><td>81</td><td>60</td><td>Overcast clouds</td></tr><tr><td>2025-04-07T03:00:00</td><td>71.4</td><td>10.7</td><td>83</td><td>74</td><td>Overcast clouds</td></tr><tr><td>2025-04-07T06:00:00</td><td>68.4</td><td>9.8</td><td>90</td><td>86</td><td>Overcast clouds</td></tr><tr><td>2025-04-07T09:00:00</td><td>66.6</td><td>8.9</td><td>94</td><td>91</td><td>Light shower rain</td></tr><tr><td>2025-04-07T12:00:00</td><td>65.3</td><td>8.9</td><td>91</td><td>95</td><td>Drizzle</td></tr><tr><td>2025-04-07T15:00:00</td><td>67.6</td><td>8.9</td><td>91</td><td>86</td><td>Light shower rain</td></tr><tr><td>2025-04-07T18:00:00</td><td>66.4</td><td>8.7</td><td>90</td><td>80</td><td>Light shower rain</td></tr><tr><td>2025-04-07T21:00:00</td><td>63.1</td><td>6.7</td><td>86</td><td>80</td><td>Light shower rain</td></tr><tr><td>2025-04-08T00:00:00</td><td>60.1</td><td>4.7</td><td>83</td><td>80</td><td>Light shower rain</td></tr><tr><td>2025-04-08T03:00:00</td><td>56.1</td><td>4.6</td><td>78</td><td>78</td><td>Light shower rain</td></tr><tr><td>2025-04-08T06:00:00</td><td>52.2</td><td>4.5</td><td>74</td><td>77</td><td>Overcast clouds</td></tr><tr><td>2025-04-08T09:00:00</td><td>49.8</td><td>5.8</td><td>43</td><td>74</td><td>Broken clouds</td></tr><tr><td>2025-04-08T12:00:00</td><td>47.7</td><td>7.2</td><td>12</td><td>71</td><td>Few clouds</td></tr><tr><td>2025-04-08T15:00:00</td><td>52.3</td><td>8.4</td><td>8</td><td>54</td><td>Few clouds</td></tr><tr><td>2025-04-08T18:00:00</td><td>57.0</td><td>9.6</td><td>4</td><td>36</td><td>Few clouds</td></tr><tr><td>2025-04-08T21:00:00</td><td>54.5</td><td>6.7</td><td>3</td><td>40</td><td>Few clouds</td></tr><tr><td>2025-04-09T00:00:00</td><td>52.0</td><td>3.8</td><td>2</td><td>44</td><td>Few clouds</td></tr><tr><td>2025-04-09T03:00:00</td><td>46.8</td><td>3.7</td><td>2</td><td>53</td><td>Few clouds</td></tr><tr><td>2025-04-09T06:00:00</td><td>41.5</td><td>3.6</td><td>1</td><td>62</td><td>Clear Sky</td></tr><tr><td>2025-04-09T09:00:00</td><td>39.9</td><td>3.6</td><td>2</td><td>66</td><td>Few clouds</td></tr></tbody></table></div>"
      ]
     },
     "metadata": {
      "application/vnd.databricks.v1+output": {
       "addedWidgets": {},
       "aggData": [],
       "aggError": "",
       "aggOverflow": false,
       "aggSchema": [],
       "aggSeriesLimitReached": false,
       "aggType": "",
       "arguments": {},
       "columnCustomDisplayInfos": {},
       "data": [
        [
         "2025-04-04T12:00:00",
         71.1,
         7.2,
         88,
         92,
         "Overcast clouds"
        ],
        [
         "2025-04-04T15:00:00",
         77.7,
         8.9,
         78,
         76,
         "Overcast clouds"
        ],
        [
         "2025-04-04T18:00:00",
         84.9,
         8.9,
         45,
         57,
         "Broken clouds"
        ],
        [
         "2025-04-04T21:00:00",
         88.0,
         8.1,
         43,
         48,
         "Broken clouds"
        ],
        [
         "2025-04-05T00:00:00",
         80.4,
         3.6,
         48,
         62,
         "Broken clouds"
        ],
        [
         "2025-04-05T03:00:00",
         74.8,
         4.5,
         38,
         81,
         "Scattered clouds"
        ],
        [
         "2025-04-05T06:00:00",
         71.6,
         4.5,
         26,
         88,
         "Scattered clouds"
        ],
        [
         "2025-04-05T09:00:00",
         68.2,
         5.4,
         63,
         95,
         "Broken clouds"
        ],
        [
         "2025-04-05T12:00:00",
         67.8,
         6.3,
         81,
         95,
         "Overcast clouds"
        ],
        [
         "2025-04-05T15:00:00",
         76.6,
         8.1,
         60,
         70,
         "Broken clouds"
        ],
        [
         "2025-04-05T18:00:00",
         84.0,
         9.8,
         39,
         52,
         "Scattered clouds"
        ],
        [
         "2025-04-05T21:00:00",
         86.0,
         10.7,
         38,
         45,
         "Scattered clouds"
        ],
        [
         "2025-04-06T00:00:00",
         79.2,
         8.1,
         47,
         58,
         "Broken clouds"
        ],
        [
         "2025-04-06T03:00:00",
         73.0,
         9.8,
         45,
         72,
         "Broken clouds"
        ],
        [
         "2025-04-06T06:00:00",
         69.3,
         10.7,
         56,
         81,
         "Broken clouds"
        ],
        [
         "2025-04-06T09:00:00",
         67.3,
         11.6,
         57,
         89,
         "Broken clouds"
        ],
        [
         "2025-04-06T12:00:00",
         68.0,
         11.6,
         60,
         89,
         "Broken clouds"
        ],
        [
         "2025-04-06T15:00:00",
         77.5,
         14.3,
         49,
         66,
         "Broken clouds"
        ],
        [
         "2025-04-06T18:00:00",
         84.9,
         14.3,
         55,
         49,
         "Broken clouds"
        ],
        [
         "2025-04-06T21:00:00",
         86.2,
         14.5,
         66,
         45,
         "Broken clouds"
        ],
        [
         "2025-04-07T00:00:00",
         77.4,
         9.2,
         81,
         60,
         "Overcast clouds"
        ],
        [
         "2025-04-07T03:00:00",
         71.4,
         10.7,
         83,
         74,
         "Overcast clouds"
        ],
        [
         "2025-04-07T06:00:00",
         68.4,
         9.8,
         90,
         86,
         "Overcast clouds"
        ],
        [
         "2025-04-07T09:00:00",
         66.6,
         8.9,
         94,
         91,
         "Light shower rain"
        ],
        [
         "2025-04-07T12:00:00",
         65.3,
         8.9,
         91,
         95,
         "Drizzle"
        ],
        [
         "2025-04-07T15:00:00",
         67.6,
         8.9,
         91,
         86,
         "Light shower rain"
        ],
        [
         "2025-04-07T18:00:00",
         66.4,
         8.7,
         90,
         80,
         "Light shower rain"
        ],
        [
         "2025-04-07T21:00:00",
         63.1,
         6.7,
         86,
         80,
         "Light shower rain"
        ],
        [
         "2025-04-08T00:00:00",
         60.1,
         4.7,
         83,
         80,
         "Light shower rain"
        ],
        [
         "2025-04-08T03:00:00",
         56.1,
         4.6,
         78,
         78,
         "Light shower rain"
        ],
        [
         "2025-04-08T06:00:00",
         52.2,
         4.5,
         74,
         77,
         "Overcast clouds"
        ],
        [
         "2025-04-08T09:00:00",
         49.8,
         5.8,
         43,
         74,
         "Broken clouds"
        ],
        [
         "2025-04-08T12:00:00",
         47.7,
         7.2,
         12,
         71,
         "Few clouds"
        ],
        [
         "2025-04-08T15:00:00",
         52.3,
         8.4,
         8,
         54,
         "Few clouds"
        ],
        [
         "2025-04-08T18:00:00",
         57.0,
         9.6,
         4,
         36,
         "Few clouds"
        ],
        [
         "2025-04-08T21:00:00",
         54.5,
         6.7,
         3,
         40,
         "Few clouds"
        ],
        [
         "2025-04-09T00:00:00",
         52.0,
         3.8,
         2,
         44,
         "Few clouds"
        ],
        [
         "2025-04-09T03:00:00",
         46.8,
         3.7,
         2,
         53,
         "Few clouds"
        ],
        [
         "2025-04-09T06:00:00",
         41.5,
         3.6,
         1,
         62,
         "Clear Sky"
        ],
        [
         "2025-04-09T09:00:00",
         39.9,
         3.6,
         2,
         66,
         "Few clouds"
        ]
       ],
       "datasetInfos": [],
       "dbfsResultPath": null,
       "isJsonSchema": true,
       "metadata": {},
       "overflow": false,
       "plotOptions": {
        "customPlotOptions": {},
        "displayType": "table",
        "pivotAggregation": null,
        "pivotColumns": null,
        "xColumns": null,
        "yColumns": null
       },
       "removedWidgets": [],
       "schema": [
        {
         "metadata": "{}",
         "name": "Datetime",
         "type": "\"string\""
        },
        {
         "metadata": "{}",
         "name": "Temperature",
         "type": "\"float\""
        },
        {
         "metadata": "{}",
         "name": "Wind Speed",
         "type": "\"float\""
        },
        {
         "metadata": "{}",
         "name": "Cloud Cover",
         "type": "\"integer\""
        },
        {
         "metadata": "{}",
         "name": "Humidity",
         "type": "\"integer\""
        },
        {
         "metadata": "{}",
         "name": "Weather Description",
         "type": "\"string\""
        }
       ],
       "type": "table"
      }
     },
     "output_type": "display_data"
    }
   ],
   "source": [
    "# Filling the missing datetime with first available date \n",
    "datetime_updated = df_spark.select(\"Datetime\").orderBy(\"Datetime\").first()[0]\n",
    "df_spark = df_spark.fillna({\"Datetime\": datetime_updated})\n",
    "display(df_spark)\n"
   ]
  },
  {
   "cell_type": "code",
   "execution_count": 0,
   "metadata": {
    "application/vnd.databricks.v1+cell": {
     "cellMetadata": {
      "byteLimit": 2048000,
      "rowLimit": 10000
     },
     "inputWidgets": {},
     "nuid": "9185aaf0-da9c-455b-8aa6-36eff2604001",
     "showTitle": false,
     "tableResultSettingsMap": {},
     "title": ""
    }
   },
   "outputs": [
    {
     "output_type": "stream",
     "name": "stdout",
     "output_type": "stream",
     "text": [
      "Out[12]: True"
     ]
    }
   ],
   "source": [
    "#Verifying if all missing values are filled\n",
    "df_spark.dropna().count() == df_spark.count()\n"
   ]
  },
  {
   "cell_type": "code",
   "execution_count": 0,
   "metadata": {
    "application/vnd.databricks.v1+cell": {
     "cellMetadata": {
      "byteLimit": 2048000,
      "rowLimit": 10000
     },
     "inputWidgets": {},
     "nuid": "0ec9b622-b823-4e42-9d4f-9114eac21339",
     "showTitle": false,
     "tableResultSettingsMap": {},
     "title": ""
    }
   },
   "outputs": [],
   "source": [
    "df_spark = df_spark.withColumnRenamed(\"Weather Description\", \"Weather_Description\") \\\n",
    "                   .withColumnRenamed(\"Wind Speed\", \"Wind_Speed\") \\\n",
    "                   .withColumnRenamed(\"Cloud Cover\", \"Cloud_Cover\")\n"
   ]
  },
  {
   "cell_type": "markdown",
   "metadata": {
    "application/vnd.databricks.v1+cell": {
     "cellMetadata": {
      "byteLimit": 2048000,
      "rowLimit": 10000
     },
     "inputWidgets": {},
     "nuid": "62563c33-f863-4fe8-a6c5-e9bec2358281",
     "showTitle": false,
     "tableResultSettingsMap": {},
     "title": ""
    }
   },
   "source": [
    "**EDA OPERATIONS IN PYSPARK**"
   ]
  },
  {
   "cell_type": "markdown",
   "metadata": {
    "application/vnd.databricks.v1+cell": {
     "cellMetadata": {
      "byteLimit": 2048000,
      "rowLimit": 10000
     },
     "inputWidgets": {},
     "nuid": "5cb5e468-48ea-4327-9644-031a1bd61dbe",
     "showTitle": false,
     "tableResultSettingsMap": {},
     "title": ""
    }
   },
   "source": [
    "**FILTERING THE DATA ON THE BASIS OF THEIR TEMP USING LOGIC CONDITIONS**"
   ]
  },
  {
   "cell_type": "code",
   "execution_count": 0,
   "metadata": {
    "application/vnd.databricks.v1+cell": {
     "cellMetadata": {
      "byteLimit": 2048000,
      "rowLimit": 10000
     },
     "inputWidgets": {},
     "nuid": "117f9c11-a4da-46e0-b370-96a9789e4c13",
     "showTitle": false,
     "tableResultSettingsMap": {},
     "title": ""
    }
   },
   "outputs": [
    {
     "output_type": "display_data",
     "data": {
      "text/html": [
       "<style scoped>\n",
       "  .table-result-container {\n",
       "    max-height: 300px;\n",
       "    overflow: auto;\n",
       "  }\n",
       "  table, th, td {\n",
       "    border: 1px solid black;\n",
       "    border-collapse: collapse;\n",
       "  }\n",
       "  th, td {\n",
       "    padding: 5px;\n",
       "  }\n",
       "  th {\n",
       "    text-align: left;\n",
       "  }\n",
       "</style><div class='table-result-container'><table class='table-result'><thead style='background-color: white'><tr><th>Datetime</th><th>Temperature</th><th>Wind_Speed</th><th>Cloud_Cover</th><th>Humidity</th><th>Weather_Description</th></tr></thead><tbody><tr><td>2025-04-04T15:00:00</td><td>77.7</td><td>8.9</td><td>78</td><td>76</td><td>Overcast clouds</td></tr><tr><td>2025-04-04T18:00:00</td><td>84.9</td><td>8.9</td><td>45</td><td>57</td><td>Broken clouds</td></tr><tr><td>2025-04-04T21:00:00</td><td>88.0</td><td>8.1</td><td>43</td><td>48</td><td>Broken clouds</td></tr><tr><td>2025-04-05T00:00:00</td><td>80.4</td><td>3.6</td><td>48</td><td>62</td><td>Broken clouds</td></tr><tr><td>2025-04-05T15:00:00</td><td>76.6</td><td>8.1</td><td>60</td><td>70</td><td>Broken clouds</td></tr><tr><td>2025-04-05T18:00:00</td><td>84.0</td><td>9.8</td><td>39</td><td>52</td><td>Scattered clouds</td></tr><tr><td>2025-04-05T21:00:00</td><td>86.0</td><td>10.7</td><td>38</td><td>45</td><td>Scattered clouds</td></tr><tr><td>2025-04-06T00:00:00</td><td>79.2</td><td>8.1</td><td>47</td><td>58</td><td>Broken clouds</td></tr><tr><td>2025-04-06T15:00:00</td><td>77.5</td><td>14.3</td><td>49</td><td>66</td><td>Broken clouds</td></tr><tr><td>2025-04-06T18:00:00</td><td>84.9</td><td>14.3</td><td>55</td><td>49</td><td>Broken clouds</td></tr><tr><td>2025-04-06T21:00:00</td><td>86.2</td><td>14.5</td><td>66</td><td>45</td><td>Broken clouds</td></tr><tr><td>2025-04-07T00:00:00</td><td>77.4</td><td>9.2</td><td>81</td><td>60</td><td>Overcast clouds</td></tr></tbody></table></div>"
      ]
     },
     "metadata": {
      "application/vnd.databricks.v1+output": {
       "addedWidgets": {},
       "aggData": [],
       "aggError": "",
       "aggOverflow": false,
       "aggSchema": [],
       "aggSeriesLimitReached": false,
       "aggType": "",
       "arguments": {},
       "columnCustomDisplayInfos": {},
       "data": [
        [
         "2025-04-04T15:00:00",
         77.7,
         8.9,
         78,
         76,
         "Overcast clouds"
        ],
        [
         "2025-04-04T18:00:00",
         84.9,
         8.9,
         45,
         57,
         "Broken clouds"
        ],
        [
         "2025-04-04T21:00:00",
         88.0,
         8.1,
         43,
         48,
         "Broken clouds"
        ],
        [
         "2025-04-05T00:00:00",
         80.4,
         3.6,
         48,
         62,
         "Broken clouds"
        ],
        [
         "2025-04-05T15:00:00",
         76.6,
         8.1,
         60,
         70,
         "Broken clouds"
        ],
        [
         "2025-04-05T18:00:00",
         84.0,
         9.8,
         39,
         52,
         "Scattered clouds"
        ],
        [
         "2025-04-05T21:00:00",
         86.0,
         10.7,
         38,
         45,
         "Scattered clouds"
        ],
        [
         "2025-04-06T00:00:00",
         79.2,
         8.1,
         47,
         58,
         "Broken clouds"
        ],
        [
         "2025-04-06T15:00:00",
         77.5,
         14.3,
         49,
         66,
         "Broken clouds"
        ],
        [
         "2025-04-06T18:00:00",
         84.9,
         14.3,
         55,
         49,
         "Broken clouds"
        ],
        [
         "2025-04-06T21:00:00",
         86.2,
         14.5,
         66,
         45,
         "Broken clouds"
        ],
        [
         "2025-04-07T00:00:00",
         77.4,
         9.2,
         81,
         60,
         "Overcast clouds"
        ]
       ],
       "datasetInfos": [],
       "dbfsResultPath": null,
       "isJsonSchema": true,
       "metadata": {},
       "overflow": false,
       "plotOptions": {
        "customPlotOptions": {},
        "displayType": "table",
        "pivotAggregation": null,
        "pivotColumns": null,
        "xColumns": null,
        "yColumns": null
       },
       "removedWidgets": [],
       "schema": [
        {
         "metadata": "{}",
         "name": "Datetime",
         "type": "\"string\""
        },
        {
         "metadata": "{}",
         "name": "Temperature",
         "type": "\"float\""
        },
        {
         "metadata": "{}",
         "name": "Wind_Speed",
         "type": "\"float\""
        },
        {
         "metadata": "{}",
         "name": "Cloud_Cover",
         "type": "\"integer\""
        },
        {
         "metadata": "{}",
         "name": "Humidity",
         "type": "\"integer\""
        },
        {
         "metadata": "{}",
         "name": "Weather_Description",
         "type": "\"string\""
        }
       ],
       "type": "table"
      }
     },
     "output_type": "display_data"
    }
   ],
   "source": [
    "#Filtering Records with Temperature Above 75 degrees\n",
    "display(df_spark.filter(df_spark[\"Temperature\"] > 75))"
   ]
  },
  {
   "cell_type": "code",
   "execution_count": 0,
   "metadata": {
    "application/vnd.databricks.v1+cell": {
     "cellMetadata": {
      "byteLimit": 2048000,
      "rowLimit": 10000
     },
     "inputWidgets": {},
     "nuid": "841c1acb-d30b-42ef-a1cf-ad3f81c35c74",
     "showTitle": false,
     "tableResultSettingsMap": {},
     "title": ""
    }
   },
   "outputs": [
    {
     "output_type": "display_data",
     "data": {
      "text/html": [
       "<style scoped>\n",
       "  .table-result-container {\n",
       "    max-height: 300px;\n",
       "    overflow: auto;\n",
       "  }\n",
       "  table, th, td {\n",
       "    border: 1px solid black;\n",
       "    border-collapse: collapse;\n",
       "  }\n",
       "  th, td {\n",
       "    padding: 5px;\n",
       "  }\n",
       "  th {\n",
       "    text-align: left;\n",
       "  }\n",
       "</style><div class='table-result-container'><table class='table-result'><thead style='background-color: white'><tr><th>Datetime</th><th>Temperature</th><th>Wind_Speed</th><th>Cloud_Cover</th><th>Humidity</th><th>Weather_Description</th></tr></thead><tbody><tr><td>2025-04-04T21:00:00</td><td>88.0</td><td>8.1</td><td>43</td><td>48</td><td>Broken clouds</td></tr><tr><td>2025-04-05T21:00:00</td><td>86.0</td><td>10.7</td><td>38</td><td>45</td><td>Scattered clouds</td></tr><tr><td>2025-04-06T18:00:00</td><td>84.9</td><td>14.3</td><td>55</td><td>49</td><td>Broken clouds</td></tr><tr><td>2025-04-06T21:00:00</td><td>86.2</td><td>14.5</td><td>66</td><td>45</td><td>Broken clouds</td></tr></tbody></table></div>"
      ]
     },
     "metadata": {
      "application/vnd.databricks.v1+output": {
       "addedWidgets": {},
       "aggData": [],
       "aggError": "",
       "aggOverflow": false,
       "aggSchema": [],
       "aggSeriesLimitReached": false,
       "aggType": "",
       "arguments": {},
       "columnCustomDisplayInfos": {},
       "data": [
        [
         "2025-04-04T21:00:00",
         88.0,
         8.1,
         43,
         48,
         "Broken clouds"
        ],
        [
         "2025-04-05T21:00:00",
         86.0,
         10.7,
         38,
         45,
         "Scattered clouds"
        ],
        [
         "2025-04-06T18:00:00",
         84.9,
         14.3,
         55,
         49,
         "Broken clouds"
        ],
        [
         "2025-04-06T21:00:00",
         86.2,
         14.5,
         66,
         45,
         "Broken clouds"
        ]
       ],
       "datasetInfos": [],
       "dbfsResultPath": null,
       "isJsonSchema": true,
       "metadata": {},
       "overflow": false,
       "plotOptions": {
        "customPlotOptions": {},
        "displayType": "table",
        "pivotAggregation": null,
        "pivotColumns": null,
        "xColumns": null,
        "yColumns": null
       },
       "removedWidgets": [],
       "schema": [
        {
         "metadata": "{}",
         "name": "Datetime",
         "type": "\"string\""
        },
        {
         "metadata": "{}",
         "name": "Temperature",
         "type": "\"float\""
        },
        {
         "metadata": "{}",
         "name": "Wind_Speed",
         "type": "\"float\""
        },
        {
         "metadata": "{}",
         "name": "Cloud_Cover",
         "type": "\"integer\""
        },
        {
         "metadata": "{}",
         "name": "Humidity",
         "type": "\"integer\""
        },
        {
         "metadata": "{}",
         "name": "Weather_Description",
         "type": "\"string\""
        }
       ],
       "type": "table"
      }
     },
     "output_type": "display_data"
    }
   ],
   "source": [
    "#Filtering Data Based on Multiple Logic Conditions\n",
    "display(df_spark.filter((df_spark[\"Temperature\"]>75) & (df_spark[\"Humidity\"]<50)))"
   ]
  },
  {
   "cell_type": "markdown",
   "metadata": {
    "application/vnd.databricks.v1+cell": {
     "cellMetadata": {
      "byteLimit": 2048000,
      "rowLimit": 10000
     },
     "inputWidgets": {},
     "nuid": "5480b264-42ef-4d79-abd5-b00bfe541580",
     "showTitle": false,
     "tableResultSettingsMap": {},
     "title": ""
    }
   },
   "source": [
    "**AGGREGATING TEMP, WIND SPEED, AND HUMIDITY BY WEATHER DESCRIPTION**"
   ]
  },
  {
   "cell_type": "code",
   "execution_count": 0,
   "metadata": {
    "application/vnd.databricks.v1+cell": {
     "cellMetadata": {
      "byteLimit": 2048000,
      "rowLimit": 10000
     },
     "inputWidgets": {},
     "nuid": "834cb85f-c369-4926-8593-29baea71e46c",
     "showTitle": false,
     "tableResultSettingsMap": {},
     "title": ""
    }
   },
   "outputs": [
    {
     "output_type": "display_data",
     "data": {
      "text/html": [
       "<style scoped>\n",
       "  .table-result-container {\n",
       "    max-height: 300px;\n",
       "    overflow: auto;\n",
       "  }\n",
       "  table, th, td {\n",
       "    border: 1px solid black;\n",
       "    border-collapse: collapse;\n",
       "  }\n",
       "  th, td {\n",
       "    padding: 5px;\n",
       "  }\n",
       "  th {\n",
       "    text-align: left;\n",
       "  }\n",
       "</style><div class='table-result-container'><table class='table-result'><thead style='background-color: white'><tr><th>Weather_Description</th><th>Avg_Temp</th><th>Max_Speed</th><th>Min_Humidity</th><th>Total_records</th></tr></thead><tbody><tr><td>Broken clouds</td><td>75.23571423121861</td><td>14.5</td><td>45</td><td>14</td></tr><tr><td>Overcast clouds</td><td>69.42857197352818</td><td>10.7</td><td>60</td><td>7</td></tr><tr><td>Scattered clouds</td><td>79.10000038146973</td><td>10.7</td><td>45</td><td>4</td></tr><tr><td>Drizzle</td><td>65.30000305175781</td><td>8.9</td><td>95</td><td>1</td></tr><tr><td>Light shower rain</td><td>63.31666564941406</td><td>8.9</td><td>78</td><td>6</td></tr><tr><td>Few clouds</td><td>50.028571537562776</td><td>9.6</td><td>36</td><td>7</td></tr><tr><td>Clear Sky</td><td>41.5</td><td>3.6</td><td>62</td><td>1</td></tr></tbody></table></div>"
      ]
     },
     "metadata": {
      "application/vnd.databricks.v1+output": {
       "addedWidgets": {},
       "aggData": [],
       "aggError": "",
       "aggOverflow": false,
       "aggSchema": [],
       "aggSeriesLimitReached": false,
       "aggType": "",
       "arguments": {},
       "columnCustomDisplayInfos": {},
       "data": [
        [
         "Broken clouds",
         75.23571423121861,
         14.5,
         45,
         14
        ],
        [
         "Overcast clouds",
         69.42857197352818,
         10.7,
         60,
         7
        ],
        [
         "Scattered clouds",
         79.10000038146973,
         10.7,
         45,
         4
        ],
        [
         "Drizzle",
         65.30000305175781,
         8.9,
         95,
         1
        ],
        [
         "Light shower rain",
         63.31666564941406,
         8.9,
         78,
         6
        ],
        [
         "Few clouds",
         50.028571537562776,
         9.6,
         36,
         7
        ],
        [
         "Clear Sky",
         41.5,
         3.6,
         62,
         1
        ]
       ],
       "datasetInfos": [],
       "dbfsResultPath": null,
       "isJsonSchema": true,
       "metadata": {},
       "overflow": false,
       "plotOptions": {
        "customPlotOptions": {},
        "displayType": "table",
        "pivotAggregation": null,
        "pivotColumns": null,
        "xColumns": null,
        "yColumns": null
       },
       "removedWidgets": [],
       "schema": [
        {
         "metadata": "{}",
         "name": "Weather_Description",
         "type": "\"string\""
        },
        {
         "metadata": "{}",
         "name": "Avg_Temp",
         "type": "\"double\""
        },
        {
         "metadata": "{}",
         "name": "Max_Speed",
         "type": "\"float\""
        },
        {
         "metadata": "{}",
         "name": "Min_Humidity",
         "type": "\"integer\""
        },
        {
         "metadata": "{}",
         "name": "Total_records",
         "type": "\"long\""
        }
       ],
       "type": "table"
      }
     },
     "output_type": "display_data"
    }
   ],
   "source": [
    "from pyspark.sql.functions import avg,max,min,count\n",
    "display(df_spark.groupby(\"Weather_Description\").agg(\n",
    "    avg(\"Temperature\"). alias(\"Avg_Temp\"),\n",
    "    max(\"Wind_Speed\"). alias (\"Max_Speed\"),\n",
    "    min(\"Humidity\"). alias(\"Min_Humidity\"),\n",
    "    count(\"*\").alias (\"Total_records\")))"
   ]
  },
  {
   "cell_type": "markdown",
   "metadata": {
    "application/vnd.databricks.v1+cell": {
     "cellMetadata": {
      "byteLimit": 2048000,
      "rowLimit": 10000
     },
     "inputWidgets": {},
     "nuid": "f7cd564b-3736-45b3-80d1-1d569c36a1e1",
     "showTitle": false,
     "tableResultSettingsMap": {},
     "title": ""
    }
   },
   "source": [
    "**SORTING DATA BY TEMPERATURE**"
   ]
  },
  {
   "cell_type": "code",
   "execution_count": 0,
   "metadata": {
    "application/vnd.databricks.v1+cell": {
     "cellMetadata": {
      "byteLimit": 2048000,
      "rowLimit": 10000
     },
     "inputWidgets": {},
     "nuid": "a2609743-f4c5-4567-b0a8-c2842a87ab54",
     "showTitle": false,
     "tableResultSettingsMap": {},
     "title": ""
    }
   },
   "outputs": [
    {
     "output_type": "display_data",
     "data": {
      "text/html": [
       "<style scoped>\n",
       "  .table-result-container {\n",
       "    max-height: 300px;\n",
       "    overflow: auto;\n",
       "  }\n",
       "  table, th, td {\n",
       "    border: 1px solid black;\n",
       "    border-collapse: collapse;\n",
       "  }\n",
       "  th, td {\n",
       "    padding: 5px;\n",
       "  }\n",
       "  th {\n",
       "    text-align: left;\n",
       "  }\n",
       "</style><div class='table-result-container'><table class='table-result'><thead style='background-color: white'><tr><th>Datetime</th><th>Temperature</th><th>Wind_Speed</th><th>Cloud_Cover</th><th>Humidity</th><th>Weather_Description</th></tr></thead><tbody><tr><td>2025-04-04T21:00:00</td><td>88.0</td><td>8.1</td><td>43</td><td>48</td><td>Broken clouds</td></tr><tr><td>2025-04-06T21:00:00</td><td>86.2</td><td>14.5</td><td>66</td><td>45</td><td>Broken clouds</td></tr><tr><td>2025-04-05T21:00:00</td><td>86.0</td><td>10.7</td><td>38</td><td>45</td><td>Scattered clouds</td></tr><tr><td>2025-04-04T18:00:00</td><td>84.9</td><td>8.9</td><td>45</td><td>57</td><td>Broken clouds</td></tr><tr><td>2025-04-06T18:00:00</td><td>84.9</td><td>14.3</td><td>55</td><td>49</td><td>Broken clouds</td></tr><tr><td>2025-04-05T18:00:00</td><td>84.0</td><td>9.8</td><td>39</td><td>52</td><td>Scattered clouds</td></tr><tr><td>2025-04-05T00:00:00</td><td>80.4</td><td>3.6</td><td>48</td><td>62</td><td>Broken clouds</td></tr><tr><td>2025-04-06T00:00:00</td><td>79.2</td><td>8.1</td><td>47</td><td>58</td><td>Broken clouds</td></tr><tr><td>2025-04-04T15:00:00</td><td>77.7</td><td>8.9</td><td>78</td><td>76</td><td>Overcast clouds</td></tr><tr><td>2025-04-06T15:00:00</td><td>77.5</td><td>14.3</td><td>49</td><td>66</td><td>Broken clouds</td></tr><tr><td>2025-04-07T00:00:00</td><td>77.4</td><td>9.2</td><td>81</td><td>60</td><td>Overcast clouds</td></tr><tr><td>2025-04-05T15:00:00</td><td>76.6</td><td>8.1</td><td>60</td><td>70</td><td>Broken clouds</td></tr><tr><td>2025-04-05T03:00:00</td><td>74.8</td><td>4.5</td><td>38</td><td>81</td><td>Scattered clouds</td></tr><tr><td>2025-04-06T03:00:00</td><td>73.0</td><td>9.8</td><td>45</td><td>72</td><td>Broken clouds</td></tr><tr><td>2025-04-05T06:00:00</td><td>71.6</td><td>4.5</td><td>26</td><td>88</td><td>Scattered clouds</td></tr><tr><td>2025-04-07T03:00:00</td><td>71.4</td><td>10.7</td><td>83</td><td>74</td><td>Overcast clouds</td></tr><tr><td>2025-04-04T12:00:00</td><td>71.1</td><td>7.2</td><td>88</td><td>92</td><td>Overcast clouds</td></tr><tr><td>2025-04-06T06:00:00</td><td>69.3</td><td>10.7</td><td>56</td><td>81</td><td>Broken clouds</td></tr><tr><td>2025-04-07T06:00:00</td><td>68.4</td><td>9.8</td><td>90</td><td>86</td><td>Overcast clouds</td></tr><tr><td>2025-04-05T09:00:00</td><td>68.2</td><td>5.4</td><td>63</td><td>95</td><td>Broken clouds</td></tr><tr><td>2025-04-06T12:00:00</td><td>68.0</td><td>11.6</td><td>60</td><td>89</td><td>Broken clouds</td></tr><tr><td>2025-04-05T12:00:00</td><td>67.8</td><td>6.3</td><td>81</td><td>95</td><td>Overcast clouds</td></tr><tr><td>2025-04-07T15:00:00</td><td>67.6</td><td>8.9</td><td>91</td><td>86</td><td>Light shower rain</td></tr><tr><td>2025-04-06T09:00:00</td><td>67.3</td><td>11.6</td><td>57</td><td>89</td><td>Broken clouds</td></tr><tr><td>2025-04-07T09:00:00</td><td>66.6</td><td>8.9</td><td>94</td><td>91</td><td>Light shower rain</td></tr><tr><td>2025-04-07T18:00:00</td><td>66.4</td><td>8.7</td><td>90</td><td>80</td><td>Light shower rain</td></tr><tr><td>2025-04-07T12:00:00</td><td>65.3</td><td>8.9</td><td>91</td><td>95</td><td>Drizzle</td></tr><tr><td>2025-04-07T21:00:00</td><td>63.1</td><td>6.7</td><td>86</td><td>80</td><td>Light shower rain</td></tr><tr><td>2025-04-08T00:00:00</td><td>60.1</td><td>4.7</td><td>83</td><td>80</td><td>Light shower rain</td></tr><tr><td>2025-04-08T18:00:00</td><td>57.0</td><td>9.6</td><td>4</td><td>36</td><td>Few clouds</td></tr><tr><td>2025-04-08T03:00:00</td><td>56.1</td><td>4.6</td><td>78</td><td>78</td><td>Light shower rain</td></tr><tr><td>2025-04-08T21:00:00</td><td>54.5</td><td>6.7</td><td>3</td><td>40</td><td>Few clouds</td></tr><tr><td>2025-04-08T15:00:00</td><td>52.3</td><td>8.4</td><td>8</td><td>54</td><td>Few clouds</td></tr><tr><td>2025-04-08T06:00:00</td><td>52.2</td><td>4.5</td><td>74</td><td>77</td><td>Overcast clouds</td></tr><tr><td>2025-04-09T00:00:00</td><td>52.0</td><td>3.8</td><td>2</td><td>44</td><td>Few clouds</td></tr><tr><td>2025-04-08T09:00:00</td><td>49.8</td><td>5.8</td><td>43</td><td>74</td><td>Broken clouds</td></tr><tr><td>2025-04-08T12:00:00</td><td>47.7</td><td>7.2</td><td>12</td><td>71</td><td>Few clouds</td></tr><tr><td>2025-04-09T03:00:00</td><td>46.8</td><td>3.7</td><td>2</td><td>53</td><td>Few clouds</td></tr><tr><td>2025-04-09T06:00:00</td><td>41.5</td><td>3.6</td><td>1</td><td>62</td><td>Clear Sky</td></tr><tr><td>2025-04-09T09:00:00</td><td>39.9</td><td>3.6</td><td>2</td><td>66</td><td>Few clouds</td></tr></tbody></table></div>"
      ]
     },
     "metadata": {
      "application/vnd.databricks.v1+output": {
       "addedWidgets": {},
       "aggData": [],
       "aggError": "",
       "aggOverflow": false,
       "aggSchema": [],
       "aggSeriesLimitReached": false,
       "aggType": "",
       "arguments": {},
       "columnCustomDisplayInfos": {},
       "data": [
        [
         "2025-04-04T21:00:00",
         88.0,
         8.1,
         43,
         48,
         "Broken clouds"
        ],
        [
         "2025-04-06T21:00:00",
         86.2,
         14.5,
         66,
         45,
         "Broken clouds"
        ],
        [
         "2025-04-05T21:00:00",
         86.0,
         10.7,
         38,
         45,
         "Scattered clouds"
        ],
        [
         "2025-04-04T18:00:00",
         84.9,
         8.9,
         45,
         57,
         "Broken clouds"
        ],
        [
         "2025-04-06T18:00:00",
         84.9,
         14.3,
         55,
         49,
         "Broken clouds"
        ],
        [
         "2025-04-05T18:00:00",
         84.0,
         9.8,
         39,
         52,
         "Scattered clouds"
        ],
        [
         "2025-04-05T00:00:00",
         80.4,
         3.6,
         48,
         62,
         "Broken clouds"
        ],
        [
         "2025-04-06T00:00:00",
         79.2,
         8.1,
         47,
         58,
         "Broken clouds"
        ],
        [
         "2025-04-04T15:00:00",
         77.7,
         8.9,
         78,
         76,
         "Overcast clouds"
        ],
        [
         "2025-04-06T15:00:00",
         77.5,
         14.3,
         49,
         66,
         "Broken clouds"
        ],
        [
         "2025-04-07T00:00:00",
         77.4,
         9.2,
         81,
         60,
         "Overcast clouds"
        ],
        [
         "2025-04-05T15:00:00",
         76.6,
         8.1,
         60,
         70,
         "Broken clouds"
        ],
        [
         "2025-04-05T03:00:00",
         74.8,
         4.5,
         38,
         81,
         "Scattered clouds"
        ],
        [
         "2025-04-06T03:00:00",
         73.0,
         9.8,
         45,
         72,
         "Broken clouds"
        ],
        [
         "2025-04-05T06:00:00",
         71.6,
         4.5,
         26,
         88,
         "Scattered clouds"
        ],
        [
         "2025-04-07T03:00:00",
         71.4,
         10.7,
         83,
         74,
         "Overcast clouds"
        ],
        [
         "2025-04-04T12:00:00",
         71.1,
         7.2,
         88,
         92,
         "Overcast clouds"
        ],
        [
         "2025-04-06T06:00:00",
         69.3,
         10.7,
         56,
         81,
         "Broken clouds"
        ],
        [
         "2025-04-07T06:00:00",
         68.4,
         9.8,
         90,
         86,
         "Overcast clouds"
        ],
        [
         "2025-04-05T09:00:00",
         68.2,
         5.4,
         63,
         95,
         "Broken clouds"
        ],
        [
         "2025-04-06T12:00:00",
         68.0,
         11.6,
         60,
         89,
         "Broken clouds"
        ],
        [
         "2025-04-05T12:00:00",
         67.8,
         6.3,
         81,
         95,
         "Overcast clouds"
        ],
        [
         "2025-04-07T15:00:00",
         67.6,
         8.9,
         91,
         86,
         "Light shower rain"
        ],
        [
         "2025-04-06T09:00:00",
         67.3,
         11.6,
         57,
         89,
         "Broken clouds"
        ],
        [
         "2025-04-07T09:00:00",
         66.6,
         8.9,
         94,
         91,
         "Light shower rain"
        ],
        [
         "2025-04-07T18:00:00",
         66.4,
         8.7,
         90,
         80,
         "Light shower rain"
        ],
        [
         "2025-04-07T12:00:00",
         65.3,
         8.9,
         91,
         95,
         "Drizzle"
        ],
        [
         "2025-04-07T21:00:00",
         63.1,
         6.7,
         86,
         80,
         "Light shower rain"
        ],
        [
         "2025-04-08T00:00:00",
         60.1,
         4.7,
         83,
         80,
         "Light shower rain"
        ],
        [
         "2025-04-08T18:00:00",
         57.0,
         9.6,
         4,
         36,
         "Few clouds"
        ],
        [
         "2025-04-08T03:00:00",
         56.1,
         4.6,
         78,
         78,
         "Light shower rain"
        ],
        [
         "2025-04-08T21:00:00",
         54.5,
         6.7,
         3,
         40,
         "Few clouds"
        ],
        [
         "2025-04-08T15:00:00",
         52.3,
         8.4,
         8,
         54,
         "Few clouds"
        ],
        [
         "2025-04-08T06:00:00",
         52.2,
         4.5,
         74,
         77,
         "Overcast clouds"
        ],
        [
         "2025-04-09T00:00:00",
         52.0,
         3.8,
         2,
         44,
         "Few clouds"
        ],
        [
         "2025-04-08T09:00:00",
         49.8,
         5.8,
         43,
         74,
         "Broken clouds"
        ],
        [
         "2025-04-08T12:00:00",
         47.7,
         7.2,
         12,
         71,
         "Few clouds"
        ],
        [
         "2025-04-09T03:00:00",
         46.8,
         3.7,
         2,
         53,
         "Few clouds"
        ],
        [
         "2025-04-09T06:00:00",
         41.5,
         3.6,
         1,
         62,
         "Clear Sky"
        ],
        [
         "2025-04-09T09:00:00",
         39.9,
         3.6,
         2,
         66,
         "Few clouds"
        ]
       ],
       "datasetInfos": [],
       "dbfsResultPath": null,
       "isJsonSchema": true,
       "metadata": {},
       "overflow": false,
       "plotOptions": {
        "customPlotOptions": {},
        "displayType": "table",
        "pivotAggregation": null,
        "pivotColumns": null,
        "xColumns": null,
        "yColumns": null
       },
       "removedWidgets": [],
       "schema": [
        {
         "metadata": "{}",
         "name": "Datetime",
         "type": "\"string\""
        },
        {
         "metadata": "{}",
         "name": "Temperature",
         "type": "\"float\""
        },
        {
         "metadata": "{}",
         "name": "Wind_Speed",
         "type": "\"float\""
        },
        {
         "metadata": "{}",
         "name": "Cloud_Cover",
         "type": "\"integer\""
        },
        {
         "metadata": "{}",
         "name": "Humidity",
         "type": "\"integer\""
        },
        {
         "metadata": "{}",
         "name": "Weather_Description",
         "type": "\"string\""
        }
       ],
       "type": "table"
      }
     },
     "output_type": "display_data"
    }
   ],
   "source": [
    "display(df_spark.orderBy(df_spark[\"Temperature\"].desc()))"
   ]
  },
  {
   "cell_type": "markdown",
   "metadata": {
    "application/vnd.databricks.v1+cell": {
     "cellMetadata": {},
     "inputWidgets": {},
     "nuid": "a13d8c39-8978-4e69-af13-7e9d44035e7e",
     "showTitle": false,
     "tableResultSettingsMap": {},
     "title": ""
    }
   },
   "source": [
    "**FILTERING DAYS WITH CLOUDY WEATHER**"
   ]
  },
  {
   "cell_type": "code",
   "execution_count": 0,
   "metadata": {
    "application/vnd.databricks.v1+cell": {
     "cellMetadata": {
      "byteLimit": 2048000,
      "rowLimit": 10000
     },
     "inputWidgets": {},
     "nuid": "7e0a8a73-d1b5-446f-b9fb-1e67c3add2cc",
     "showTitle": false,
     "tableResultSettingsMap": {},
     "title": ""
    }
   },
   "outputs": [
    {
     "output_type": "display_data",
     "data": {
      "text/html": [
       "<style scoped>\n",
       "  .table-result-container {\n",
       "    max-height: 300px;\n",
       "    overflow: auto;\n",
       "  }\n",
       "  table, th, td {\n",
       "    border: 1px solid black;\n",
       "    border-collapse: collapse;\n",
       "  }\n",
       "  th, td {\n",
       "    padding: 5px;\n",
       "  }\n",
       "  th {\n",
       "    text-align: left;\n",
       "  }\n",
       "</style><div class='table-result-container'><table class='table-result'><thead style='background-color: white'><tr><th>Datetime</th><th>Temperature</th><th>Wind_Speed</th><th>Cloud_Cover</th><th>Humidity</th><th>Weather_Description</th></tr></thead><tbody><tr><td>2025-04-04T12:00:00</td><td>71.1</td><td>7.2</td><td>88</td><td>92</td><td>Overcast clouds</td></tr><tr><td>2025-04-04T15:00:00</td><td>77.7</td><td>8.9</td><td>78</td><td>76</td><td>Overcast clouds</td></tr><tr><td>2025-04-04T18:00:00</td><td>84.9</td><td>8.9</td><td>45</td><td>57</td><td>Broken clouds</td></tr><tr><td>2025-04-04T21:00:00</td><td>88.0</td><td>8.1</td><td>43</td><td>48</td><td>Broken clouds</td></tr><tr><td>2025-04-05T00:00:00</td><td>80.4</td><td>3.6</td><td>48</td><td>62</td><td>Broken clouds</td></tr><tr><td>2025-04-05T03:00:00</td><td>74.8</td><td>4.5</td><td>38</td><td>81</td><td>Scattered clouds</td></tr><tr><td>2025-04-05T06:00:00</td><td>71.6</td><td>4.5</td><td>26</td><td>88</td><td>Scattered clouds</td></tr><tr><td>2025-04-05T09:00:00</td><td>68.2</td><td>5.4</td><td>63</td><td>95</td><td>Broken clouds</td></tr><tr><td>2025-04-05T12:00:00</td><td>67.8</td><td>6.3</td><td>81</td><td>95</td><td>Overcast clouds</td></tr><tr><td>2025-04-05T15:00:00</td><td>76.6</td><td>8.1</td><td>60</td><td>70</td><td>Broken clouds</td></tr><tr><td>2025-04-05T18:00:00</td><td>84.0</td><td>9.8</td><td>39</td><td>52</td><td>Scattered clouds</td></tr><tr><td>2025-04-05T21:00:00</td><td>86.0</td><td>10.7</td><td>38</td><td>45</td><td>Scattered clouds</td></tr><tr><td>2025-04-06T00:00:00</td><td>79.2</td><td>8.1</td><td>47</td><td>58</td><td>Broken clouds</td></tr><tr><td>2025-04-06T03:00:00</td><td>73.0</td><td>9.8</td><td>45</td><td>72</td><td>Broken clouds</td></tr><tr><td>2025-04-06T06:00:00</td><td>69.3</td><td>10.7</td><td>56</td><td>81</td><td>Broken clouds</td></tr><tr><td>2025-04-06T09:00:00</td><td>67.3</td><td>11.6</td><td>57</td><td>89</td><td>Broken clouds</td></tr><tr><td>2025-04-06T12:00:00</td><td>68.0</td><td>11.6</td><td>60</td><td>89</td><td>Broken clouds</td></tr><tr><td>2025-04-06T15:00:00</td><td>77.5</td><td>14.3</td><td>49</td><td>66</td><td>Broken clouds</td></tr><tr><td>2025-04-06T18:00:00</td><td>84.9</td><td>14.3</td><td>55</td><td>49</td><td>Broken clouds</td></tr><tr><td>2025-04-06T21:00:00</td><td>86.2</td><td>14.5</td><td>66</td><td>45</td><td>Broken clouds</td></tr><tr><td>2025-04-07T00:00:00</td><td>77.4</td><td>9.2</td><td>81</td><td>60</td><td>Overcast clouds</td></tr><tr><td>2025-04-07T03:00:00</td><td>71.4</td><td>10.7</td><td>83</td><td>74</td><td>Overcast clouds</td></tr><tr><td>2025-04-07T06:00:00</td><td>68.4</td><td>9.8</td><td>90</td><td>86</td><td>Overcast clouds</td></tr><tr><td>2025-04-08T06:00:00</td><td>52.2</td><td>4.5</td><td>74</td><td>77</td><td>Overcast clouds</td></tr><tr><td>2025-04-08T09:00:00</td><td>49.8</td><td>5.8</td><td>43</td><td>74</td><td>Broken clouds</td></tr><tr><td>2025-04-08T12:00:00</td><td>47.7</td><td>7.2</td><td>12</td><td>71</td><td>Few clouds</td></tr><tr><td>2025-04-08T15:00:00</td><td>52.3</td><td>8.4</td><td>8</td><td>54</td><td>Few clouds</td></tr><tr><td>2025-04-08T18:00:00</td><td>57.0</td><td>9.6</td><td>4</td><td>36</td><td>Few clouds</td></tr><tr><td>2025-04-08T21:00:00</td><td>54.5</td><td>6.7</td><td>3</td><td>40</td><td>Few clouds</td></tr><tr><td>2025-04-09T00:00:00</td><td>52.0</td><td>3.8</td><td>2</td><td>44</td><td>Few clouds</td></tr><tr><td>2025-04-09T03:00:00</td><td>46.8</td><td>3.7</td><td>2</td><td>53</td><td>Few clouds</td></tr><tr><td>2025-04-09T09:00:00</td><td>39.9</td><td>3.6</td><td>2</td><td>66</td><td>Few clouds</td></tr></tbody></table></div>"
      ]
     },
     "metadata": {
      "application/vnd.databricks.v1+output": {
       "addedWidgets": {},
       "aggData": [],
       "aggError": "",
       "aggOverflow": false,
       "aggSchema": [],
       "aggSeriesLimitReached": false,
       "aggType": "",
       "arguments": {},
       "columnCustomDisplayInfos": {},
       "data": [
        [
         "2025-04-04T12:00:00",
         71.1,
         7.2,
         88,
         92,
         "Overcast clouds"
        ],
        [
         "2025-04-04T15:00:00",
         77.7,
         8.9,
         78,
         76,
         "Overcast clouds"
        ],
        [
         "2025-04-04T18:00:00",
         84.9,
         8.9,
         45,
         57,
         "Broken clouds"
        ],
        [
         "2025-04-04T21:00:00",
         88.0,
         8.1,
         43,
         48,
         "Broken clouds"
        ],
        [
         "2025-04-05T00:00:00",
         80.4,
         3.6,
         48,
         62,
         "Broken clouds"
        ],
        [
         "2025-04-05T03:00:00",
         74.8,
         4.5,
         38,
         81,
         "Scattered clouds"
        ],
        [
         "2025-04-05T06:00:00",
         71.6,
         4.5,
         26,
         88,
         "Scattered clouds"
        ],
        [
         "2025-04-05T09:00:00",
         68.2,
         5.4,
         63,
         95,
         "Broken clouds"
        ],
        [
         "2025-04-05T12:00:00",
         67.8,
         6.3,
         81,
         95,
         "Overcast clouds"
        ],
        [
         "2025-04-05T15:00:00",
         76.6,
         8.1,
         60,
         70,
         "Broken clouds"
        ],
        [
         "2025-04-05T18:00:00",
         84.0,
         9.8,
         39,
         52,
         "Scattered clouds"
        ],
        [
         "2025-04-05T21:00:00",
         86.0,
         10.7,
         38,
         45,
         "Scattered clouds"
        ],
        [
         "2025-04-06T00:00:00",
         79.2,
         8.1,
         47,
         58,
         "Broken clouds"
        ],
        [
         "2025-04-06T03:00:00",
         73.0,
         9.8,
         45,
         72,
         "Broken clouds"
        ],
        [
         "2025-04-06T06:00:00",
         69.3,
         10.7,
         56,
         81,
         "Broken clouds"
        ],
        [
         "2025-04-06T09:00:00",
         67.3,
         11.6,
         57,
         89,
         "Broken clouds"
        ],
        [
         "2025-04-06T12:00:00",
         68.0,
         11.6,
         60,
         89,
         "Broken clouds"
        ],
        [
         "2025-04-06T15:00:00",
         77.5,
         14.3,
         49,
         66,
         "Broken clouds"
        ],
        [
         "2025-04-06T18:00:00",
         84.9,
         14.3,
         55,
         49,
         "Broken clouds"
        ],
        [
         "2025-04-06T21:00:00",
         86.2,
         14.5,
         66,
         45,
         "Broken clouds"
        ],
        [
         "2025-04-07T00:00:00",
         77.4,
         9.2,
         81,
         60,
         "Overcast clouds"
        ],
        [
         "2025-04-07T03:00:00",
         71.4,
         10.7,
         83,
         74,
         "Overcast clouds"
        ],
        [
         "2025-04-07T06:00:00",
         68.4,
         9.8,
         90,
         86,
         "Overcast clouds"
        ],
        [
         "2025-04-08T06:00:00",
         52.2,
         4.5,
         74,
         77,
         "Overcast clouds"
        ],
        [
         "2025-04-08T09:00:00",
         49.8,
         5.8,
         43,
         74,
         "Broken clouds"
        ],
        [
         "2025-04-08T12:00:00",
         47.7,
         7.2,
         12,
         71,
         "Few clouds"
        ],
        [
         "2025-04-08T15:00:00",
         52.3,
         8.4,
         8,
         54,
         "Few clouds"
        ],
        [
         "2025-04-08T18:00:00",
         57.0,
         9.6,
         4,
         36,
         "Few clouds"
        ],
        [
         "2025-04-08T21:00:00",
         54.5,
         6.7,
         3,
         40,
         "Few clouds"
        ],
        [
         "2025-04-09T00:00:00",
         52.0,
         3.8,
         2,
         44,
         "Few clouds"
        ],
        [
         "2025-04-09T03:00:00",
         46.8,
         3.7,
         2,
         53,
         "Few clouds"
        ],
        [
         "2025-04-09T09:00:00",
         39.9,
         3.6,
         2,
         66,
         "Few clouds"
        ]
       ],
       "datasetInfos": [],
       "dbfsResultPath": null,
       "isJsonSchema": true,
       "metadata": {},
       "overflow": false,
       "plotOptions": {
        "customPlotOptions": {},
        "displayType": "table",
        "pivotAggregation": null,
        "pivotColumns": null,
        "xColumns": null,
        "yColumns": null
       },
       "removedWidgets": [],
       "schema": [
        {
         "metadata": "{}",
         "name": "Datetime",
         "type": "\"string\""
        },
        {
         "metadata": "{}",
         "name": "Temperature",
         "type": "\"float\""
        },
        {
         "metadata": "{}",
         "name": "Wind_Speed",
         "type": "\"float\""
        },
        {
         "metadata": "{}",
         "name": "Cloud_Cover",
         "type": "\"integer\""
        },
        {
         "metadata": "{}",
         "name": "Humidity",
         "type": "\"integer\""
        },
        {
         "metadata": "{}",
         "name": "Weather_Description",
         "type": "\"string\""
        }
       ],
       "type": "table"
      }
     },
     "output_type": "display_data"
    }
   ],
   "source": [
    "df_cloudydays = df_spark.filter(df_spark[\"Weather_Description\"].contains(\"cloud\"))\n",
    "display(df_cloudydays)\n"
   ]
  },
  {
   "cell_type": "markdown",
   "metadata": {
    "application/vnd.databricks.v1+cell": {
     "cellMetadata": {},
     "inputWidgets": {},
     "nuid": "b2f7d855-c7cd-4f9b-80be-6e90e1aec127",
     "showTitle": false,
     "tableResultSettingsMap": {},
     "title": ""
    }
   },
   "source": [
    "**FILTERING DAYS WITH CLOUD COVER > 50**"
   ]
  },
  {
   "cell_type": "code",
   "execution_count": 0,
   "metadata": {
    "application/vnd.databricks.v1+cell": {
     "cellMetadata": {
      "byteLimit": 2048000,
      "rowLimit": 10000
     },
     "inputWidgets": {},
     "nuid": "2d91d31a-e9f0-486f-812f-36d300d7b8c5",
     "showTitle": false,
     "tableResultSettingsMap": {},
     "title": ""
    }
   },
   "outputs": [
    {
     "output_type": "display_data",
     "data": {
      "text/html": [
       "<style scoped>\n",
       "  .table-result-container {\n",
       "    max-height: 300px;\n",
       "    overflow: auto;\n",
       "  }\n",
       "  table, th, td {\n",
       "    border: 1px solid black;\n",
       "    border-collapse: collapse;\n",
       "  }\n",
       "  th, td {\n",
       "    padding: 5px;\n",
       "  }\n",
       "  th {\n",
       "    text-align: left;\n",
       "  }\n",
       "</style><div class='table-result-container'><table class='table-result'><thead style='background-color: white'><tr><th>Datetime</th><th>Temperature</th><th>Wind_Speed</th><th>Cloud_Cover</th><th>Humidity</th><th>Weather_Description</th></tr></thead><tbody><tr><td>2025-04-04T12:00:00</td><td>71.1</td><td>7.2</td><td>88</td><td>92</td><td>Overcast clouds</td></tr><tr><td>2025-04-04T15:00:00</td><td>77.7</td><td>8.9</td><td>78</td><td>76</td><td>Overcast clouds</td></tr><tr><td>2025-04-05T09:00:00</td><td>68.2</td><td>5.4</td><td>63</td><td>95</td><td>Broken clouds</td></tr><tr><td>2025-04-05T12:00:00</td><td>67.8</td><td>6.3</td><td>81</td><td>95</td><td>Overcast clouds</td></tr><tr><td>2025-04-05T15:00:00</td><td>76.6</td><td>8.1</td><td>60</td><td>70</td><td>Broken clouds</td></tr><tr><td>2025-04-06T06:00:00</td><td>69.3</td><td>10.7</td><td>56</td><td>81</td><td>Broken clouds</td></tr><tr><td>2025-04-06T09:00:00</td><td>67.3</td><td>11.6</td><td>57</td><td>89</td><td>Broken clouds</td></tr><tr><td>2025-04-06T12:00:00</td><td>68.0</td><td>11.6</td><td>60</td><td>89</td><td>Broken clouds</td></tr><tr><td>2025-04-06T18:00:00</td><td>84.9</td><td>14.3</td><td>55</td><td>49</td><td>Broken clouds</td></tr><tr><td>2025-04-06T21:00:00</td><td>86.2</td><td>14.5</td><td>66</td><td>45</td><td>Broken clouds</td></tr><tr><td>2025-04-07T00:00:00</td><td>77.4</td><td>9.2</td><td>81</td><td>60</td><td>Overcast clouds</td></tr><tr><td>2025-04-07T03:00:00</td><td>71.4</td><td>10.7</td><td>83</td><td>74</td><td>Overcast clouds</td></tr><tr><td>2025-04-07T06:00:00</td><td>68.4</td><td>9.8</td><td>90</td><td>86</td><td>Overcast clouds</td></tr><tr><td>2025-04-07T09:00:00</td><td>66.6</td><td>8.9</td><td>94</td><td>91</td><td>Light shower rain</td></tr><tr><td>2025-04-07T12:00:00</td><td>65.3</td><td>8.9</td><td>91</td><td>95</td><td>Drizzle</td></tr><tr><td>2025-04-07T15:00:00</td><td>67.6</td><td>8.9</td><td>91</td><td>86</td><td>Light shower rain</td></tr><tr><td>2025-04-07T18:00:00</td><td>66.4</td><td>8.7</td><td>90</td><td>80</td><td>Light shower rain</td></tr><tr><td>2025-04-07T21:00:00</td><td>63.1</td><td>6.7</td><td>86</td><td>80</td><td>Light shower rain</td></tr><tr><td>2025-04-08T00:00:00</td><td>60.1</td><td>4.7</td><td>83</td><td>80</td><td>Light shower rain</td></tr><tr><td>2025-04-08T03:00:00</td><td>56.1</td><td>4.6</td><td>78</td><td>78</td><td>Light shower rain</td></tr><tr><td>2025-04-08T06:00:00</td><td>52.2</td><td>4.5</td><td>74</td><td>77</td><td>Overcast clouds</td></tr></tbody></table></div>"
      ]
     },
     "metadata": {
      "application/vnd.databricks.v1+output": {
       "addedWidgets": {},
       "aggData": [],
       "aggError": "",
       "aggOverflow": false,
       "aggSchema": [],
       "aggSeriesLimitReached": false,
       "aggType": "",
       "arguments": {},
       "columnCustomDisplayInfos": {},
       "data": [
        [
         "2025-04-04T12:00:00",
         71.1,
         7.2,
         88,
         92,
         "Overcast clouds"
        ],
        [
         "2025-04-04T15:00:00",
         77.7,
         8.9,
         78,
         76,
         "Overcast clouds"
        ],
        [
         "2025-04-05T09:00:00",
         68.2,
         5.4,
         63,
         95,
         "Broken clouds"
        ],
        [
         "2025-04-05T12:00:00",
         67.8,
         6.3,
         81,
         95,
         "Overcast clouds"
        ],
        [
         "2025-04-05T15:00:00",
         76.6,
         8.1,
         60,
         70,
         "Broken clouds"
        ],
        [
         "2025-04-06T06:00:00",
         69.3,
         10.7,
         56,
         81,
         "Broken clouds"
        ],
        [
         "2025-04-06T09:00:00",
         67.3,
         11.6,
         57,
         89,
         "Broken clouds"
        ],
        [
         "2025-04-06T12:00:00",
         68.0,
         11.6,
         60,
         89,
         "Broken clouds"
        ],
        [
         "2025-04-06T18:00:00",
         84.9,
         14.3,
         55,
         49,
         "Broken clouds"
        ],
        [
         "2025-04-06T21:00:00",
         86.2,
         14.5,
         66,
         45,
         "Broken clouds"
        ],
        [
         "2025-04-07T00:00:00",
         77.4,
         9.2,
         81,
         60,
         "Overcast clouds"
        ],
        [
         "2025-04-07T03:00:00",
         71.4,
         10.7,
         83,
         74,
         "Overcast clouds"
        ],
        [
         "2025-04-07T06:00:00",
         68.4,
         9.8,
         90,
         86,
         "Overcast clouds"
        ],
        [
         "2025-04-07T09:00:00",
         66.6,
         8.9,
         94,
         91,
         "Light shower rain"
        ],
        [
         "2025-04-07T12:00:00",
         65.3,
         8.9,
         91,
         95,
         "Drizzle"
        ],
        [
         "2025-04-07T15:00:00",
         67.6,
         8.9,
         91,
         86,
         "Light shower rain"
        ],
        [
         "2025-04-07T18:00:00",
         66.4,
         8.7,
         90,
         80,
         "Light shower rain"
        ],
        [
         "2025-04-07T21:00:00",
         63.1,
         6.7,
         86,
         80,
         "Light shower rain"
        ],
        [
         "2025-04-08T00:00:00",
         60.1,
         4.7,
         83,
         80,
         "Light shower rain"
        ],
        [
         "2025-04-08T03:00:00",
         56.1,
         4.6,
         78,
         78,
         "Light shower rain"
        ],
        [
         "2025-04-08T06:00:00",
         52.2,
         4.5,
         74,
         77,
         "Overcast clouds"
        ]
       ],
       "datasetInfos": [],
       "dbfsResultPath": null,
       "isJsonSchema": true,
       "metadata": {},
       "overflow": false,
       "plotOptions": {
        "customPlotOptions": {},
        "displayType": "table",
        "pivotAggregation": null,
        "pivotColumns": null,
        "xColumns": null,
        "yColumns": null
       },
       "removedWidgets": [],
       "schema": [
        {
         "metadata": "{}",
         "name": "Datetime",
         "type": "\"string\""
        },
        {
         "metadata": "{}",
         "name": "Temperature",
         "type": "\"float\""
        },
        {
         "metadata": "{}",
         "name": "Wind_Speed",
         "type": "\"float\""
        },
        {
         "metadata": "{}",
         "name": "Cloud_Cover",
         "type": "\"integer\""
        },
        {
         "metadata": "{}",
         "name": "Humidity",
         "type": "\"integer\""
        },
        {
         "metadata": "{}",
         "name": "Weather_Description",
         "type": "\"string\""
        }
       ],
       "type": "table"
      }
     },
     "output_type": "display_data"
    }
   ],
   "source": [
    "df_cloudycover = df_spark.filter(df_spark[\"Cloud_Cover\"] > 50)\n",
    "display(df_cloudycover)\n"
   ]
  },
  {
   "cell_type": "markdown",
   "metadata": {
    "application/vnd.databricks.v1+cell": {
     "cellMetadata": {},
     "inputWidgets": {},
     "nuid": "ba4b22bd-abd3-4f3f-a662-a4a404624593",
     "showTitle": false,
     "tableResultSettingsMap": {},
     "title": ""
    }
   },
   "source": [
    "**GROUPING DATA BY MONTH NAME FROM DATETIME COLUMN**"
   ]
  },
  {
   "cell_type": "code",
   "execution_count": 0,
   "metadata": {
    "application/vnd.databricks.v1+cell": {
     "cellMetadata": {
      "byteLimit": 2048000,
      "rowLimit": 10000
     },
     "inputWidgets": {},
     "nuid": "7935cc19-1c65-4f9a-80be-d4a42def7afb",
     "showTitle": false,
     "tableResultSettingsMap": {},
     "title": ""
    }
   },
   "outputs": [
    {
     "output_type": "display_data",
     "data": {
      "text/html": [
       "<style scoped>\n",
       "  .table-result-container {\n",
       "    max-height: 300px;\n",
       "    overflow: auto;\n",
       "  }\n",
       "  table, th, td {\n",
       "    border: 1px solid black;\n",
       "    border-collapse: collapse;\n",
       "  }\n",
       "  th, td {\n",
       "    padding: 5px;\n",
       "  }\n",
       "  th {\n",
       "    text-align: left;\n",
       "  }\n",
       "</style><div class='table-result-container'><table class='table-result'><thead style='background-color: white'><tr><th>Month</th><th>count</th></tr></thead><tbody><tr><td>April</td><td>40</td></tr></tbody></table></div>"
      ]
     },
     "metadata": {
      "application/vnd.databricks.v1+output": {
       "addedWidgets": {},
       "aggData": [],
       "aggError": "",
       "aggOverflow": false,
       "aggSchema": [],
       "aggSeriesLimitReached": false,
       "aggType": "",
       "arguments": {},
       "columnCustomDisplayInfos": {},
       "data": [
        [
         "April",
         40
        ]
       ],
       "datasetInfos": [],
       "dbfsResultPath": null,
       "isJsonSchema": true,
       "metadata": {},
       "overflow": false,
       "plotOptions": {
        "customPlotOptions": {},
        "displayType": "table",
        "pivotAggregation": null,
        "pivotColumns": null,
        "xColumns": null,
        "yColumns": null
       },
       "removedWidgets": [],
       "schema": [
        {
         "metadata": "{}",
         "name": "Month",
         "type": "\"string\""
        },
        {
         "metadata": "{}",
         "name": "count",
         "type": "\"long\""
        }
       ],
       "type": "table"
      }
     },
     "output_type": "display_data"
    }
   ],
   "source": [
    "from pyspark.sql.functions import date_format\n",
    "df_monthcount = df_spark.withColumn(\"Month\", date_format(\"Datetime\", \"MMMM\")) \\\n",
    "    .groupBy(\"Month\") \\\n",
    "    .count() \\\n",
    "    .orderBy(\"Month\")\n",
    "display(df_monthcount)"
   ]
  },
  {
   "cell_type": "code",
   "execution_count": 0,
   "metadata": {
    "application/vnd.databricks.v1+cell": {
     "cellMetadata": {
      "byteLimit": 2048000,
      "rowLimit": 10000
     },
     "inputWidgets": {},
     "nuid": "1493ae33-6f3c-4f6d-8435-44ad1bda3d45",
     "showTitle": false,
     "tableResultSettingsMap": {},
     "title": ""
    }
   },
   "outputs": [],
   "source": [
    "df_spark.write.mode(\"overwrite\").saveAsTable(\"weather_cleaned_data\")\n"
   ]
  },
  {
   "cell_type": "code",
   "execution_count": 0,
   "metadata": {
    "application/vnd.databricks.v1+cell": {
     "cellMetadata": {
      "byteLimit": 2048000,
      "implicitDf": true,
      "rowLimit": 10000
     },
     "inputWidgets": {},
     "nuid": "f41f649e-254b-4d4e-adab-f823b0fcb154",
     "showTitle": false,
     "tableResultSettingsMap": {},
     "title": ""
    }
   },
   "outputs": [
    {
     "output_type": "display_data",
     "data": {
      "text/html": [
       "<style scoped>\n",
       "  .table-result-container {\n",
       "    max-height: 300px;\n",
       "    overflow: auto;\n",
       "  }\n",
       "  table, th, td {\n",
       "    border: 1px solid black;\n",
       "    border-collapse: collapse;\n",
       "  }\n",
       "  th, td {\n",
       "    padding: 5px;\n",
       "  }\n",
       "  th {\n",
       "    text-align: left;\n",
       "  }\n",
       "</style><div class='table-result-container'><table class='table-result'><thead style='background-color: white'><tr><th>Datetime</th><th>Temperature</th><th>Wind_Speed</th><th>Cloud_Cover</th><th>Humidity</th><th>Weather_Description</th></tr></thead><tbody><tr><td>2025-04-04T12:00:00</td><td>71.1</td><td>7.2</td><td>88</td><td>92</td><td>Overcast clouds</td></tr><tr><td>2025-04-04T15:00:00</td><td>77.7</td><td>8.9</td><td>78</td><td>76</td><td>Overcast clouds</td></tr><tr><td>2025-04-04T18:00:00</td><td>84.9</td><td>8.9</td><td>45</td><td>57</td><td>Broken clouds</td></tr><tr><td>2025-04-04T21:00:00</td><td>88.0</td><td>8.1</td><td>43</td><td>48</td><td>Broken clouds</td></tr><tr><td>2025-04-05T00:00:00</td><td>80.4</td><td>3.6</td><td>48</td><td>62</td><td>Broken clouds</td></tr><tr><td>2025-04-05T03:00:00</td><td>74.8</td><td>4.5</td><td>38</td><td>81</td><td>Scattered clouds</td></tr><tr><td>2025-04-05T06:00:00</td><td>71.6</td><td>4.5</td><td>26</td><td>88</td><td>Scattered clouds</td></tr><tr><td>2025-04-05T09:00:00</td><td>68.2</td><td>5.4</td><td>63</td><td>95</td><td>Broken clouds</td></tr><tr><td>2025-04-05T12:00:00</td><td>67.8</td><td>6.3</td><td>81</td><td>95</td><td>Overcast clouds</td></tr><tr><td>2025-04-05T15:00:00</td><td>76.6</td><td>8.1</td><td>60</td><td>70</td><td>Broken clouds</td></tr><tr><td>2025-04-05T18:00:00</td><td>84.0</td><td>9.8</td><td>39</td><td>52</td><td>Scattered clouds</td></tr><tr><td>2025-04-05T21:00:00</td><td>86.0</td><td>10.7</td><td>38</td><td>45</td><td>Scattered clouds</td></tr><tr><td>2025-04-06T00:00:00</td><td>79.2</td><td>8.1</td><td>47</td><td>58</td><td>Broken clouds</td></tr><tr><td>2025-04-06T03:00:00</td><td>73.0</td><td>9.8</td><td>45</td><td>72</td><td>Broken clouds</td></tr><tr><td>2025-04-06T06:00:00</td><td>69.3</td><td>10.7</td><td>56</td><td>81</td><td>Broken clouds</td></tr><tr><td>2025-04-06T09:00:00</td><td>67.3</td><td>11.6</td><td>57</td><td>89</td><td>Broken clouds</td></tr><tr><td>2025-04-06T12:00:00</td><td>68.0</td><td>11.6</td><td>60</td><td>89</td><td>Broken clouds</td></tr><tr><td>2025-04-06T15:00:00</td><td>77.5</td><td>14.3</td><td>49</td><td>66</td><td>Broken clouds</td></tr><tr><td>2025-04-06T18:00:00</td><td>84.9</td><td>14.3</td><td>55</td><td>49</td><td>Broken clouds</td></tr><tr><td>2025-04-06T21:00:00</td><td>86.2</td><td>14.5</td><td>66</td><td>45</td><td>Broken clouds</td></tr><tr><td>2025-04-07T00:00:00</td><td>77.4</td><td>9.2</td><td>81</td><td>60</td><td>Overcast clouds</td></tr><tr><td>2025-04-07T03:00:00</td><td>71.4</td><td>10.7</td><td>83</td><td>74</td><td>Overcast clouds</td></tr><tr><td>2025-04-07T06:00:00</td><td>68.4</td><td>9.8</td><td>90</td><td>86</td><td>Overcast clouds</td></tr><tr><td>2025-04-07T09:00:00</td><td>66.6</td><td>8.9</td><td>94</td><td>91</td><td>Light shower rain</td></tr><tr><td>2025-04-07T12:00:00</td><td>65.3</td><td>8.9</td><td>91</td><td>95</td><td>Drizzle</td></tr><tr><td>2025-04-07T15:00:00</td><td>67.6</td><td>8.9</td><td>91</td><td>86</td><td>Light shower rain</td></tr><tr><td>2025-04-07T18:00:00</td><td>66.4</td><td>8.7</td><td>90</td><td>80</td><td>Light shower rain</td></tr><tr><td>2025-04-07T21:00:00</td><td>63.1</td><td>6.7</td><td>86</td><td>80</td><td>Light shower rain</td></tr><tr><td>2025-04-08T00:00:00</td><td>60.1</td><td>4.7</td><td>83</td><td>80</td><td>Light shower rain</td></tr><tr><td>2025-04-08T03:00:00</td><td>56.1</td><td>4.6</td><td>78</td><td>78</td><td>Light shower rain</td></tr><tr><td>2025-04-08T06:00:00</td><td>52.2</td><td>4.5</td><td>74</td><td>77</td><td>Overcast clouds</td></tr><tr><td>2025-04-08T09:00:00</td><td>49.8</td><td>5.8</td><td>43</td><td>74</td><td>Broken clouds</td></tr><tr><td>2025-04-08T12:00:00</td><td>47.7</td><td>7.2</td><td>12</td><td>71</td><td>Few clouds</td></tr><tr><td>2025-04-08T15:00:00</td><td>52.3</td><td>8.4</td><td>8</td><td>54</td><td>Few clouds</td></tr><tr><td>2025-04-08T18:00:00</td><td>57.0</td><td>9.6</td><td>4</td><td>36</td><td>Few clouds</td></tr><tr><td>2025-04-08T21:00:00</td><td>54.5</td><td>6.7</td><td>3</td><td>40</td><td>Few clouds</td></tr><tr><td>2025-04-09T00:00:00</td><td>52.0</td><td>3.8</td><td>2</td><td>44</td><td>Few clouds</td></tr><tr><td>2025-04-09T03:00:00</td><td>46.8</td><td>3.7</td><td>2</td><td>53</td><td>Few clouds</td></tr><tr><td>2025-04-09T06:00:00</td><td>41.5</td><td>3.6</td><td>1</td><td>62</td><td>Clear Sky</td></tr><tr><td>2025-04-09T09:00:00</td><td>39.9</td><td>3.6</td><td>2</td><td>66</td><td>Few clouds</td></tr></tbody></table></div>"
      ]
     },
     "metadata": {
      "application/vnd.databricks.v1+output": {
       "addedWidgets": {},
       "aggData": [],
       "aggError": "",
       "aggOverflow": false,
       "aggSchema": [],
       "aggSeriesLimitReached": false,
       "aggType": "",
       "arguments": {},
       "columnCustomDisplayInfos": {},
       "data": [
        [
         "2025-04-04T12:00:00",
         71.1,
         7.2,
         88,
         92,
         "Overcast clouds"
        ],
        [
         "2025-04-04T15:00:00",
         77.7,
         8.9,
         78,
         76,
         "Overcast clouds"
        ],
        [
         "2025-04-04T18:00:00",
         84.9,
         8.9,
         45,
         57,
         "Broken clouds"
        ],
        [
         "2025-04-04T21:00:00",
         88.0,
         8.1,
         43,
         48,
         "Broken clouds"
        ],
        [
         "2025-04-05T00:00:00",
         80.4,
         3.6,
         48,
         62,
         "Broken clouds"
        ],
        [
         "2025-04-05T03:00:00",
         74.8,
         4.5,
         38,
         81,
         "Scattered clouds"
        ],
        [
         "2025-04-05T06:00:00",
         71.6,
         4.5,
         26,
         88,
         "Scattered clouds"
        ],
        [
         "2025-04-05T09:00:00",
         68.2,
         5.4,
         63,
         95,
         "Broken clouds"
        ],
        [
         "2025-04-05T12:00:00",
         67.8,
         6.3,
         81,
         95,
         "Overcast clouds"
        ],
        [
         "2025-04-05T15:00:00",
         76.6,
         8.1,
         60,
         70,
         "Broken clouds"
        ],
        [
         "2025-04-05T18:00:00",
         84.0,
         9.8,
         39,
         52,
         "Scattered clouds"
        ],
        [
         "2025-04-05T21:00:00",
         86.0,
         10.7,
         38,
         45,
         "Scattered clouds"
        ],
        [
         "2025-04-06T00:00:00",
         79.2,
         8.1,
         47,
         58,
         "Broken clouds"
        ],
        [
         "2025-04-06T03:00:00",
         73.0,
         9.8,
         45,
         72,
         "Broken clouds"
        ],
        [
         "2025-04-06T06:00:00",
         69.3,
         10.7,
         56,
         81,
         "Broken clouds"
        ],
        [
         "2025-04-06T09:00:00",
         67.3,
         11.6,
         57,
         89,
         "Broken clouds"
        ],
        [
         "2025-04-06T12:00:00",
         68.0,
         11.6,
         60,
         89,
         "Broken clouds"
        ],
        [
         "2025-04-06T15:00:00",
         77.5,
         14.3,
         49,
         66,
         "Broken clouds"
        ],
        [
         "2025-04-06T18:00:00",
         84.9,
         14.3,
         55,
         49,
         "Broken clouds"
        ],
        [
         "2025-04-06T21:00:00",
         86.2,
         14.5,
         66,
         45,
         "Broken clouds"
        ],
        [
         "2025-04-07T00:00:00",
         77.4,
         9.2,
         81,
         60,
         "Overcast clouds"
        ],
        [
         "2025-04-07T03:00:00",
         71.4,
         10.7,
         83,
         74,
         "Overcast clouds"
        ],
        [
         "2025-04-07T06:00:00",
         68.4,
         9.8,
         90,
         86,
         "Overcast clouds"
        ],
        [
         "2025-04-07T09:00:00",
         66.6,
         8.9,
         94,
         91,
         "Light shower rain"
        ],
        [
         "2025-04-07T12:00:00",
         65.3,
         8.9,
         91,
         95,
         "Drizzle"
        ],
        [
         "2025-04-07T15:00:00",
         67.6,
         8.9,
         91,
         86,
         "Light shower rain"
        ],
        [
         "2025-04-07T18:00:00",
         66.4,
         8.7,
         90,
         80,
         "Light shower rain"
        ],
        [
         "2025-04-07T21:00:00",
         63.1,
         6.7,
         86,
         80,
         "Light shower rain"
        ],
        [
         "2025-04-08T00:00:00",
         60.1,
         4.7,
         83,
         80,
         "Light shower rain"
        ],
        [
         "2025-04-08T03:00:00",
         56.1,
         4.6,
         78,
         78,
         "Light shower rain"
        ],
        [
         "2025-04-08T06:00:00",
         52.2,
         4.5,
         74,
         77,
         "Overcast clouds"
        ],
        [
         "2025-04-08T09:00:00",
         49.8,
         5.8,
         43,
         74,
         "Broken clouds"
        ],
        [
         "2025-04-08T12:00:00",
         47.7,
         7.2,
         12,
         71,
         "Few clouds"
        ],
        [
         "2025-04-08T15:00:00",
         52.3,
         8.4,
         8,
         54,
         "Few clouds"
        ],
        [
         "2025-04-08T18:00:00",
         57.0,
         9.6,
         4,
         36,
         "Few clouds"
        ],
        [
         "2025-04-08T21:00:00",
         54.5,
         6.7,
         3,
         40,
         "Few clouds"
        ],
        [
         "2025-04-09T00:00:00",
         52.0,
         3.8,
         2,
         44,
         "Few clouds"
        ],
        [
         "2025-04-09T03:00:00",
         46.8,
         3.7,
         2,
         53,
         "Few clouds"
        ],
        [
         "2025-04-09T06:00:00",
         41.5,
         3.6,
         1,
         62,
         "Clear Sky"
        ],
        [
         "2025-04-09T09:00:00",
         39.9,
         3.6,
         2,
         66,
         "Few clouds"
        ]
       ],
       "datasetInfos": [],
       "dbfsResultPath": null,
       "isJsonSchema": true,
       "metadata": {},
       "overflow": false,
       "plotOptions": {
        "customPlotOptions": {},
        "displayType": "table",
        "pivotAggregation": null,
        "pivotColumns": null,
        "xColumns": null,
        "yColumns": null
       },
       "removedWidgets": [],
       "schema": [
        {
         "metadata": "{}",
         "name": "Datetime",
         "type": "\"string\""
        },
        {
         "metadata": "{}",
         "name": "Temperature",
         "type": "\"float\""
        },
        {
         "metadata": "{}",
         "name": "Wind_Speed",
         "type": "\"float\""
        },
        {
         "metadata": "{}",
         "name": "Cloud_Cover",
         "type": "\"integer\""
        },
        {
         "metadata": "{}",
         "name": "Humidity",
         "type": "\"integer\""
        },
        {
         "metadata": "{}",
         "name": "Weather_Description",
         "type": "\"string\""
        }
       ],
       "type": "table"
      }
     },
     "output_type": "display_data"
    }
   ],
   "source": [
    "%sql\n",
    "select * from weather_cleaned_data"
   ]
  }
 ],
 "metadata": {
  "application/vnd.databricks.v1+notebook": {
   "computePreferences": null,
   "dashboards": [],
   "environmentMetadata": {
    "base_environment": "",
    "environment_version": "1"
   },
   "inputWidgetPreferences": null,
   "language": "python",
   "notebookMetadata": {
    "mostRecentlyExecutedCommandWithImplicitDF": {
     "commandId": 4497824230223280,
     "dataframes": [
      "_sqldf"
     ]
    },
    "pythonIndentUnit": 4
   },
   "notebookName": "From API to Insight: Weather Data with PySpark",
   "widgets": {}
  }
 },
 "nbformat": 4,
 "nbformat_minor": 0
}